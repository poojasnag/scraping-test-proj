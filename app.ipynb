{
 "cells": [
  {
   "cell_type": "code",
   "execution_count": 2,
   "metadata": {},
   "outputs": [],
   "source": [
    "from selenium import webdriver\n",
    "from selenium.webdriver.chrome.service import Service\n",
    "from selenium.webdriver.chrome.options import Options\n",
    "from selenium.webdriver.common.by import By\n",
    "from bs4 import BeautifulSoup\n",
    "import time"
   ]
  },
  {
   "cell_type": "code",
   "execution_count": 3,
   "metadata": {},
   "outputs": [
    {
     "name": "stdout",
     "output_type": "stream",
     "text": [
      "hello!\n",
      "4.28.1\n"
     ]
    }
   ],
   "source": [
    "print('hello!')\n",
    "print(webdriver.__version__)\n",
    "\n",
    "DRIVER_PATH = '../../Downloads/chromedriver-mac-arm64/chrome/mac_arm-131.0.6778.267/chrome-mac-arm64/Google Chrome for Testing.app'\n",
    "options = Options()\n",
    "\n",
    "# options.add_argument('--headless')  # Optional, run Chrome in headless mode (no UI)\n",
    "service = Service('../../Downloads/chromedriver-mac-arm64/chromedriver')  # Adjust path to the driver\n",
    "\n",
    "driver = webdriver.Chrome(service=service, options=options)\n",
    "# driver.get(\"https://www.python.org\")\n",
    "url = \"https://www.amazon.sg/PUMA-Teamgoal-Unisex-Knitted-Shorts/dp/B0C3RRYHC6/ref=sr_1_1?content-id=amzn1.sym.5e505bc2-b07e-47e6-b40c-4822c9c12b88&dib=eyJ2IjoiMSJ9.AgxcRJGeI7JlvMuj6Ma1lTMCvEi-oQO_oCBethE0E2_vhYaZNuP4fbAEFfM3adDKYparfeC1MK7PJoPC9n8RTDWzOX3PhUQLn6yuZ64tHZeXpLa_L_mrrAy2IDMgK-u1fjA3UgqbTXDhS40UWQ20NQ7pd-SYT0xuXJbNQsPeqhmzLUECexy1c96RaqRASZeK40TF8503zTvbXBU1JylTYOaS0Nf6QrJVR3l6MD4dxdE7UKAwLVH_3c4NtUKgtK_AqPD4up07FVfCDaT51dCQfg-k8HICtEOt-lmV3rAo5Xf3D6b-zo7mbuGU4Q3RIkyvb3g8OsGTGs2bETQmgNacqnVeppQ-UksVmjXTbqKbY8xB4Mo2iKs08v0yIy1ORYMoom3LS9b-WSbOSjxL-g5oTIzBKGkstoX3MJsY04BqG_Wu4KkVHEHl7Na9mkMTC1ii.M2TI6e39RiYtwHL-Yygsaf3GMi2WAlK5tyVWYooV6_s&dib_tag=se&m=AYH85219XLWXU&pd_rd_r=0c6cde10-08d8-489b-96fd-b43162f8c19e&pd_rd_w=9ZaaW&pd_rd_wg=2h50f&qid=1737724722&refinements=p_6%3AAYH85219XLWXU&s=fashion&sr=1-1\"\n",
    "driver.get(url)\n",
    "time.sleep(3)\n",
    "html_source = driver.page_source\n",
    "soup = BeautifulSoup(html_source, 'html.parser')"
   ]
  },
  {
   "cell_type": "code",
   "execution_count": 4,
   "metadata": {},
   "outputs": [],
   "source": [
    "level1_div = soup.find('div', id = 'dp')\n",
    "level2_div = level1_div.find('div', id = 'dp-container')\n",
    "lvl3_div = level2_div.find('div', id = 'ppd')\n",
    "# lvl4_div = lvl3_div.find('div', id = 'a-row')\n",
    "lvl5_div = lvl3_div.find('div', id = 'leftCol')\n",
    "lvl6_div = lvl5_div.find('div', id = 'imageBlock_feature_div')\n",
    "lvl7_div = lvl6_div.find('div', id = 'imageBlock')\n",
    "lvl8_div = lvl7_div.find('div', id = 'main-image-container')\n",
    "lvl9_div = lvl8_div.find('div', id = 'imgTagWrapperId')"
   ]
  },
  {
   "cell_type": "code",
   "execution_count": 29,
   "metadata": {},
   "outputs": [
    {
     "data": {
      "text/plain": [
       "'https://m.media-amazon.com/images/I/511-VOherpL._AC_SX679_.jpg'"
      ]
     },
     "execution_count": 29,
     "metadata": {},
     "output_type": "execute_result"
    }
   ],
   "source": [
    "soup.find('img', id = 'landingImage').get('src')"
   ]
  },
  {
   "cell_type": "code",
   "execution_count": 12,
   "metadata": {},
   "outputs": [],
   "source": [
    "lvl10_div = lvl9_div.find('img')"
   ]
  },
  {
   "cell_type": "code",
   "execution_count": 21,
   "metadata": {},
   "outputs": [
    {
     "name": "stdout",
     "output_type": "stream",
     "text": [
      "<img alt=\"PUMA Teamgoal Unisex Knitted Shorts Jr\" class=\"a-dynamic-image a-stretch-horizontal\" data-a-dynamic-image='{\"https://m.media-amazon.com/images/I/511-VOherpL._AC_SX342_.jpg\":[342,342],\"https://m.media-amazon.com/images/I/511-VOherpL._AC_SX679_.jpg\":[679,679],\"https://m.media-amazon.com/images/I/511-VOherpL._AC_SX522_.jpg\":[522,522],\"https://m.media-amazon.com/images/I/511-VOherpL._AC_SX385_.jpg\":[385,385],\"https://m.media-amazon.com/images/I/511-VOherpL._AC_SX569_.jpg\":[569,569],\"https://m.media-amazon.com/images/I/511-VOherpL._AC_SX466_.jpg\":[466,466],\"https://m.media-amazon.com/images/I/511-VOherpL._AC_SX425_.jpg\":[425,425]}' data-a-image-name=\"landingImage\" data-old-hires=\"https://m.media-amazon.com/images/I/511-VOherpL._AC_SL1500_.jpg\" id=\"landingImage\" onload=\"markFeatureRenderForImageBlock(); if(this.width/this.height &gt; 0.77){this.className += ' a-stretch-horizontal'}else{this.className += ' a-stretch-vertical'};this.onload='';setCSMReq('af');if(typeof addlongPoleTag === 'function'){ addlongPoleTag('af','desktop-image-atf-marker');};setCSMReq('cf')\" src=\"https://m.media-amazon.com/images/I/511-VOherpL._AC_SX679_.jpg\" style=\"max-width: 546px; max-height: 539.614px;\"/>\n",
      "\n"
     ]
    }
   ],
   "source": [
    "print(lvl10_div.prettify())"
   ]
  },
  {
   "cell_type": "code",
   "execution_count": 27,
   "metadata": {},
   "outputs": [
    {
     "data": {
      "text/plain": [
       "'https://m.media-amazon.com/images/I/511-VOherpL._AC_SX679_.jpg'"
      ]
     },
     "execution_count": 27,
     "metadata": {},
     "output_type": "execute_result"
    }
   ],
   "source": [
    "img_url = lvl10_div.get('src')\n",
    "img_url"
   ]
  },
  {
   "cell_type": "code",
   "execution_count": 34,
   "metadata": {},
   "outputs": [
    {
     "data": {
      "text/plain": [
       "'https://m.media-amazon.com/images/I/511-VOherpL._AC_SX679_.jpg'"
      ]
     },
     "execution_count": 34,
     "metadata": {},
     "output_type": "execute_result"
    }
   ],
   "source": [
    "# IMAGE URL \n",
    "soup.find('img', id = 'landingImage').get('src')"
   ]
  },
  {
   "cell_type": "code",
   "execution_count": 33,
   "metadata": {},
   "outputs": [
    {
     "data": {
      "text/plain": [
       "'PUMA Teamgoal Unisex Knitted Shorts Jr'"
      ]
     },
     "execution_count": 33,
     "metadata": {},
     "output_type": "execute_result"
    }
   ],
   "source": [
    "# TITLE\n",
    "(soup.find('span', id = 'productTitle').contents)[0].strip()"
   ]
  },
  {
   "cell_type": "code",
   "execution_count": 46,
   "metadata": {},
   "outputs": [
    {
     "data": {
      "text/plain": [
       "'4.7'"
      ]
     },
     "execution_count": 46,
     "metadata": {},
     "output_type": "execute_result"
    }
   ],
   "source": [
    "# RATING \n",
    "soup.find('div', id = 'averageCustomerReviews').findAll('span')[3].contents[0].strip()"
   ]
  },
  {
   "cell_type": "code",
   "execution_count": 49,
   "metadata": {},
   "outputs": [
    {
     "data": {
      "text/plain": [
       "'\\n  Price:  S$25.44S$25.44 - S$28.09S$28.09  \\n\\n\\n\\n\\n\\n \\n\\n \\n\\n\\n\\n\\n\\n   '"
      ]
     },
     "execution_count": 49,
     "metadata": {},
     "output_type": "execute_result"
    }
   ],
   "source": [
    "# PRICE \n",
    "soup.find('div', id = 'corePrice_desktop').text"
   ]
  },
  {
   "cell_type": "code",
   "execution_count": 59,
   "metadata": {},
   "outputs": [
    {
     "name": "stdout",
     "output_type": "stream",
     "text": [
      "['S$25.44', 'S$28.09']\n"
     ]
    }
   ],
   "source": [
    "price_span_list = soup.find('div', id = 'corePrice_desktop').findAll('span', class_ = 'a-offscreen')\n",
    "price_list = []\n",
    "for price_span in price_span_list:\n",
    "    price_list.append(price_span.get_text())\n",
    "print(price_list)"
   ]
  },
  {
   "cell_type": "code",
   "execution_count": 24,
   "metadata": {},
   "outputs": [
    {
     "name": "stdout",
     "output_type": "stream",
     "text": [
      "None\n"
     ]
    }
   ],
   "source": [
    "print(lvl11)"
   ]
  },
  {
   "cell_type": "code",
   "execution_count": 65,
   "metadata": {},
   "outputs": [
    {
     "data": {
      "text/plain": [
       "'Brand: PUMA'"
      ]
     },
     "execution_count": 65,
     "metadata": {},
     "output_type": "execute_result"
    }
   ],
   "source": [
    "# brand\n",
    "soup.find('div', id = 'titleBlockLeftSection').getText().strip()"
   ]
  },
  {
   "cell_type": "code",
   "execution_count": 87,
   "metadata": {},
   "outputs": [
    {
     "name": "stdout",
     "output_type": "stream",
     "text": [
      "['Fashion', 'Boys', 'Clothing', 'Sportswear', 'Shorts']\n"
     ]
    }
   ],
   "source": [
    "#categ \n",
    "li_component_list = soup.find('div', id ='wayfinding-breadcrumbs_container').findAll('li')\n",
    "categ_list = []\n",
    "for li_component in li_component_list:\n",
    "    if not li_component.find('span', class_ = 'a-list-item a-color-tertiary'):\n",
    "        categ_list.append(li_component.getText().strip())\n",
    "print(categ_list)"
   ]
  },
  {
   "cell_type": "code",
   "execution_count": null,
   "metadata": {},
   "outputs": [],
   "source": [
    "# category, add to cart link , review count"
   ]
  },
  {
   "cell_type": "code",
   "execution_count": null,
   "metadata": {},
   "outputs": [
    {
     "name": "stdout",
     "output_type": "stream",
     "text": [
      "<img alt=\"PUMA Teamgoal Unisex Knitted Shorts Jr\" class=\"a-dynamic-image a-stretch-horizontal\" data-a-dynamic-image='{\"https://m.media-amazon.com/images/I/511-VOherpL._AC_SX342_.jpg\":[342,342],\"https://m.media-amazon.com/images/I/511-VOherpL._AC_SX679_.jpg\":[679,679],\"https://m.media-amazon.com/images/I/511-VOherpL._AC_SX522_.jpg\":[522,522],\"https://m.media-amazon.com/images/I/511-VOherpL._AC_SX385_.jpg\":[385,385],\"https://m.media-amazon.com/images/I/511-VOherpL._AC_SX569_.jpg\":[569,569],\"https://m.media-amazon.com/images/I/511-VOherpL._AC_SX466_.jpg\":[466,466],\"https://m.media-amazon.com/images/I/511-VOherpL._AC_SX425_.jpg\":[425,425]}' data-a-image-name=\"landingImage\" data-old-hires=\"https://m.media-amazon.com/images/I/511-VOherpL._AC_SL1500_.jpg\" id=\"landingImage\" onload=\"markFeatureRenderForImageBlock(); if(this.width/this.height &gt; 0.77){this.className += ' a-stretch-horizontal'}else{this.className += ' a-stretch-vertical'};this.onload='';setCSMReq('af');if(typeof addlongPoleTag === 'function'){ addlongPoleTag('af','desktop-image-atf-marker');};setCSMReq('cf')\" src=\"https://m.media-amazon.com/images/I/511-VOherpL._AC_SX679_.jpg\" style=\"max-width: 546px; max-height: 539.614px;\"/>\n",
      "\n"
     ]
    }
   ],
   "source": [
    "print(lvl10_div.prettify())"
   ]
  },
  {
   "cell_type": "code",
   "execution_count": 5,
   "metadata": {},
   "outputs": [
    {
     "name": "stdout",
     "output_type": "stream",
     "text": [
      "image url:  None\n"
     ]
    }
   ],
   "source": [
    "if lvl9_div:\n",
    "    # print(\"level 9 : \"+ lvl9_div)\n",
    "    img_component = lvl9_div.find('img', string='src')\n",
    "    img_url = lvl9_div.select_one('img[src]')\n",
    "    # print(\"Image URL:\", lvl9_div['src'])\n",
    "    print(\"image url: \", img_component)"
   ]
  },
  {
   "cell_type": "code",
   "execution_count": null,
   "metadata": {},
   "outputs": [],
   "source": [
    "print(driver.title)\n"
   ]
  },
  {
   "cell_type": "code",
   "execution_count": null,
   "metadata": {},
   "outputs": [],
   "source": [
    "item_list = []"
   ]
  },
  {
   "cell_type": "code",
   "execution_count": 60,
   "metadata": {},
   "outputs": [
    {
     "name": "stdout",
     "output_type": "stream",
     "text": [
      "[{'title': 'PUMA Teamgoal Unisex Knitted Shorts Jr', 'rating': '4.7', 'img_url': 'https://m.media-amazon.com/images/I/511-VOherpL._AC_SX679_.jpg', 'price': 'price_list'}]\n"
     ]
    }
   ],
   "source": [
    "item_dict = {}\n",
    "item_dict['item_url'] = url\n",
    "item_dict['title'] = (soup.find('span', id = 'productTitle').contents)[0].strip()\n",
    "item_dict['rating'] = soup.find('div', id = 'averageCustomerReviews').findAll('span')[3].contents[0].strip()\n",
    "item_dict['img_url'] = soup.find('img', id = 'landingImage').get('src')\n",
    "\n",
    "price_span_list = soup.find('div', id = 'corePrice_desktop').findAll('span', class_ = 'a-offscreen')\n",
    "price_list = []\n",
    "for price_span in price_span_list:\n",
    "    price_list.append(price_span.get_text())\n",
    "item_dict['price'] = 'price_list'\n",
    "\n",
    "item_dict['brand'] = soup.find('div', id = 'titleBlockLeftSection').getText().strip()\n",
    "\n",
    "categs_component_list = soup.find('div', id ='wayfinding-breadcrumbs_container').findAll('li')\n",
    "categ_list = []\n",
    "for li_component in categs_component_list:\n",
    "    if not li_component.find('span', class_ = 'a-list-item a-color-tertiary'):\n",
    "        categ_list.append(li_component.getText().strip())\n",
    "item_dict['category_heirarchy'] = categ_list\n",
    "\n",
    "item_list.append(item_dict)\n",
    "print(item_list)"
   ]
  },
  {
   "cell_type": "code",
   "execution_count": null,
   "metadata": {},
   "outputs": [],
   "source": [
    "# write to dict "
   ]
  },
  {
   "cell_type": "code",
   "execution_count": 133,
   "metadata": {},
   "outputs": [],
   "source": [
    "# URLS \n",
    "# Fashion - \"https://www.amazon.sg/s?rh=n%3A6315239051%2Cp_6%3AAYH85219XLWXU&content-id=amzn1.sym.5e505bc2-b07e-47e6-b40c-4822c9c12b88&pd_rd_r=0c6cde10-08d8-489b-96fd-b43162f8c19e&pd_rd_w=9ZaaW&pd_rd_wg=2h50f&pf_rd_p=5e505bc2-b07e-47e6-b40c-4822c9c12b88&pf_rd_r=Q6G2FDQW1EQ7E6YXS4XR\"\n",
    "# Electronics - \"https://www.amazon.sg/s?rh=n%3A6314449051%2Cp_6%3AAYH85219XLWXU&content-id=amzn1.sym.5e505bc2-b07e-47e6-b40c-4822c9c12b88&pd_rd_r=0c6cde10-08d8-489b-96fd-b43162f8c19e&pd_rd_w=9ZaaW&pd_rd_wg=2h50f&pf_rd_p=5e505bc2-b07e-47e6-b40c-4822c9c12b88&pf_rd_r=Q6G2FDQW1EQ7E6YXS4XR\"\n",
    "# Electronics (Pg 2) - \"https://www.amazon.sg/s?i=electronics&rh=n%3A6314449051%2Cp_6%3AAYH85219XLWXU&page=2&content-id=amzn1.sym.5e505bc2-b07e-47e6-b40c-4822c9c12b88&pd_rd_r=0c6cde10-08d8-489b-96fd-b43162f8c19e&pd_rd_w=9ZaaW&pd_rd_wg=2h50f&qid=1737740415&xpid=GZnq29GD5hvgv&ref=sr_pg_2\""
   ]
  },
  {
   "cell_type": "code",
   "execution_count": 137,
   "metadata": {},
   "outputs": [],
   "source": [
    "# query from amazon\n",
    "driver = webdriver.Chrome(service=service, options=options)\n",
    "search_url = \"https://www.amazon.sg/s?i=electronics&rh=n%3A6314449051%2Cp_6%3AAYH85219XLWXU&page=2&content-id=amzn1.sym.5e505bc2-b07e-47e6-b40c-4822c9c12b88&pd_rd_r=0c6cde10-08d8-489b-96fd-b43162f8c19e&pd_rd_w=9ZaaW&pd_rd_wg=2h50f&qid=1737740415&xpid=GZnq29GD5hvgv&ref=sr_pg_2\"\n",
    "driver.get(search_url)\n",
    "time.sleep(3)\n",
    "search_html_source = driver.page_source\n",
    "search_soup = BeautifulSoup(search_html_source, 'html.parser')\n",
    "search_span_element = search_soup.find('span', {'data-component-type': 's-search-results'})"
   ]
  },
  {
   "cell_type": "code",
   "execution_count": 138,
   "metadata": {},
   "outputs": [],
   "source": [
    "search_results_pg2 =  search_span_element.findAll('div', {'role': 'listitem'})"
   ]
  },
  {
   "cell_type": "code",
   "execution_count": 135,
   "metadata": {},
   "outputs": [],
   "source": [
    "search_results = search_span_element.findAll('div', {'role': 'listitem'})\n",
    "# check for the id, if present, skip"
   ]
  },
  {
   "cell_type": "code",
   "execution_count": 143,
   "metadata": {},
   "outputs": [
    {
     "data": {
      "text/plain": [
       "24"
      ]
     },
     "execution_count": 143,
     "metadata": {},
     "output_type": "execute_result"
    }
   ],
   "source": [
    "len(search_results_pg2)"
   ]
  },
  {
   "cell_type": "code",
   "execution_count": 95,
   "metadata": {},
   "outputs": [],
   "source": [
    "search_result = search_results[0]"
   ]
  },
  {
   "cell_type": "code",
   "execution_count": 172,
   "metadata": {},
   "outputs": [
    {
     "ename": "NameError",
     "evalue": "name 'k' is not defined",
     "output_type": "error",
     "traceback": [
      "\u001b[0;31m---------------------------------------------------------------------------\u001b[0m",
      "\u001b[0;31mNameError\u001b[0m                                 Traceback (most recent call last)",
      "Cell \u001b[0;32mIn[172], line 1\u001b[0m\n\u001b[0;32m----> 1\u001b[0m \u001b[43mk\u001b[49m\n",
      "\u001b[0;31mNameError\u001b[0m: name 'k' is not defined"
     ]
    }
   ],
   "source": [
    "k"
   ]
  },
  {
   "cell_type": "code",
   "execution_count": 103,
   "metadata": {},
   "outputs": [
    {
     "data": {
      "text/plain": [
       "'https://www.amazon.sg/Steve-Madden-Bevelyn-Convertible-Crossbody/dp/B0CQKKRH4M/ref=sr_1_1?content-id=amzn1.sym.5e505bc2-b07e-47e6-b40c-4822c9c12b88&dib=eyJ2IjoiMSJ9.bzAOnQw30-4PBRgODFePKQY5Q45ezvfjAH6UPSvhO4BqdvNNLgqT99l9Mub8cCX5M-fU1RNUy7hI7qcu_ENczLdYwURDCWqFKKHOBNbjTtKYd5OlalxaHi4LZEOb5snWfjA3UgqbTXDhS40UWQ20NaFPvQNaazjD2H04Y-3W6-TKxLiHgtbV95VCgF_xn5AQ0admZHXH0r1u8DFwEq_RyxKththIqSsmQKKhVbatWmSzxGtffdscuYhZKX8_R58ZH6nrCKfdz2ggdNUqLq_4bxYBPGmKNT2C6RcFW89Ws27n8s0UcSAfh8sf43PYAnaezC4x3ufvApQxNN_gzG6sf37rh9QwtwUt_5XlsjrMb_MVNov06iSk4iSE-NQrP5-EePKP1WKMyXR9DbOGW2dFr-uG-dR9BG0ZHz84mfiwHjXi7LQKFwRJzrr4agX2QuYL.B4nvd0mTIuxeviwIyqyB-oo2nXGaJ62sQ05xrHfO1T0&dib_tag=se&m=AYH85219XLWXU&pd_rd_r=0c6cde10-08d8-489b-96fd-b43162f8c19e&pd_rd_w=9ZaaW&pd_rd_wg=2h50f&qid=1737737752&refinements=p_6%3AAYH85219XLWXU&s=fashion&sr=1-1'"
      ]
     },
     "execution_count": 103,
     "metadata": {},
     "output_type": "execute_result"
    }
   ],
   "source": [
    "item_spec_url = 'https://www.amazon.sg'+search_result.find('div', class_ = 's-image-padding').find('a', class_ = 'a-link-normal s-no-outline')['href']\n",
    "item_spec_url"
   ]
  },
  {
   "cell_type": "code",
   "execution_count": 141,
   "metadata": {},
   "outputs": [],
   "source": [
    "search_result_lists = search_results +search_results_pg2"
   ]
  },
  {
   "cell_type": "code",
   "execution_count": 152,
   "metadata": {},
   "outputs": [
    {
     "data": {
      "text/plain": [
       "'/Kobo-SleepCover-Technology-Compatible-N428-AC-SB-N-PU/dp/B0D1GQ25NW/ref=sr_1_1?content-id=amzn1.sym.5e505bc2-b07e-47e6-b40c-4822c9c12b88&dib=eyJ2IjoiMSJ9.fW18QFEh4EoIkx2ZY3bjS1qEz7xxPgP6YXcq5DmNIXREXt6GTXWadGApS57qBplIaqrkrlCW7xdUsa4cvgmUGeLo8_4Uj4PcKljOhuhi5LJDdNGcSVvD4K0bV2ibmLTILOWFnngbdNe66hsRNo-2io0kresTyBl8W3-XmYgvcP7vcUuCSruoDYbfWrAI7Cbp_2Rh9NcyTy5TIPDr7eAsWJQyYMZSy3vX6thCBo1i-ub6f5s9Sob0VumRx0Ye-HfnIJKbhMYICGNNASONVFN6PhsspySV_4NFi2UvL04mqGkCx8Q0_yN8VZ8T3SLMzgDNsaIClMw6XGIBYKVirWvJ1ETNY3wYjj50FZNk1gpTvcM.-jAnSI_VOknPQ6McP4rjw2qsg-xt6OzgjxE62L4_oAY&dib_tag=se&m=AYH85219XLWXU&pd_rd_r=0c6cde10-08d8-489b-96fd-b43162f8c19e&pd_rd_w=9ZaaW&pd_rd_wg=2h50f&qid=1737740415&refinements=p_6%3AAYH85219XLWXU&s=electronics&sr=1-1'"
      ]
     },
     "execution_count": 152,
     "metadata": {},
     "output_type": "execute_result"
    }
   ],
   "source": [
    "search_result.find('span', {'data-component-type':'s-product-image'}).find('a', class_ = 'a-link-normal s-no-outline')['href']"
   ]
  },
  {
   "cell_type": "code",
   "execution_count": 154,
   "metadata": {},
   "outputs": [
    {
     "name": "stdout",
     "output_type": "stream",
     "text": [
      "1\n",
      "2\n",
      "3\n",
      "4\n",
      "5\n",
      "6\n",
      "7\n",
      "8\n",
      "9\n",
      "10\n",
      "11\n",
      "12\n",
      "13\n",
      "14\n",
      "15\n",
      "16\n",
      "17\n",
      "18\n",
      "19\n",
      "20\n",
      "21\n",
      "22\n",
      "23\n",
      "24\n",
      "25\n",
      "26\n",
      "27\n",
      "28\n",
      "29\n",
      "30\n",
      "31\n",
      "32\n",
      "33\n",
      "34\n",
      "35\n",
      "36\n",
      "37\n",
      "38\n",
      "39\n",
      "40\n",
      "41\n",
      "42\n",
      "43\n",
      "44\n",
      "45\n",
      "46\n",
      "47\n",
      "48\n"
     ]
    }
   ],
   "source": [
    "j = 0\n",
    "item_spec_url_list = []\n",
    "for search_result in search_result_lists:\n",
    "    j = j + 1\n",
    "    print(j)\n",
    "    try:\n",
    "        url_to_add_to_item_spec_url_list = 'https://www.amazon.sg'+search_result.find('div', class_ = 's-image-padding').find('a', class_ = 'a-link-normal s-no-outline')['href']\n",
    "    except: \n",
    "        url_to_add_to_item_spec_url_list = 'https://www.amazon.sg'+search_result.find('span', {'data-component-type':'s-product-image'}).find('a', class_ = 'a-link-normal s-no-outline')['href']\n",
    "    item_spec_url_list.append(url_to_add_to_item_spec_url_list)"
   ]
  },
  {
   "cell_type": "code",
   "execution_count": 155,
   "metadata": {},
   "outputs": [],
   "source": [
    "item_list = []"
   ]
  },
  {
   "cell_type": "code",
   "execution_count": 156,
   "metadata": {},
   "outputs": [],
   "source": [
    "i = 0"
   ]
  },
  {
   "cell_type": "code",
   "execution_count": 158,
   "metadata": {},
   "outputs": [
    {
     "name": "stdout",
     "output_type": "stream",
     "text": [
      "0 {'item_url': 'https://www.amazon.sg/Kobo-SleepCover-Technology-Compatible-N428-AC-SB-N-PU/dp/B0D1GQ25NW/ref=sr_1_1?content-id=amzn1.sym.5e505bc2-b07e-47e6-b40c-4822c9c12b88&dib=eyJ2IjoiMSJ9.fW18QFEh4EoIkx2ZY3bjS1qEz7xxPgP6YXcq5DmNIXREXt6GTXWadGApS57qBplIaqrkrlCW7xdUsa4cvgmUGeLo8_4Uj4PcKljOhuhi5LJDdNGcSVvD4K0bV2ibmLTILOWFnngbdNe66hsRNo-2io0kresTyBl8W3-XmYgvcP7vcUuCSruoDYbfWrAI7Cbp_2Rh9NcyTy5TIPDr7eAsWJQyYMZSy3vX6thCBo1i-ub6f5s9Sob0VumRx0Ye-HfnIJKbhMYICGNNASONVFN6PhsspySV_4NFi2UvL04mqGkCx8Q0_yN8VZ8T3SLMzgDNsaIClMw6XGIBYKVirWvJ1ETNY3wYjj50FZNk1gpTvcM.-jAnSI_VOknPQ6McP4rjw2qsg-xt6OzgjxE62L4_oAY&dib_tag=se&m=AYH85219XLWXU&pd_rd_r=0c6cde10-08d8-489b-96fd-b43162f8c19e&pd_rd_w=9ZaaW&pd_rd_wg=2h50f&qid=1737740415&refinements=p_6%3AAYH85219XLWXU&s=electronics&sr=1-1', 'title': 'Kobo Libra Colour SleepCover Case | Sand Beige Notebook | Sleep/Wake Technology | Built-in 2-Way Stand | Vegan Leather | Compatible with 7” Kobo Libra Colour eReader, N428-AC-SB-N-PU', 'rating': '4.5', 'img_url': 'https://m.media-amazon.com/images/I/41IJw7CD1IL._AC_SX679_.jpg', 'price': ['S$62.95'], 'brand': 'Visit the Kobo Store', 'category_heirarchy': ['Electronics', 'Computers, Components and Accessories', 'Accessories', 'Tablet Accessories', 'Bags, Cases & Sleeves', 'Cases']}\n",
      "1 {'item_url': 'https://www.amazon.sg/HQEUZ-Titanium-Bracelet-Compatible-Replacement/dp/B0DG8KB4G2/ref=sr_1_2?content-id=amzn1.sym.5e505bc2-b07e-47e6-b40c-4822c9c12b88&dib=eyJ2IjoiMSJ9.fW18QFEh4EoIkx2ZY3bjS1qEz7xxPgP6YXcq5DmNIXREXt6GTXWadGApS57qBplIaqrkrlCW7xdUsa4cvgmUGeLo8_4Uj4PcKljOhuhi5LJDdNGcSVvD4K0bV2ibmLTILOWFnngbdNe66hsRNo-2io0kresTyBl8W3-XmYgvcP7vcUuCSruoDYbfWrAI7Cbp_2Rh9NcyTy5TIPDr7eAsWJQyYMZSy3vX6thCBo1i-ub6f5s9Sob0VumRx0Ye-HfnIJKbhMYICGNNASONVFN6PhsspySV_4NFi2UvL04mqGkCx8Q0_yN8VZ8T3SLMzgDNsaIClMw6XGIBYKVirWvJ1ETNY3wYjj50FZNk1gpTvcM.-jAnSI_VOknPQ6McP4rjw2qsg-xt6OzgjxE62L4_oAY&dib_tag=se&m=AYH85219XLWXU&pd_rd_r=0c6cde10-08d8-489b-96fd-b43162f8c19e&pd_rd_w=9ZaaW&pd_rd_wg=2h50f&qid=1737740415&refinements=p_6%3AAYH85219XLWXU&s=electronics&sr=1-2', 'title': 'HQEUZ Titanium Bracelet Compatible with Samsung Galaxy Watch Ultra 47 mm Replacement Strap Solid Titanium Metal Watch Strap Business Strap for Galaxy Watch Ultra 47 mm for Men Women', 'rating': 'NA', 'img_url': 'https://m.media-amazon.com/images/I/81u9W0-Ux6L._AC_SY695_.jpg', 'price': ['S$87.76'], 'brand': 'Brand: HQEUZ', 'category_heirarchy': ['Electronics', 'Wearable Technology', 'Smartwatch Accessories', 'Replacement Bands']}\n",
      "2 {'item_url': 'https://www.amazon.sg/Spigen-Compatible-iPhone-Hybrid-MagFit/dp/B0D21X6RV8/ref=sr_1_3?content-id=amzn1.sym.5e505bc2-b07e-47e6-b40c-4822c9c12b88&dib=eyJ2IjoiMSJ9.fW18QFEh4EoIkx2ZY3bjS1qEz7xxPgP6YXcq5DmNIXREXt6GTXWadGApS57qBplIaqrkrlCW7xdUsa4cvgmUGeLo8_4Uj4PcKljOhuhi5LJDdNGcSVvD4K0bV2ibmLTILOWFnngbdNe66hsRNo-2io0kresTyBl8W3-XmYgvcP7vcUuCSruoDYbfWrAI7Cbp_2Rh9NcyTy5TIPDr7eAsWJQyYMZSy3vX6thCBo1i-ub6f5s9Sob0VumRx0Ye-HfnIJKbhMYICGNNASONVFN6PhsspySV_4NFi2UvL04mqGkCx8Q0_yN8VZ8T3SLMzgDNsaIClMw6XGIBYKVirWvJ1ETNY3wYjj50FZNk1gpTvcM.-jAnSI_VOknPQ6McP4rjw2qsg-xt6OzgjxE62L4_oAY&dib_tag=se&m=AYH85219XLWXU&pd_rd_r=0c6cde10-08d8-489b-96fd-b43162f8c19e&pd_rd_w=9ZaaW&pd_rd_wg=2h50f&qid=1737740415&refinements=p_6%3AAYH85219XLWXU&s=electronics&sr=1-3', 'title': 'Spigen Compatible with iPhone 16 Plus Case Ultra Hybrid MagFit - White', 'rating': '4.5', 'img_url': 'https://m.media-amazon.com/images/I/61NZGerVSrL._AC_SX679_.jpg', 'price': ['S$42.60 with 15 percent savings', 'List Price: S$49.99'], 'brand': 'Visit the Spigen Store', 'category_heirarchy': ['Electronics', 'Mobile Phones and Communication', 'Accessories', 'Cases & Covers', 'Basic Cases']}\n",
      "3 {'item_url': 'https://www.amazon.sg/KabelDirekt-DisplayPort-2-1-Cable-Shatterproof/dp/B0CYQ8L8N2/ref=sr_1_4?content-id=amzn1.sym.5e505bc2-b07e-47e6-b40c-4822c9c12b88&dib=eyJ2IjoiMSJ9.fW18QFEh4EoIkx2ZY3bjS1qEz7xxPgP6YXcq5DmNIXREXt6GTXWadGApS57qBplIaqrkrlCW7xdUsa4cvgmUGeLo8_4Uj4PcKljOhuhi5LJDdNGcSVvD4K0bV2ibmLTILOWFnngbdNe66hsRNo-2io0kresTyBl8W3-XmYgvcP7vcUuCSruoDYbfWrAI7Cbp_2Rh9NcyTy5TIPDr7eAsWJQyYMZSy3vX6thCBo1i-ub6f5s9Sob0VumRx0Ye-HfnIJKbhMYICGNNASONVFN6PhsspySV_4NFi2UvL04mqGkCx8Q0_yN8VZ8T3SLMzgDNsaIClMw6XGIBYKVirWvJ1ETNY3wYjj50FZNk1gpTvcM.-jAnSI_VOknPQ6McP4rjw2qsg-xt6OzgjxE62L4_oAY&dib_tag=se&m=AYH85219XLWXU&pd_rd_r=0c6cde10-08d8-489b-96fd-b43162f8c19e&pd_rd_w=9ZaaW&pd_rd_wg=2h50f&qid=1737740415&refinements=p_6%3AAYH85219XLWXU&s=electronics&sr=1-4', 'title': 'KabelDirekt DisplayPort 2.1 Cable/DP 2.1 Cable - 3m - Shatterproof Metal Connectors + Braiding, DP80 with 80Gbps for Gaming PCs/Graphics Cards, FreeSync/G-Sync, up to 16K@60Hz, 8K@120Hz, 4K@240Hz', 'rating': '4.9', 'img_url': 'https://m.media-amazon.com/images/I/71+pF0VDHiL._SX522_.jpg', 'price': ['S$27.26'], 'brand': 'Brand: KabelDirekt', 'category_heirarchy': ['Electronics', 'Computers, Components and Accessories', 'Accessories', 'Cables and Accessories', 'Cables', 'DisplayPort Cables']}\n",
      "4 {'item_url': 'https://www.amazon.sg/Tiffen-58GG1-Glimmer-Glass-Filter/dp/B000FDNKNG/ref=sr_1_5?content-id=amzn1.sym.5e505bc2-b07e-47e6-b40c-4822c9c12b88&dib=eyJ2IjoiMSJ9.fW18QFEh4EoIkx2ZY3bjS1qEz7xxPgP6YXcq5DmNIXREXt6GTXWadGApS57qBplIaqrkrlCW7xdUsa4cvgmUGeLo8_4Uj4PcKljOhuhi5LJDdNGcSVvD4K0bV2ibmLTILOWFnngbdNe66hsRNo-2io0kresTyBl8W3-XmYgvcP7vcUuCSruoDYbfWrAI7Cbp_2Rh9NcyTy5TIPDr7eAsWJQyYMZSy3vX6thCBo1i-ub6f5s9Sob0VumRx0Ye-HfnIJKbhMYICGNNASONVFN6PhsspySV_4NFi2UvL04mqGkCx8Q0_yN8VZ8T3SLMzgDNsaIClMw6XGIBYKVirWvJ1ETNY3wYjj50FZNk1gpTvcM.-jAnSI_VOknPQ6McP4rjw2qsg-xt6OzgjxE62L4_oAY&dib_tag=se&m=AYH85219XLWXU&pd_rd_r=0c6cde10-08d8-489b-96fd-b43162f8c19e&pd_rd_w=9ZaaW&pd_rd_wg=2h50f&qid=1737740415&refinements=p_6%3AAYH85219XLWXU&s=electronics&sr=1-5', 'title': 'Tiffen 58GG1 Glimmer Glass 1 Filter, 58mm', 'rating': '4.6', 'img_url': 'https://m.media-amazon.com/images/I/610YmmCQsFL._AC_SY879_.jpg', 'price': ['S$100.29'], 'brand': 'Brand: Tiffen', 'category_heirarchy': ['Electronics', 'Camera and Photo', 'Accessories', 'Filters', 'Effects Filters']}\n",
      "5 {'item_url': 'https://www.amazon.sg/Ergonomic-Mouse-Keyboard-Wrist-Rest/dp/B0DCV7GCB7/ref=sr_1_6?content-id=amzn1.sym.5e505bc2-b07e-47e6-b40c-4822c9c12b88&dib=eyJ2IjoiMSJ9.fW18QFEh4EoIkx2ZY3bjS1qEz7xxPgP6YXcq5DmNIXREXt6GTXWadGApS57qBplIaqrkrlCW7xdUsa4cvgmUGeLo8_4Uj4PcKljOhuhi5LJDdNGcSVvD4K0bV2ibmLTILOWFnngbdNe66hsRNo-2io0kresTyBl8W3-XmYgvcP7vcUuCSruoDYbfWrAI7Cbp_2Rh9NcyTy5TIPDr7eAsWJQyYMZSy3vX6thCBo1i-ub6f5s9Sob0VumRx0Ye-HfnIJKbhMYICGNNASONVFN6PhsspySV_4NFi2UvL04mqGkCx8Q0_yN8VZ8T3SLMzgDNsaIClMw6XGIBYKVirWvJ1ETNY3wYjj50FZNk1gpTvcM.-jAnSI_VOknPQ6McP4rjw2qsg-xt6OzgjxE62L4_oAY&dib_tag=se&m=AYH85219XLWXU&pd_rd_r=0c6cde10-08d8-489b-96fd-b43162f8c19e&pd_rd_w=9ZaaW&pd_rd_wg=2h50f&qid=1737740415&refinements=p_6%3AAYH85219XLWXU&s=electronics&sr=1-6', 'title': '2 x Ergonomic Mouse Keyboard Wrist Rest for Cute Keyboard Mouse Pad Wrist Rest (B)', 'rating': 'NA', 'img_url': 'https://m.media-amazon.com/images/I/51TEC0GqGSL._AC_SX679_.jpg', 'price': ['S$27.71'], 'brand': 'Brand: Ehuihuan', 'category_heirarchy': ['Office Products', 'Office Supplies', 'Desk Accessories & Storage Products']}\n",
      "6 {'item_url': 'https://www.amazon.sg/Gravity-Adjustable-Controllers-Neoprene-Protective/dp/B07TTRN1MY/ref=sr_1_7?content-id=amzn1.sym.5e505bc2-b07e-47e6-b40c-4822c9c12b88&dib=eyJ2IjoiMSJ9.fW18QFEh4EoIkx2ZY3bjS1qEz7xxPgP6YXcq5DmNIXREXt6GTXWadGApS57qBplIaqrkrlCW7xdUsa4cvgmUGeLo8_4Uj4PcKljOhuhi5LJDdNGcSVvD4K0bV2ibmLTILOWFnngbdNe66hsRNo-2io0kresTyBl8W3-XmYgvcP7vcUuCSruoDYbfWrAI7Cbp_2Rh9NcyTy5TIPDr7eAsWJQyYMZSy3vX6thCBo1i-ub6f5s9Sob0VumRx0Ye-HfnIJKbhMYICGNNASONVFN6PhsspySV_4NFi2UvL04mqGkCx8Q0_yN8VZ8T3SLMzgDNsaIClMw6XGIBYKVirWvJ1ETNY3wYjj50FZNk1gpTvcM.-jAnSI_VOknPQ6McP4rjw2qsg-xt6OzgjxE62L4_oAY&dib_tag=se&m=AYH85219XLWXU&pd_rd_r=0c6cde10-08d8-489b-96fd-b43162f8c19e&pd_rd_w=9ZaaW&pd_rd_wg=2h50f&qid=1737740415&refinements=p_6%3AAYH85219XLWXU&s=electronics&sr=1-7', 'title': 'Gravity LTS 01 B SET 1 Adjustable Stand for Laptops and Controllers with Neoprene Protective Case', 'rating': '4.4', 'img_url': 'https://m.media-amazon.com/images/I/61xG2XStMfL._AC_SX679_.jpg', 'price': ['S$127.87'], 'brand': 'Brand: Gravity', 'category_heirarchy': ['Electronics', 'Computers, Components and Accessories', 'Accessories', 'Laptop Accessories', 'Stands']}\n",
      "7 {'item_url': 'https://www.amazon.sg/OBSBOT-Meet-SE-Lightweight-Grey/dp/B0DQ196WLW/ref=sr_1_8?content-id=amzn1.sym.5e505bc2-b07e-47e6-b40c-4822c9c12b88&dib=eyJ2IjoiMSJ9.fW18QFEh4EoIkx2ZY3bjS1qEz7xxPgP6YXcq5DmNIXREXt6GTXWadGApS57qBplIaqrkrlCW7xdUsa4cvgmUGeLo8_4Uj4PcKljOhuhi5LJDdNGcSVvD4K0bV2ibmLTILOWFnngbdNe66hsRNo-2io0kresTyBl8W3-XmYgvcP7vcUuCSruoDYbfWrAI7Cbp_2Rh9NcyTy5TIPDr7eAsWJQyYMZSy3vX6thCBo1i-ub6f5s9Sob0VumRx0Ye-HfnIJKbhMYICGNNASONVFN6PhsspySV_4NFi2UvL04mqGkCx8Q0_yN8VZ8T3SLMzgDNsaIClMw6XGIBYKVirWvJ1ETNY3wYjj50FZNk1gpTvcM.-jAnSI_VOknPQ6McP4rjw2qsg-xt6OzgjxE62L4_oAY&dib_tag=se&m=AYH85219XLWXU&pd_rd_r=0c6cde10-08d8-489b-96fd-b43162f8c19e&pd_rd_w=9ZaaW&pd_rd_wg=2h50f&qid=1737740415&refinements=p_6%3AAYH85219XLWXU&s=electronics&sr=1-8', 'title': 'OBSBOT Meet SE 1080P@100 FPS Webcam for PC with 1/2.8\" Sensor, AI Framing & Autofocus, Beauty Mode, Lightweight, Gesture Control, DOL HDR, Web Cam for Streaming, Meeting, Gaming. (Space Grey)', 'rating': '4.9', 'img_url': 'https://m.media-amazon.com/images/I/51l9ajtA25L._AC_SX679_.jpg', 'price': ['S$146.11'], 'brand': 'Brand: OBSBOT', 'category_heirarchy': ['Electronics', 'Computers, Components and Accessories', 'Accessories', 'Audio & Video Accessories', 'Webcams & VoIP Equipment', 'Webcams']}\n",
      "8 {'item_url': 'https://www.amazon.sg/Spigen-Compatible-Samsung-Galaxy-Hybrid/dp/B0CV71SSMQ/ref=sr_1_9?content-id=amzn1.sym.5e505bc2-b07e-47e6-b40c-4822c9c12b88&dib=eyJ2IjoiMSJ9.fW18QFEh4EoIkx2ZY3bjS1qEz7xxPgP6YXcq5DmNIXREXt6GTXWadGApS57qBplIaqrkrlCW7xdUsa4cvgmUGeLo8_4Uj4PcKljOhuhi5LJDdNGcSVvD4K0bV2ibmLTILOWFnngbdNe66hsRNo-2io0kresTyBl8W3-XmYgvcP7vcUuCSruoDYbfWrAI7Cbp_2Rh9NcyTy5TIPDr7eAsWJQyYMZSy3vX6thCBo1i-ub6f5s9Sob0VumRx0Ye-HfnIJKbhMYICGNNASONVFN6PhsspySV_4NFi2UvL04mqGkCx8Q0_yN8VZ8T3SLMzgDNsaIClMw6XGIBYKVirWvJ1ETNY3wYjj50FZNk1gpTvcM.-jAnSI_VOknPQ6McP4rjw2qsg-xt6OzgjxE62L4_oAY&dib_tag=se&m=AYH85219XLWXU&pd_rd_r=0c6cde10-08d8-489b-96fd-b43162f8c19e&pd_rd_w=9ZaaW&pd_rd_wg=2h50f&qid=1737740415&refinements=p_6%3AAYH85219XLWXU&s=electronics&sr=1-9', 'title': 'Spigen Compatible for Samsung Galaxy S24 Ultra Case Ultra Hybrid OneTap Metal Ring MagFit - Zero One Natural Titanium', 'rating': '4.4', 'img_url': 'https://m.media-amazon.com/images/I/7147gcw7Q5L._AC_SX679_.jpg', 'price': ['S$57.94'], 'brand': 'Visit the Spigen Store', 'category_heirarchy': ['Electronics', 'Mobile Phones and Communication', 'Accessories', 'Cases & Covers', 'Basic Cases']}\n",
      "9 {'item_url': 'https://www.amazon.sg/Abeillo-Portable-Self-Adhesive-Invisible-Compatible/dp/B0BLNTVK7Y/ref=sr_1_10?content-id=amzn1.sym.5e505bc2-b07e-47e6-b40c-4822c9c12b88&dib=eyJ2IjoiMSJ9.fW18QFEh4EoIkx2ZY3bjS1qEz7xxPgP6YXcq5DmNIXREXt6GTXWadGApS57qBplIaqrkrlCW7xdUsa4cvgmUGeLo8_4Uj4PcKljOhuhi5LJDdNGcSVvD4K0bV2ibmLTILOWFnngbdNe66hsRNo-2io0kresTyBl8W3-XmYgvcP7vcUuCSruoDYbfWrAI7Cbp_2Rh9NcyTy5TIPDr7eAsWJQyYMZSy3vX6thCBo1i-ub6f5s9Sob0VumRx0Ye-HfnIJKbhMYICGNNASONVFN6PhsspySV_4NFi2UvL04mqGkCx8Q0_yN8VZ8T3SLMzgDNsaIClMw6XGIBYKVirWvJ1ETNY3wYjj50FZNk1gpTvcM.-jAnSI_VOknPQ6McP4rjw2qsg-xt6OzgjxE62L4_oAY&dib_tag=se&m=AYH85219XLWXU&pd_rd_r=0c6cde10-08d8-489b-96fd-b43162f8c19e&pd_rd_w=9ZaaW&pd_rd_wg=2h50f&qid=1737740415&refinements=p_6%3AAYH85219XLWXU&s=electronics&sr=1-10', 'title': 'Abeillo 2PCS Portable Keyboard Riser, Self-Adhesive Mini Laptop Stand Invisible Computer Keyboard Stand for Desk, Laptop Feet Compatible with Pro/Air, Lenovo, Surface (Silver)', 'rating': '4.4', 'img_url': 'https://m.media-amazon.com/images/I/81uVUXrDHRL._AC_SX679_.jpg', 'price': ['S$10.61'], 'brand': 'Brand: Abeillo', 'category_heirarchy': ['Electronics', 'Computers, Components and Accessories', 'Accessories', 'Laptop Accessories', 'Stands']}\n",
      "10 {'item_url': 'https://www.amazon.sg/CASEOLOGY-Material-Magnetic-Military-Protection/dp/B0D482KQNM/ref=sr_1_11?content-id=amzn1.sym.5e505bc2-b07e-47e6-b40c-4822c9c12b88&dib=eyJ2IjoiMSJ9.fW18QFEh4EoIkx2ZY3bjS1qEz7xxPgP6YXcq5DmNIXREXt6GTXWadGApS57qBplIaqrkrlCW7xdUsa4cvgmUGeLo8_4Uj4PcKljOhuhi5LJDdNGcSVvD4K0bV2ibmLTILOWFnngbdNe66hsRNo-2io0kresTyBl8W3-XmYgvcP7vcUuCSruoDYbfWrAI7Cbp_2Rh9NcyTy5TIPDr7eAsWJQyYMZSy3vX6thCBo1i-ub6f5s9Sob0VumRx0Ye-HfnIJKbhMYICGNNASONVFN6PhsspySV_4NFi2UvL04mqGkCx8Q0_yN8VZ8T3SLMzgDNsaIClMw6XGIBYKVirWvJ1ETNY3wYjj50FZNk1gpTvcM.-jAnSI_VOknPQ6McP4rjw2qsg-xt6OzgjxE62L4_oAY&dib_tag=se&m=AYH85219XLWXU&pd_rd_r=0c6cde10-08d8-489b-96fd-b43162f8c19e&pd_rd_w=9ZaaW&pd_rd_wg=2h50f&qid=1737740415&refinements=p_6%3AAYH85219XLWXU&s=electronics&sr=1-11', 'title': 'CASEOLOGY Nano Pop Mag for iPhone 16 Pro Case [Soft & Dust Free Material] Magnetic Military Grade Drop Protection Side Grip Patterns Case Cover for iPhone 16 Pro - Burgundy Bean', 'rating': '4.3', 'img_url': 'https://m.media-amazon.com/images/I/61ig5tOHn6L._AC_SX679_.jpg', 'price': ['S$53.71'], 'brand': 'Visit the Caseology Store', 'category_heirarchy': ['Electronics', 'Mobile Phones and Communication', 'Accessories', 'Cases & Covers', 'Basic Cases']}\n",
      "11 {'item_url': 'https://www.amazon.sg/Audio-Technica-AT-VMN95EN-Elliptical-Replacement-Turntable/dp/B07JL2NPHB/ref=sr_1_12?content-id=amzn1.sym.5e505bc2-b07e-47e6-b40c-4822c9c12b88&dib=eyJ2IjoiMSJ9.fW18QFEh4EoIkx2ZY3bjS1qEz7xxPgP6YXcq5DmNIXREXt6GTXWadGApS57qBplIaqrkrlCW7xdUsa4cvgmUGeLo8_4Uj4PcKljOhuhi5LJDdNGcSVvD4K0bV2ibmLTILOWFnngbdNe66hsRNo-2io0kresTyBl8W3-XmYgvcP7vcUuCSruoDYbfWrAI7Cbp_2Rh9NcyTy5TIPDr7eAsWJQyYMZSy3vX6thCBo1i-ub6f5s9Sob0VumRx0Ye-HfnIJKbhMYICGNNASONVFN6PhsspySV_4NFi2UvL04mqGkCx8Q0_yN8VZ8T3SLMzgDNsaIClMw6XGIBYKVirWvJ1ETNY3wYjj50FZNk1gpTvcM.-jAnSI_VOknPQ6McP4rjw2qsg-xt6OzgjxE62L4_oAY&dib_tag=se&m=AYH85219XLWXU&pd_rd_r=0c6cde10-08d8-489b-96fd-b43162f8c19e&pd_rd_w=9ZaaW&pd_rd_wg=2h50f&qid=1737740415&refinements=p_6%3AAYH85219XLWXU&s=electronics&sr=1-12', 'title': 'Audio-Technica AT-VMN95EN Elliptical Replacement Turntable Stylus Orange', 'rating': '4.7', 'img_url': 'https://m.media-amazon.com/images/I/61OPZ51IcuL.__AC_SY300_SX300_QL70_ML2_.jpg', 'price': ['S$160.15'], 'brand': 'Visit the Audio-Technica Store', 'category_heirarchy': ['Musical Instruments', 'DJ & VJ Equipment', 'Accessories', 'Cartridges & Needles']}\n",
      "12 {'item_url': 'https://www.amazon.sg/TotalMount-Headphones-Headsets-Premium-Grade-Protects/dp/B083JLDPDP/ref=sr_1_13?content-id=amzn1.sym.5e505bc2-b07e-47e6-b40c-4822c9c12b88&dib=eyJ2IjoiMSJ9.fW18QFEh4EoIkx2ZY3bjS1qEz7xxPgP6YXcq5DmNIXREXt6GTXWadGApS57qBplIaqrkrlCW7xdUsa4cvgmUGeLo8_4Uj4PcKljOhuhi5LJDdNGcSVvD4K0bV2ibmLTILOWFnngbdNe66hsRNo-2io0kresTyBl8W3-XmYgvcP7vcUuCSruoDYbfWrAI7Cbp_2Rh9NcyTy5TIPDr7eAsWJQyYMZSy3vX6thCBo1i-ub6f5s9Sob0VumRx0Ye-HfnIJKbhMYICGNNASONVFN6PhsspySV_4NFi2UvL04mqGkCx8Q0_yN8VZ8T3SLMzgDNsaIClMw6XGIBYKVirWvJ1ETNY3wYjj50FZNk1gpTvcM.-jAnSI_VOknPQ6McP4rjw2qsg-xt6OzgjxE62L4_oAY&dib_tag=se&m=AYH85219XLWXU&pd_rd_r=0c6cde10-08d8-489b-96fd-b43162f8c19e&pd_rd_w=9ZaaW&pd_rd_wg=2h50f&qid=1737740415&refinements=p_6%3AAYH85219XLWXU&s=electronics&sr=1-13', 'title': 'TotalMount Monitor Stand for Headphones and Headsets (Premium-Grade Holder Saves Desk Space and Protects Headphones)', 'rating': '4.6', 'img_url': 'https://m.media-amazon.com/images/I/91pXbVScJtL._AC_SX679_.jpg', 'price': ['S$26.53 with 11 percent savings', 'Was: S$29.87'], 'brand': 'Brand: TotalMount', 'category_heirarchy': ['Electronics', 'Headphones, Earbuds and Accessories', 'Stands']}\n",
      "13 {'item_url': 'https://www.amazon.sg/Reolink-Camera-Int%C3%A9rieure-ext%C3%A9rieure-pixels/dp/B0DF5RH8J5/ref=sr_1_14?content-id=amzn1.sym.5e505bc2-b07e-47e6-b40c-4822c9c12b88&dib=eyJ2IjoiMSJ9.fW18QFEh4EoIkx2ZY3bjS1qEz7xxPgP6YXcq5DmNIXREXt6GTXWadGApS57qBplIaqrkrlCW7xdUsa4cvgmUGeLo8_4Uj4PcKljOhuhi5LJDdNGcSVvD4K0bV2ibmLTILOWFnngbdNe66hsRNo-2io0kresTyBl8W3-XmYgvcP7vcUuCSruoDYbfWrAI7Cbp_2Rh9NcyTy5TIPDr7eAsWJQyYMZSy3vX6thCBo1i-ub6f5s9Sob0VumRx0Ye-HfnIJKbhMYICGNNASONVFN6PhsspySV_4NFi2UvL04mqGkCx8Q0_yN8VZ8T3SLMzgDNsaIClMw6XGIBYKVirWvJ1ETNY3wYjj50FZNk1gpTvcM.-jAnSI_VOknPQ6McP4rjw2qsg-xt6OzgjxE62L4_oAY&dib_tag=se&m=AYH85219XLWXU&pd_rd_r=0c6cde10-08d8-489b-96fd-b43162f8c19e&pd_rd_w=9ZaaW&pd_rd_wg=2h50f&qid=1737740415&refinements=p_6%3AAYH85219XLWXU&s=electronics&sr=1-14', 'title': 'Reolink Argus Series B330 Camera IP Intérieure et extérieure 2880 x 1616 pixels Mur', 'rating': 'NA', 'img_url': 'https://m.media-amazon.com/images/I/51OuFaZy03L._AC_SX679_.jpg', 'price': ['S$118.00'], 'brand': 'Brand: REOLINK', 'category_heirarchy': ['Electronics', 'Camera and Photo', 'Surveillance Cameras']}\n",
      "14 {'item_url': 'https://www.amazon.sg/NZXT-Vertical-GPU-Mounting-AB-RH175-B1-175/dp/B0B1L86PMQ/ref=sr_1_15?content-id=amzn1.sym.5e505bc2-b07e-47e6-b40c-4822c9c12b88&dib=eyJ2IjoiMSJ9.fW18QFEh4EoIkx2ZY3bjS1qEz7xxPgP6YXcq5DmNIXREXt6GTXWadGApS57qBplIaqrkrlCW7xdUsa4cvgmUGeLo8_4Uj4PcKljOhuhi5LJDdNGcSVvD4K0bV2ibmLTILOWFnngbdNe66hsRNo-2io0kresTyBl8W3-XmYgvcP7vcUuCSruoDYbfWrAI7Cbp_2Rh9NcyTy5TIPDr7eAsWJQyYMZSy3vX6thCBo1i-ub6f5s9Sob0VumRx0Ye-HfnIJKbhMYICGNNASONVFN6PhsspySV_4NFi2UvL04mqGkCx8Q0_yN8VZ8T3SLMzgDNsaIClMw6XGIBYKVirWvJ1ETNY3wYjj50FZNk1gpTvcM.-jAnSI_VOknPQ6McP4rjw2qsg-xt6OzgjxE62L4_oAY&dib_tag=se&m=AYH85219XLWXU&pd_rd_r=0c6cde10-08d8-489b-96fd-b43162f8c19e&pd_rd_w=9ZaaW&pd_rd_wg=2h50f&qid=1737740415&refinements=p_6%3AAYH85219XLWXU&s=electronics&sr=1-15', 'title': 'NZXT Vertical GPU Mounting Kit - AB-RH175-B1-175 mm PCIe 4.0x16 Riser Cable - GPU Holder - Sturdy Steel Bracket - Black', 'rating': '4.5', 'img_url': 'https://m.media-amazon.com/images/I/610dt6UQuXL._AC_SX679_.jpg', 'price': ['S$133.47'], 'brand': 'Brand: NZXT', 'category_heirarchy': ['Electronics', 'Computers, Components and Accessories', 'Components & Replacement Parts', 'External Components', 'Computer Cases']}\n",
      "15 {'item_url': 'https://www.amazon.sg/Eartips-WF-1000XM5-Replacement-Charging-Surface/dp/B0CMTG5X2L/ref=sr_1_16?content-id=amzn1.sym.5e505bc2-b07e-47e6-b40c-4822c9c12b88&dib=eyJ2IjoiMSJ9.fW18QFEh4EoIkx2ZY3bjS1qEz7xxPgP6YXcq5DmNIXREXt6GTXWadGApS57qBplIaqrkrlCW7xdUsa4cvgmUGeLo8_4Uj4PcKljOhuhi5LJDdNGcSVvD4K0bV2ibmLTILOWFnngbdNe66hsRNo-2io0kresTyBl8W3-XmYgvcP7vcUuCSruoDYbfWrAI7Cbp_2Rh9NcyTy5TIPDr7eAsWJQyYMZSy3vX6thCBo1i-ub6f5s9Sob0VumRx0Ye-HfnIJKbhMYICGNNASONVFN6PhsspySV_4NFi2UvL04mqGkCx8Q0_yN8VZ8T3SLMzgDNsaIClMw6XGIBYKVirWvJ1ETNY3wYjj50FZNk1gpTvcM.-jAnSI_VOknPQ6McP4rjw2qsg-xt6OzgjxE62L4_oAY&dib_tag=se&m=AYH85219XLWXU&pd_rd_r=0c6cde10-08d8-489b-96fd-b43162f8c19e&pd_rd_w=9ZaaW&pd_rd_wg=2h50f&qid=1737740415&refinements=p_6%3AAYH85219XLWXU&s=electronics&sr=1-16', 'title': 'Memory Foam Eartips Ear Buds for Sony WF-1000XM5, Ear Tips Replacement Sony Ear Piece Foam Tips for WF-1000XM5 Fit Charging Case(Matt Surface, 3 Pairs, M)', 'rating': '3.7', 'img_url': 'https://m.media-amazon.com/images/I/71LptANXEuL._AC_SX679_.jpg', 'price': ['S$27.26'], 'brand': 'Brand: YieJoya', 'category_heirarchy': ['Electronics', 'Headphones, Earbuds and Accessories', 'Earpads']}\n",
      "16 {'item_url': 'https://www.amazon.sg/Poetic-Guardian-Protector-Fingerprint-Shockproof/dp/B0CSFFL78R/ref=sr_1_17?content-id=amzn1.sym.5e505bc2-b07e-47e6-b40c-4822c9c12b88&dib=eyJ2IjoiMSJ9.fW18QFEh4EoIkx2ZY3bjS1qEz7xxPgP6YXcq5DmNIXREXt6GTXWadGApS57qBplIaqrkrlCW7xdUsa4cvgmUGeLo8_4Uj4PcKljOhuhi5LJDdNGcSVvD4K0bV2ibmLTILOWFnngbdNe66hsRNo-2io0kresTyBl8W3-XmYgvcP7vcUuCSruoDYbfWrAI7Cbp_2Rh9NcyTy5TIPDr7eAsWJQyYMZSy3vX6thCBo1i-ub6f5s9Sob0VumRx0Ye-HfnIJKbhMYICGNNASONVFN6PhsspySV_4NFi2UvL04mqGkCx8Q0_yN8VZ8T3SLMzgDNsaIClMw6XGIBYKVirWvJ1ETNY3wYjj50FZNk1gpTvcM.-jAnSI_VOknPQ6McP4rjw2qsg-xt6OzgjxE62L4_oAY&dib_tag=se&m=AYH85219XLWXU&pd_rd_r=0c6cde10-08d8-489b-96fd-b43162f8c19e&pd_rd_w=9ZaaW&pd_rd_wg=2h50f&qid=1737740415&refinements=p_6%3AAYH85219XLWXU&s=electronics&sr=1-17', 'title': 'Poetic Guardian Case for OnePlus 12 5G (2024), Built-in Screen Protector [Work with Fingerprint ID], [2 Front Frame] [Wireless Charge] Full Body Shockproof Rugged Clear Cover Case, Green/Clear', 'rating': '4.2', 'img_url': 'https://m.media-amazon.com/images/I/71xLVFl-O9L.__AC_SX300_SY300_QL70_ML2_.jpg', 'price': ['S$40.84'], 'brand': 'Brand: Poetic', 'category_heirarchy': ['Electronics', 'Mobile Phones and Communication', 'Accessories', 'Cases & Covers', 'Basic Cases']}\n",
      "17 {'item_url': 'https://www.amazon.sg/Spigen-Compatible-iPhone-Hybrid-MagFit/dp/B0D933CYJD/ref=sr_1_18?content-id=amzn1.sym.5e505bc2-b07e-47e6-b40c-4822c9c12b88&dib=eyJ2IjoiMSJ9.fW18QFEh4EoIkx2ZY3bjS1qEz7xxPgP6YXcq5DmNIXREXt6GTXWadGApS57qBplIaqrkrlCW7xdUsa4cvgmUGeLo8_4Uj4PcKljOhuhi5LJDdNGcSVvD4K0bV2ibmLTILOWFnngbdNe66hsRNo-2io0kresTyBl8W3-XmYgvcP7vcUuCSruoDYbfWrAI7Cbp_2Rh9NcyTy5TIPDr7eAsWJQyYMZSy3vX6thCBo1i-ub6f5s9Sob0VumRx0Ye-HfnIJKbhMYICGNNASONVFN6PhsspySV_4NFi2UvL04mqGkCx8Q0_yN8VZ8T3SLMzgDNsaIClMw6XGIBYKVirWvJ1ETNY3wYjj50FZNk1gpTvcM.-jAnSI_VOknPQ6McP4rjw2qsg-xt6OzgjxE62L4_oAY&dib_tag=se&m=AYH85219XLWXU&pd_rd_r=0c6cde10-08d8-489b-96fd-b43162f8c19e&pd_rd_w=9ZaaW&pd_rd_wg=2h50f&qid=1737740415&refinements=p_6%3AAYH85219XLWXU&s=electronics&sr=1-18', 'title': 'Spigen Compatible with iPhone 16 Pro Max Case Ultra Hybrid MagFit - Frost Rose Titanium', 'rating': '4.0', 'img_url': 'https://m.media-amazon.com/images/I/61DzMWMRsWL._AC_SX679_.jpg', 'price': ['S$48.75'], 'brand': 'Visit the Spigen Store', 'category_heirarchy': ['Electronics', 'Mobile Phones and Communication', 'Accessories', 'Cases & Covers', 'Basic Cases']}\n",
      "18 {'item_url': 'https://www.amazon.sg/AudioQuest-Pearl-48-HDMI-Cable/dp/B08J5S83TF/ref=sr_1_19?content-id=amzn1.sym.5e505bc2-b07e-47e6-b40c-4822c9c12b88&dib=eyJ2IjoiMSJ9.fW18QFEh4EoIkx2ZY3bjS1qEz7xxPgP6YXcq5DmNIXREXt6GTXWadGApS57qBplIaqrkrlCW7xdUsa4cvgmUGeLo8_4Uj4PcKljOhuhi5LJDdNGcSVvD4K0bV2ibmLTILOWFnngbdNe66hsRNo-2io0kresTyBl8W3-XmYgvcP7vcUuCSruoDYbfWrAI7Cbp_2Rh9NcyTy5TIPDr7eAsWJQyYMZSy3vX6thCBo1i-ub6f5s9Sob0VumRx0Ye-HfnIJKbhMYICGNNASONVFN6PhsspySV_4NFi2UvL04mqGkCx8Q0_yN8VZ8T3SLMzgDNsaIClMw6XGIBYKVirWvJ1ETNY3wYjj50FZNk1gpTvcM.-jAnSI_VOknPQ6McP4rjw2qsg-xt6OzgjxE62L4_oAY&dib_tag=se&m=AYH85219XLWXU&pd_rd_r=0c6cde10-08d8-489b-96fd-b43162f8c19e&pd_rd_w=9ZaaW&pd_rd_wg=2h50f&qid=1737740415&refinements=p_6%3AAYH85219XLWXU&s=electronics&sr=1-19', 'title': 'AudioQuest Pearl 48 HDMI Cable', 'rating': '4.7', 'img_url': 'https://m.media-amazon.com/images/I/61wzDKuhfqL._SX522_.jpg', 'price': ['S$71.60'], 'brand': 'Brand: AudioQuest', 'category_heirarchy': ['Electronics', 'Home Cinema, TV and Video', 'Accessories', 'Cables', 'HDMI']}\n",
      "19 {'item_url': 'https://www.amazon.sg/Seagate-16TB-ST16000NM001G-256Mb-Mechanical/dp/B07XM9RM95/ref=sr_1_20?content-id=amzn1.sym.5e505bc2-b07e-47e6-b40c-4822c9c12b88&dib=eyJ2IjoiMSJ9.fW18QFEh4EoIkx2ZY3bjS1qEz7xxPgP6YXcq5DmNIXREXt6GTXWadGApS57qBplIaqrkrlCW7xdUsa4cvgmUGeLo8_4Uj4PcKljOhuhi5LJDdNGcSVvD4K0bV2ibmLTILOWFnngbdNe66hsRNo-2io0kresTyBl8W3-XmYgvcP7vcUuCSruoDYbfWrAI7Cbp_2Rh9NcyTy5TIPDr7eAsWJQyYMZSy3vX6thCBo1i-ub6f5s9Sob0VumRx0Ye-HfnIJKbhMYICGNNASONVFN6PhsspySV_4NFi2UvL04mqGkCx8Q0_yN8VZ8T3SLMzgDNsaIClMw6XGIBYKVirWvJ1ETNY3wYjj50FZNk1gpTvcM.-jAnSI_VOknPQ6McP4rjw2qsg-xt6OzgjxE62L4_oAY&dib_tag=se&m=AYH85219XLWXU&pd_rd_r=0c6cde10-08d8-489b-96fd-b43162f8c19e&pd_rd_w=9ZaaW&pd_rd_wg=2h50f&qid=1737740415&refinements=p_6%3AAYH85219XLWXU&s=electronics&sr=1-20', 'title': 'Seagate 16TB ST16000NM001G Exos X16 SATA 6Gb/s 7.2K RPM 512e/4Kn 256Mb, OEM, Mechanical Hard Disk', 'rating': '3.6', 'img_url': 'https://m.media-amazon.com/images/I/619fXgKEOtL._AC_SY879_.jpg', 'price': ['S$368.60'], 'brand': 'Visit the Seagate Store', 'category_heirarchy': ['Electronics', 'Computers, Components and Accessories', 'Data Storage', 'Internal Data Storage', 'Internal Hard Drives']}\n",
      "20 {'item_url': 'https://www.amazon.sg/Kingston-Renegade-6000MT-Desktop-Gaming/dp/B0CJC7QC8R/ref=sr_1_21?content-id=amzn1.sym.5e505bc2-b07e-47e6-b40c-4822c9c12b88&dib=eyJ2IjoiMSJ9.fW18QFEh4EoIkx2ZY3bjS1qEz7xxPgP6YXcq5DmNIXREXt6GTXWadGApS57qBplIaqrkrlCW7xdUsa4cvgmUGeLo8_4Uj4PcKljOhuhi5LJDdNGcSVvD4K0bV2ibmLTILOWFnngbdNe66hsRNo-2io0kresTyBl8W3-XmYgvcP7vcUuCSruoDYbfWrAI7Cbp_2Rh9NcyTy5TIPDr7eAsWJQyYMZSy3vX6thCBo1i-ub6f5s9Sob0VumRx0Ye-HfnIJKbhMYICGNNASONVFN6PhsspySV_4NFi2UvL04mqGkCx8Q0_yN8VZ8T3SLMzgDNsaIClMw6XGIBYKVirWvJ1ETNY3wYjj50FZNk1gpTvcM.-jAnSI_VOknPQ6McP4rjw2qsg-xt6OzgjxE62L4_oAY&dib_tag=se&m=AYH85219XLWXU&pd_rd_r=0c6cde10-08d8-489b-96fd-b43162f8c19e&pd_rd_w=9ZaaW&pd_rd_wg=2h50f&qid=1737740415&refinements=p_6%3AAYH85219XLWXU&s=electronics&sr=1-21', 'title': 'Kingston FURY Renegade Black RGB XMP 96GB 6000MT/s DDR5 CL32 DIMM Desktop Gaming Memory (Kit of 2) - KF560C32RSAK2- 96', 'rating': '5.0', 'img_url': 'https://m.media-amazon.com/images/I/71GJY5+c14L._AC_SX679_.jpg', 'price': ['S$485.58'], 'brand': 'Brand: Kingston', 'category_heirarchy': ['Electronics', 'Computers, Components and Accessories', 'Components & Replacement Parts', 'Internal Components', 'RAM']}\n",
      "21 {'item_url': 'https://www.amazon.sg/CASEOLOGY-Material-Military-Protection-Patterns/dp/B0CWPWMJ4P/ref=sr_1_22?content-id=amzn1.sym.5e505bc2-b07e-47e6-b40c-4822c9c12b88&dib=eyJ2IjoiMSJ9.fW18QFEh4EoIkx2ZY3bjS1qEz7xxPgP6YXcq5DmNIXREXt6GTXWadGApS57qBplIaqrkrlCW7xdUsa4cvgmUGeLo8_4Uj4PcKljOhuhi5LJDdNGcSVvD4K0bV2ibmLTILOWFnngbdNe66hsRNo-2io0kresTyBl8W3-XmYgvcP7vcUuCSruoDYbfWrAI7Cbp_2Rh9NcyTy5TIPDr7eAsWJQyYMZSy3vX6thCBo1i-ub6f5s9Sob0VumRx0Ye-HfnIJKbhMYICGNNASONVFN6PhsspySV_4NFi2UvL04mqGkCx8Q0_yN8VZ8T3SLMzgDNsaIClMw6XGIBYKVirWvJ1ETNY3wYjj50FZNk1gpTvcM.-jAnSI_VOknPQ6McP4rjw2qsg-xt6OzgjxE62L4_oAY&dib_tag=se&m=AYH85219XLWXU&pd_rd_r=0c6cde10-08d8-489b-96fd-b43162f8c19e&pd_rd_w=9ZaaW&pd_rd_wg=2h50f&qid=1737740415&refinements=p_6%3AAYH85219XLWXU&s=electronics&sr=1-22', 'title': 'CASEOLOGY Nano Pop for Google Pixel 9 Pro XL Case, [Soft & Dust Free Material] [Military Grade Drop Protection] Side Grip Patterns Case Cover for Pixel 9 Pro XL - Black Sesame', 'rating': '4.5', 'img_url': 'https://m.media-amazon.com/images/I/51JvjjYd7zL._AC_SX679_.jpg', 'price': ['S$38.67'], 'brand': 'Visit the Caseology Store', 'category_heirarchy': ['Electronics', 'Mobile Phones and Communication', 'Accessories', 'Cases & Covers', 'Basic Cases']}\n",
      "22 {'item_url': 'https://www.amazon.sg/CARTRIGO-Cartridges-305-Cartridge-Compatible/dp/B0D9V8QXX7/ref=sr_1_23?content-id=amzn1.sym.5e505bc2-b07e-47e6-b40c-4822c9c12b88&dib=eyJ2IjoiMSJ9.fW18QFEh4EoIkx2ZY3bjS1qEz7xxPgP6YXcq5DmNIXREXt6GTXWadGApS57qBplIaqrkrlCW7xdUsa4cvgmUGeLo8_4Uj4PcKljOhuhi5LJDdNGcSVvD4K0bV2ibmLTILOWFnngbdNe66hsRNo-2io0kresTyBl8W3-XmYgvcP7vcUuCSruoDYbfWrAI7Cbp_2Rh9NcyTy5TIPDr7eAsWJQyYMZSy3vX6thCBo1i-ub6f5s9Sob0VumRx0Ye-HfnIJKbhMYICGNNASONVFN6PhsspySV_4NFi2UvL04mqGkCx8Q0_yN8VZ8T3SLMzgDNsaIClMw6XGIBYKVirWvJ1ETNY3wYjj50FZNk1gpTvcM.-jAnSI_VOknPQ6McP4rjw2qsg-xt6OzgjxE62L4_oAY&dib_tag=se&m=AYH85219XLWXU&pd_rd_r=0c6cde10-08d8-489b-96fd-b43162f8c19e&pd_rd_w=9ZaaW&pd_rd_wg=2h50f&qid=1737740415&refinements=p_6%3AAYH85219XLWXU&s=electronics&sr=1-23', 'title': 'CARTRIGO 305XL Printer Cartridges Black, 305 Cartridge Compatible with HP 305 Printer Cartridges, 305XL Black for DeskJet 2300 2700 2800 4100 4200 Plus 4100, Envy 6010 6020 6030 6400 Pro 6400 (Pack of', 'rating': '4.1', 'img_url': 'https://m.media-amazon.com/images/I/618uzQHkX7L._AC_SX679_.jpg', 'price': ['S$35.78'], 'brand': 'Brand: CARTRIGO', 'category_heirarchy': ['Computers, Components and Accessories', 'Printers and Accessories', 'Ink & Laser Printer Accessories', 'Printer Ink, Toner and Ribbons', 'Inkjet Ink Cartridges']}\n",
      "23 {'item_url': 'https://www.amazon.sg/Compatible-Anti-Slip-Replacement-Smartwatch-Charging/dp/B096JY3C2L/ref=sr_1_24?content-id=amzn1.sym.5e505bc2-b07e-47e6-b40c-4822c9c12b88&dib=eyJ2IjoiMSJ9.fW18QFEh4EoIkx2ZY3bjS1qEz7xxPgP6YXcq5DmNIXREXt6GTXWadGApS57qBplIaqrkrlCW7xdUsa4cvgmUGeLo8_4Uj4PcKljOhuhi5LJDdNGcSVvD4K0bV2ibmLTILOWFnngbdNe66hsRNo-2io0kresTyBl8W3-XmYgvcP7vcUuCSruoDYbfWrAI7Cbp_2Rh9NcyTy5TIPDr7eAsWJQyYMZSy3vX6thCBo1i-ub6f5s9Sob0VumRx0Ye-HfnIJKbhMYICGNNASONVFN6PhsspySV_4NFi2UvL04mqGkCx8Q0_yN8VZ8T3SLMzgDNsaIClMw6XGIBYKVirWvJ1ETNY3wYjj50FZNk1gpTvcM.-jAnSI_VOknPQ6McP4rjw2qsg-xt6OzgjxE62L4_oAY&dib_tag=se&m=AYH85219XLWXU&pd_rd_r=0c6cde10-08d8-489b-96fd-b43162f8c19e&pd_rd_w=9ZaaW&pd_rd_wg=2h50f&qid=1737740415&refinements=p_6%3AAYH85219XLWXU&s=electronics&sr=1-24', 'title': '3.3Ft USB Charger Compatible with Fitbit Versa 2 Charger Dock Anti-Slip Replacement Smartwatch Charging Cable Stand(not for Fitbit Versa/Versa Lite)', 'rating': '4.3', 'img_url': 'https://m.media-amazon.com/images/I/61eqBaJcFtS._AC_SX679_.jpg', 'price': ['S$11.78'], 'brand': 'Brand: Bicmice', 'category_heirarchy': ['Electronics', 'Wearable Technology', 'Smartwatch Accessories', 'Charging Docks']}\n",
      "24 {'item_url': 'https://www.amazon.sg/CARTRIGO-Cartridges-305-Cartridge-Compatible/dp/B0D9V8QXX7/ref=sr_1_25?content-id=amzn1.sym.5e505bc2-b07e-47e6-b40c-4822c9c12b88&dib=eyJ2IjoiMSJ9.A3OKi0iudbW0bX_URkG50zA90_KKXk1jRPSRy_vXjXxRylTFBmQlYInSr6-DpTw-HV8jgYR0SZPOcAIO79KaE4zVp6wHoZlS8duaiMmjlct1gv9lr7V6ppjGzCkcRaZYwP_h395CA4En4JwGfluOzy2dcmA8QSAt75ZVMi9qZmFqJZZ0lywAysUStvDgFyu3VRFrUj3t9I4aorPwCsprNTXRdzOd6rH1F626JCCnO3zdO9kdS07VXA_NvHhnAz47pW5nde21Er-Qk8rbtpcZEoSRhzUQk4qJac95J25_yLAz9RTLdT14yGxGfNlWS5WYHTeJ3xYeeRzpA-1tQ1qEo3niC7Lmn_Qxrjin5KF5poA.ZSrVRNskqLwMtmX_OtGtGWnth5pq6FlELIDFd6u5MPY&dib_tag=se&m=AYH85219XLWXU&pd_rd_r=0c6cde10-08d8-489b-96fd-b43162f8c19e&pd_rd_w=9ZaaW&pd_rd_wg=2h50f&qid=1737740505&refinements=p_6%3AAYH85219XLWXU&s=electronics&sr=1-25&xpid=GZnq29GD5hvgv', 'title': 'CARTRIGO 305XL Printer Cartridges Black, 305 Cartridge Compatible with HP 305 Printer Cartridges, 305XL Black for DeskJet 2300 2700 2800 4100 4200 Plus 4100, Envy 6010 6020 6030 6400 Pro 6400 (Pack of', 'rating': '4.1', 'img_url': 'https://m.media-amazon.com/images/I/618uzQHkX7L._AC_SX679_.jpg', 'price': ['S$35.78'], 'brand': 'Brand: CARTRIGO', 'category_heirarchy': ['Computers, Components and Accessories', 'Printers and Accessories', 'Ink & Laser Printer Accessories', 'Printer Ink, Toner and Ribbons', 'Inkjet Ink Cartridges']}\n",
      "25 {'item_url': 'https://www.amazon.sg/Compatible-Anti-Slip-Replacement-Smartwatch-Charging/dp/B096JY3C2L/ref=sr_1_26?content-id=amzn1.sym.5e505bc2-b07e-47e6-b40c-4822c9c12b88&dib=eyJ2IjoiMSJ9.A3OKi0iudbW0bX_URkG50zA90_KKXk1jRPSRy_vXjXxRylTFBmQlYInSr6-DpTw-HV8jgYR0SZPOcAIO79KaE4zVp6wHoZlS8duaiMmjlct1gv9lr7V6ppjGzCkcRaZYwP_h395CA4En4JwGfluOzy2dcmA8QSAt75ZVMi9qZmFqJZZ0lywAysUStvDgFyu3VRFrUj3t9I4aorPwCsprNTXRdzOd6rH1F626JCCnO3zdO9kdS07VXA_NvHhnAz47pW5nde21Er-Qk8rbtpcZEoSRhzUQk4qJac95J25_yLAz9RTLdT14yGxGfNlWS5WYHTeJ3xYeeRzpA-1tQ1qEo3niC7Lmn_Qxrjin5KF5poA.ZSrVRNskqLwMtmX_OtGtGWnth5pq6FlELIDFd6u5MPY&dib_tag=se&m=AYH85219XLWXU&pd_rd_r=0c6cde10-08d8-489b-96fd-b43162f8c19e&pd_rd_w=9ZaaW&pd_rd_wg=2h50f&qid=1737740505&refinements=p_6%3AAYH85219XLWXU&s=electronics&sr=1-26&xpid=GZnq29GD5hvgv', 'title': '3.3Ft USB Charger Compatible with Fitbit Versa 2 Charger Dock Anti-Slip Replacement Smartwatch Charging Cable Stand(not for Fitbit Versa/Versa Lite)', 'rating': '4.3', 'img_url': 'https://m.media-amazon.com/images/I/61eqBaJcFtS._AC_SX679_.jpg', 'price': ['S$11.78'], 'brand': 'Brand: Bicmice', 'category_heirarchy': ['Electronics', 'Wearable Technology', 'Smartwatch Accessories', 'Charging Docks']}\n",
      "26 {'item_url': 'https://www.amazon.sg/3M-Bright-Screen-Privacy-Filter/dp/B0C3WTY4VM/ref=sr_1_27?content-id=amzn1.sym.5e505bc2-b07e-47e6-b40c-4822c9c12b88&dib=eyJ2IjoiMSJ9.A3OKi0iudbW0bX_URkG50zA90_KKXk1jRPSRy_vXjXxRylTFBmQlYInSr6-DpTw-HV8jgYR0SZPOcAIO79KaE4zVp6wHoZlS8duaiMmjlct1gv9lr7V6ppjGzCkcRaZYwP_h395CA4En4JwGfluOzy2dcmA8QSAt75ZVMi9qZmFqJZZ0lywAysUStvDgFyu3VRFrUj3t9I4aorPwCsprNTXRdzOd6rH1F626JCCnO3zdO9kdS07VXA_NvHhnAz47pW5nde21Er-Qk8rbtpcZEoSRhzUQk4qJac95J25_yLAz9RTLdT14yGxGfNlWS5WYHTeJ3xYeeRzpA-1tQ1qEo3niC7Lmn_Qxrjin5KF5poA.ZSrVRNskqLwMtmX_OtGtGWnth5pq6FlELIDFd6u5MPY&dib_tag=se&m=AYH85219XLWXU&pd_rd_r=0c6cde10-08d8-489b-96fd-b43162f8c19e&pd_rd_w=9ZaaW&pd_rd_wg=2h50f&qid=1737740505&refinements=p_6%3AAYH85219XLWXU&s=electronics&sr=1-27&xpid=GZnq29GD5hvgv', 'title': '3M Bright Screen Privacy Filter for 14in Laptop, 16:10, BP140W1B', 'rating': '4.1', 'img_url': 'https://m.media-amazon.com/images/I/61zFbJMT5rL._AC_SX679_.jpg', 'price': ['S$83.83'], 'brand': 'Brand: 3M', 'category_heirarchy': ['Electronics', 'Computers, Components and Accessories', 'Accessories', 'Laptop Accessories', 'Laptop Screen Filters']}\n",
      "27 {'item_url': 'https://www.amazon.sg/GOGME-Xiaomi-Redmi-Plus-Scratch-Resistant/dp/B0DQV6TMLL/ref=sr_1_28?content-id=amzn1.sym.5e505bc2-b07e-47e6-b40c-4822c9c12b88&dib=eyJ2IjoiMSJ9.A3OKi0iudbW0bX_URkG50zA90_KKXk1jRPSRy_vXjXxRylTFBmQlYInSr6-DpTw-HV8jgYR0SZPOcAIO79KaE4zVp6wHoZlS8duaiMmjlct1gv9lr7V6ppjGzCkcRaZYwP_h395CA4En4JwGfluOzy2dcmA8QSAt75ZVMi9qZmFqJZZ0lywAysUStvDgFyu3VRFrUj3t9I4aorPwCsprNTXRdzOd6rH1F626JCCnO3zdO9kdS07VXA_NvHhnAz47pW5nde21Er-Qk8rbtpcZEoSRhzUQk4qJac95J25_yLAz9RTLdT14yGxGfNlWS5WYHTeJ3xYeeRzpA-1tQ1qEo3niC7Lmn_Qxrjin5KF5poA.ZSrVRNskqLwMtmX_OtGtGWnth5pq6FlELIDFd6u5MPY&dib_tag=se&m=AYH85219XLWXU&pd_rd_r=0c6cde10-08d8-489b-96fd-b43162f8c19e&pd_rd_w=9ZaaW&pd_rd_wg=2h50f&qid=1737740505&refinements=p_6%3AAYH85219XLWXU&s=electronics&sr=1-28&xpid=GZnq29GD5hvgv', 'title': 'GOGME Case for Xiaomi Redmi Note 14 Pro+ Plus 5G - with Screen Protector, Shockproof Mobile Phone Case, Drop-Resistant Protective Case, Scratch-Resistant, Stylish Bumper Design, Black', 'rating': 'NA', 'img_url': 'https://m.media-amazon.com/images/I/61gjxLa83jL._AC_SX679_.jpg', 'price': ['S$21.63'], 'brand': 'Brand: GOGME', 'category_heirarchy': ['Electronics', 'Mobile Phones and Communication', 'Accessories', 'Cases & Covers', 'Basic Cases']}\n",
      "28 {'item_url': 'https://www.amazon.sg/CASEOLOGY-Sandstone-Anti-Scratch-Magnetic-Protection/dp/B0D485WPD1/ref=sr_1_29?content-id=amzn1.sym.5e505bc2-b07e-47e6-b40c-4822c9c12b88&dib=eyJ2IjoiMSJ9.A3OKi0iudbW0bX_URkG50zA90_KKXk1jRPSRy_vXjXxRylTFBmQlYInSr6-DpTw-HV8jgYR0SZPOcAIO79KaE4zVp6wHoZlS8duaiMmjlct1gv9lr7V6ppjGzCkcRaZYwP_h395CA4En4JwGfluOzy2dcmA8QSAt75ZVMi9qZmFqJZZ0lywAysUStvDgFyu3VRFrUj3t9I4aorPwCsprNTXRdzOd6rH1F626JCCnO3zdO9kdS07VXA_NvHhnAz47pW5nde21Er-Qk8rbtpcZEoSRhzUQk4qJac95J25_yLAz9RTLdT14yGxGfNlWS5WYHTeJ3xYeeRzpA-1tQ1qEo3niC7Lmn_Qxrjin5KF5poA.ZSrVRNskqLwMtmX_OtGtGWnth5pq6FlELIDFd6u5MPY&dib_tag=se&m=AYH85219XLWXU&pd_rd_r=0c6cde10-08d8-489b-96fd-b43162f8c19e&pd_rd_w=9ZaaW&pd_rd_wg=2h50f&qid=1737740505&refinements=p_6%3AAYH85219XLWXU&s=electronics&sr=1-29&xpid=GZnq29GD5hvgv', 'title': 'CASEOLOGY Athlex Mag for iPhone 16 Pro Max Case [Sandstone Texture for Anti-Scratch] Magnetic Military Grade Drop Protection Case Cover for iPhone 16 Pro Max - Active Black', 'rating': '4.3', 'img_url': 'https://m.media-amazon.com/images/I/61KbSzXvejL._AC_SX679_.jpg', 'price': ['S$47.35'], 'brand': 'Visit the Caseology Store', 'category_heirarchy': ['Electronics', 'Mobile Phones and Communication', 'Accessories', 'Cases & Covers', 'Basic Cases']}\n",
      "29 {'item_url': 'https://www.amazon.sg/Waterproof-Superheroes-Skateboard-Scrapbook-Motorcycle/dp/B0D6RX3P9S/ref=sr_1_30?content-id=amzn1.sym.5e505bc2-b07e-47e6-b40c-4822c9c12b88&dib=eyJ2IjoiMSJ9.A3OKi0iudbW0bX_URkG50zA90_KKXk1jRPSRy_vXjXxRylTFBmQlYInSr6-DpTw-HV8jgYR0SZPOcAIO79KaE4zVp6wHoZlS8duaiMmjlct1gv9lr7V6ppjGzCkcRaZYwP_h395CA4En4JwGfluOzy2dcmA8QSAt75ZVMi9qZmFqJZZ0lywAysUStvDgFyu3VRFrUj3t9I4aorPwCsprNTXRdzOd6rH1F626JCCnO3zdO9kdS07VXA_NvHhnAz47pW5nde21Er-Qk8rbtpcZEoSRhzUQk4qJac95J25_yLAz9RTLdT14yGxGfNlWS5WYHTeJ3xYeeRzpA-1tQ1qEo3niC7Lmn_Qxrjin5KF5poA.ZSrVRNskqLwMtmX_OtGtGWnth5pq6FlELIDFd6u5MPY&dib_tag=se&m=AYH85219XLWXU&pd_rd_r=0c6cde10-08d8-489b-96fd-b43162f8c19e&pd_rd_w=9ZaaW&pd_rd_wg=2h50f&qid=1737740505&refinements=p_6%3AAYH85219XLWXU&s=electronics&sr=1-30&xpid=GZnq29GD5hvgv', 'title': 'Pack of 50 Marvel Stickers Waterproof Cartoon Superheroes Stickers for Laptop Skateboard Scrapbook Car Luggage Motorcycle Phone Vinyl Funny Avengers Comic Legends Sticker for Adults Children', 'rating': 'NA', 'img_url': 'https://m.media-amazon.com/images/I/81cFAXPI0DL._AC_SX679_.jpg', 'price': ['S$16.01', 'S$0.32 per count'], 'brand': 'Brand: LYLSDSB', 'category_heirarchy': ['Electronics', 'Computers, Components and Accessories', 'Accessories', 'Laptop Accessories', 'Laptop Skin Stickers', 'Decals']}\n",
      "30 {'item_url': 'https://www.amazon.sg/Corsair-Vengeance-4x32GB-PC4-25600-Desktop/dp/B08SQD14BY/ref=sr_1_31?content-id=amzn1.sym.5e505bc2-b07e-47e6-b40c-4822c9c12b88&dib=eyJ2IjoiMSJ9.A3OKi0iudbW0bX_URkG50zA90_KKXk1jRPSRy_vXjXxRylTFBmQlYInSr6-DpTw-HV8jgYR0SZPOcAIO79KaE4zVp6wHoZlS8duaiMmjlct1gv9lr7V6ppjGzCkcRaZYwP_h395CA4En4JwGfluOzy2dcmA8QSAt75ZVMi9qZmFqJZZ0lywAysUStvDgFyu3VRFrUj3t9I4aorPwCsprNTXRdzOd6rH1F626JCCnO3zdO9kdS07VXA_NvHhnAz47pW5nde21Er-Qk8rbtpcZEoSRhzUQk4qJac95J25_yLAz9RTLdT14yGxGfNlWS5WYHTeJ3xYeeRzpA-1tQ1qEo3niC7Lmn_Qxrjin5KF5poA.ZSrVRNskqLwMtmX_OtGtGWnth5pq6FlELIDFd6u5MPY&dib_tag=se&m=AYH85219XLWXU&pd_rd_r=0c6cde10-08d8-489b-96fd-b43162f8c19e&pd_rd_w=9ZaaW&pd_rd_wg=2h50f&qid=1737740505&refinements=p_6%3AAYH85219XLWXU&s=electronics&sr=1-31&xpid=GZnq29GD5hvgv', 'title': 'Corsair Vengeance RGB Pro SL 128GB (4x32GB) DDR4 3200 (PC4-25600) C16 1.35V Desktop Memory - Black (CMH128GX4M4E3200C16)', 'rating': '4.8', 'img_url': 'https://m.media-amazon.com/images/I/81dGOtA7GsL._AC_SX679_.jpg', 'price': ['S$361.93'], 'brand': 'Visit the CORSAIR Store', 'category_heirarchy': ['Electronics', 'Computers, Components and Accessories', 'Components & Replacement Parts', 'Internal Components', 'RAM']}\n",
      "31 {'item_url': 'https://www.amazon.sg/iDaPro-Protector-Lanyard-Tempered-Installation/dp/B093LD73CY/ref=sr_1_32?content-id=amzn1.sym.5e505bc2-b07e-47e6-b40c-4822c9c12b88&dib=eyJ2IjoiMSJ9.A3OKi0iudbW0bX_URkG50zA90_KKXk1jRPSRy_vXjXxRylTFBmQlYInSr6-DpTw-HV8jgYR0SZPOcAIO79KaE4zVp6wHoZlS8duaiMmjlct1gv9lr7V6ppjGzCkcRaZYwP_h395CA4En4JwGfluOzy2dcmA8QSAt75ZVMi9qZmFqJZZ0lywAysUStvDgFyu3VRFrUj3t9I4aorPwCsprNTXRdzOd6rH1F626JCCnO3zdO9kdS07VXA_NvHhnAz47pW5nde21Er-Qk8rbtpcZEoSRhzUQk4qJac95J25_yLAz9RTLdT14yGxGfNlWS5WYHTeJ3xYeeRzpA-1tQ1qEo3niC7Lmn_Qxrjin5KF5poA.ZSrVRNskqLwMtmX_OtGtGWnth5pq6FlELIDFd6u5MPY&dib_tag=se&m=AYH85219XLWXU&pd_rd_r=0c6cde10-08d8-489b-96fd-b43162f8c19e&pd_rd_w=9ZaaW&pd_rd_wg=2h50f&qid=1737740505&refinements=p_6%3AAYH85219XLWXU&s=electronics&sr=1-32&xpid=GZnq29GD5hvgv', 'title': 'iDaPro Screen Protector for Sony ZV-1 ZV-1F ZV-1 II / ZV1 ZV1F ZV1 II & Hand Lanyard [3+1 Pack] Tempered Glass Easy Installation', 'rating': '4.7', 'img_url': 'https://m.media-amazon.com/images/I/51tiOH-hGQS._AC_SX679_.jpg', 'price': ['S$21.63'], 'brand': 'Brand: iDaPro', 'category_heirarchy': ['Electronics', 'Camera and Photo', 'Accessories', 'Digital Camera Accessories', 'Screen Protector Foils']}\n",
      "32 {'item_url': 'https://www.amazon.sg/Spigen-Compatible-Samsung-Galaxy-Hybrid/dp/B0CMW31C1G/ref=sr_1_33?content-id=amzn1.sym.5e505bc2-b07e-47e6-b40c-4822c9c12b88&dib=eyJ2IjoiMSJ9.A3OKi0iudbW0bX_URkG50zA90_KKXk1jRPSRy_vXjXxRylTFBmQlYInSr6-DpTw-HV8jgYR0SZPOcAIO79KaE4zVp6wHoZlS8duaiMmjlct1gv9lr7V6ppjGzCkcRaZYwP_h395CA4En4JwGfluOzy2dcmA8QSAt75ZVMi9qZmFqJZZ0lywAysUStvDgFyu3VRFrUj3t9I4aorPwCsprNTXRdzOd6rH1F626JCCnO3zdO9kdS07VXA_NvHhnAz47pW5nde21Er-Qk8rbtpcZEoSRhzUQk4qJac95J25_yLAz9RTLdT14yGxGfNlWS5WYHTeJ3xYeeRzpA-1tQ1qEo3niC7Lmn_Qxrjin5KF5poA.ZSrVRNskqLwMtmX_OtGtGWnth5pq6FlELIDFd6u5MPY&dib_tag=se&m=AYH85219XLWXU&pd_rd_r=0c6cde10-08d8-489b-96fd-b43162f8c19e&pd_rd_w=9ZaaW&pd_rd_wg=2h50f&qid=1737740505&refinements=p_6%3AAYH85219XLWXU&s=electronics&sr=1-33&xpid=GZnq29GD5hvgv', 'title': 'Spigen Compatible for Samsung Galaxy S24 Ultra Case Ultra Hybrid - Mute Beige', 'rating': '4.2', 'img_url': 'https://m.media-amazon.com/images/I/61cPPmePF6L._AC_SX679_.jpg', 'price': ['S$32.40'], 'brand': 'Visit the Spigen Store', 'category_heirarchy': ['Electronics', 'Mobile Phones and Communication', 'Accessories', 'Cases & Covers', 'Basic Cases']}\n",
      "33 {'item_url': 'https://www.amazon.sg/Take-2-NBA-2K22-Anniversary/dp/B09B7NTM4J/ref=sr_1_34?content-id=amzn1.sym.5e505bc2-b07e-47e6-b40c-4822c9c12b88&dib=eyJ2IjoiMSJ9.A3OKi0iudbW0bX_URkG50zA90_KKXk1jRPSRy_vXjXxRylTFBmQlYInSr6-DpTw-HV8jgYR0SZPOcAIO79KaE4zVp6wHoZlS8duaiMmjlct1gv9lr7V6ppjGzCkcRaZYwP_h395CA4En4JwGfluOzy2dcmA8QSAt75ZVMi9qZmFqJZZ0lywAysUStvDgFyu3VRFrUj3t9I4aorPwCsprNTXRdzOd6rH1F626JCCnO3zdO9kdS07VXA_NvHhnAz47pW5nde21Er-Qk8rbtpcZEoSRhzUQk4qJac95J25_yLAz9RTLdT14yGxGfNlWS5WYHTeJ3xYeeRzpA-1tQ1qEo3niC7Lmn_Qxrjin5KF5poA.ZSrVRNskqLwMtmX_OtGtGWnth5pq6FlELIDFd6u5MPY&dib_tag=se&m=AYH85219XLWXU&pd_rd_r=0c6cde10-08d8-489b-96fd-b43162f8c19e&pd_rd_w=9ZaaW&pd_rd_wg=2h50f&qid=1737740505&refinements=p_6%3AAYH85219XLWXU&s=electronics&sr=1-34&xpid=GZnq29GD5hvgv', 'title': 'Take 2 NBA 2K22 Anniversary Edition', 'rating': 'NA', 'img_url': 'https://m.media-amazon.com/images/I/81GAsns6bvL._AC_SX679_.jpg', 'price': ['S$41.63'], 'brand': 'Brand: 2K Games', 'category_heirarchy': ['Electronics', 'Computers, Components and Accessories', 'Components & Replacement Parts', 'Internal Components', 'Network Interface Cards']}\n",
      "34 {'item_url': 'https://www.amazon.sg/Spigen-Compatible-Google-Pixel-Hybrid/dp/B0CVR4XWBL/ref=sr_1_35?content-id=amzn1.sym.5e505bc2-b07e-47e6-b40c-4822c9c12b88&dib=eyJ2IjoiMSJ9.A3OKi0iudbW0bX_URkG50zA90_KKXk1jRPSRy_vXjXxRylTFBmQlYInSr6-DpTw-HV8jgYR0SZPOcAIO79KaE4zVp6wHoZlS8duaiMmjlct1gv9lr7V6ppjGzCkcRaZYwP_h395CA4En4JwGfluOzy2dcmA8QSAt75ZVMi9qZmFqJZZ0lywAysUStvDgFyu3VRFrUj3t9I4aorPwCsprNTXRdzOd6rH1F626JCCnO3zdO9kdS07VXA_NvHhnAz47pW5nde21Er-Qk8rbtpcZEoSRhzUQk4qJac95J25_yLAz9RTLdT14yGxGfNlWS5WYHTeJ3xYeeRzpA-1tQ1qEo3niC7Lmn_Qxrjin5KF5poA.ZSrVRNskqLwMtmX_OtGtGWnth5pq6FlELIDFd6u5MPY&dib_tag=se&m=AYH85219XLWXU&pd_rd_r=0c6cde10-08d8-489b-96fd-b43162f8c19e&pd_rd_w=9ZaaW&pd_rd_wg=2h50f&qid=1737740505&refinements=p_6%3AAYH85219XLWXU&s=electronics&sr=1-35&xpid=GZnq29GD5hvgv', 'title': 'Spigen Compatible with Google Pixel 9 Pro/Pixel 9 Case Ultra Hybrid - Zero One', 'rating': '4.6', 'img_url': 'https://m.media-amazon.com/images/I/610QqBNY1qL._AC_SX679_.jpg', 'price': ['S$40.79'], 'brand': 'Visit the Spigen Store', 'category_heirarchy': ['Electronics', 'Mobile Phones and Communication', 'Accessories', 'Cases & Covers', 'Basic Cases']}\n",
      "35 {'item_url': 'https://www.amazon.sg/TaiZiChangQin-Replacement-Compatible-TaoTronics-Headphone/dp/B0D9RXJRK3/ref=sr_1_36?content-id=amzn1.sym.5e505bc2-b07e-47e6-b40c-4822c9c12b88&dib=eyJ2IjoiMSJ9.A3OKi0iudbW0bX_URkG50zA90_KKXk1jRPSRy_vXjXxRylTFBmQlYInSr6-DpTw-HV8jgYR0SZPOcAIO79KaE4zVp6wHoZlS8duaiMmjlct1gv9lr7V6ppjGzCkcRaZYwP_h395CA4En4JwGfluOzy2dcmA8QSAt75ZVMi9qZmFqJZZ0lywAysUStvDgFyu3VRFrUj3t9I4aorPwCsprNTXRdzOd6rH1F626JCCnO3zdO9kdS07VXA_NvHhnAz47pW5nde21Er-Qk8rbtpcZEoSRhzUQk4qJac95J25_yLAz9RTLdT14yGxGfNlWS5WYHTeJ3xYeeRzpA-1tQ1qEo3niC7Lmn_Qxrjin5KF5poA.ZSrVRNskqLwMtmX_OtGtGWnth5pq6FlELIDFd6u5MPY&dib_tag=se&m=AYH85219XLWXU&pd_rd_r=0c6cde10-08d8-489b-96fd-b43162f8c19e&pd_rd_w=9ZaaW&pd_rd_wg=2h50f&qid=1737740505&refinements=p_6%3AAYH85219XLWXU&s=electronics&sr=1-36&xpid=GZnq29GD5hvgv', 'title': 'TaiZiChangQin Cooling Gel Ear Pads Cushions Replacement Compatible with TaoTronics TT-BH090 TT-BH085 TT-BH060 TT-BH055 Headphone Earpads Headband Cover Kit', 'rating': '3.5', 'img_url': 'https://m.media-amazon.com/images/I/81XJOFhT5zL._AC_SX679_.jpg', 'price': ['S$32.38'], 'brand': 'Brand: TaiZiChangQin', 'category_heirarchy': ['Electronics', 'Headphones, Earbuds and Accessories', 'Earpads']}\n",
      "36 {'item_url': 'https://www.amazon.sg/ElectroCookie-Raspberry-Aluminum-Active-Lighting/dp/B0DN673LGK/ref=sr_1_37?content-id=amzn1.sym.5e505bc2-b07e-47e6-b40c-4822c9c12b88&dib=eyJ2IjoiMSJ9.A3OKi0iudbW0bX_URkG50zA90_KKXk1jRPSRy_vXjXxRylTFBmQlYInSr6-DpTw-HV8jgYR0SZPOcAIO79KaE4zVp6wHoZlS8duaiMmjlct1gv9lr7V6ppjGzCkcRaZYwP_h395CA4En4JwGfluOzy2dcmA8QSAt75ZVMi9qZmFqJZZ0lywAysUStvDgFyu3VRFrUj3t9I4aorPwCsprNTXRdzOd6rH1F626JCCnO3zdO9kdS07VXA_NvHhnAz47pW5nde21Er-Qk8rbtpcZEoSRhzUQk4qJac95J25_yLAz9RTLdT14yGxGfNlWS5WYHTeJ3xYeeRzpA-1tQ1qEo3niC7Lmn_Qxrjin5KF5poA.ZSrVRNskqLwMtmX_OtGtGWnth5pq6FlELIDFd6u5MPY&dib_tag=se&m=AYH85219XLWXU&pd_rd_r=0c6cde10-08d8-489b-96fd-b43162f8c19e&pd_rd_w=9ZaaW&pd_rd_wg=2h50f&qid=1737740505&refinements=p_6%3AAYH85219XLWXU&s=electronics&sr=1-37&xpid=GZnq29GD5hvgv', 'title': 'ElectroCookie Raspberry Pi 5 Case, Aluminum Mini Tower Case with M.2 NVMe SSD PCIe HAT and Active RGB Lighting Cooler (Black)', 'rating': 'NA', 'img_url': 'https://m.media-amazon.com/images/I/81gOxRTTtTL._AC_SX679_.jpg', 'price': ['S$70.41'], 'brand': 'Brand: ElectroCookie', 'category_heirarchy': ['Electronics', 'Computers, Components and Accessories', 'Components & Replacement Parts', 'External Components', 'Computer Cases']}\n",
      "37 {'item_url': 'https://www.amazon.sg/Poetic-Protection-Kickstand-Protective-ONEPLUS-OPEN-01/dp/B0CRYX75JP/ref=sr_1_38?content-id=amzn1.sym.5e505bc2-b07e-47e6-b40c-4822c9c12b88&dib=eyJ2IjoiMSJ9.A3OKi0iudbW0bX_URkG50zA90_KKXk1jRPSRy_vXjXxRylTFBmQlYInSr6-DpTw-HV8jgYR0SZPOcAIO79KaE4zVp6wHoZlS8duaiMmjlct1gv9lr7V6ppjGzCkcRaZYwP_h395CA4En4JwGfluOzy2dcmA8QSAt75ZVMi9qZmFqJZZ0lywAysUStvDgFyu3VRFrUj3t9I4aorPwCsprNTXRdzOd6rH1F626JCCnO3zdO9kdS07VXA_NvHhnAz47pW5nde21Er-Qk8rbtpcZEoSRhzUQk4qJac95J25_yLAz9RTLdT14yGxGfNlWS5WYHTeJ3xYeeRzpA-1tQ1qEo3niC7Lmn_Qxrjin5KF5poA.ZSrVRNskqLwMtmX_OtGtGWnth5pq6FlELIDFd6u5MPY&dib_tag=se&m=AYH85219XLWXU&pd_rd_r=0c6cde10-08d8-489b-96fd-b43162f8c19e&pd_rd_w=9ZaaW&pd_rd_wg=2h50f&qid=1737740505&refinements=p_6%3AAYH85219XLWXU&s=electronics&sr=1-38&xpid=GZnq29GD5hvgv', 'title': 'Poetic Spartan Case for OnePlus Open/Oppo Find N3, [Hinge Protection] [Kickstand] [Oppo Pen Holder] Full-Body Protective Rugged Cover, Built-in Screen Protector, Gun Metal, ONEPLUS-OPEN-01', 'rating': '3.2', 'img_url': 'https://m.media-amazon.com/images/I/71M5Q9wW8aL.__AC_SX300_SY300_QL70_ML2_.jpg', 'price': ['S$75.84 with 13 percent savings', 'Was: S$87.56'], 'brand': 'Brand: Poetic', 'category_heirarchy': ['Electronics', 'Mobile Phones and Communication', 'Accessories', 'Cases & Covers', 'Basic Cases']}\n",
      "38 {'item_url': 'https://www.amazon.sg/Spigen-Compatible-iPhone-Tough-MagFit/dp/B0D21FFCPQ/ref=sr_1_39?content-id=amzn1.sym.5e505bc2-b07e-47e6-b40c-4822c9c12b88&dib=eyJ2IjoiMSJ9.A3OKi0iudbW0bX_URkG50zA90_KKXk1jRPSRy_vXjXxRylTFBmQlYInSr6-DpTw-HV8jgYR0SZPOcAIO79KaE4zVp6wHoZlS8duaiMmjlct1gv9lr7V6ppjGzCkcRaZYwP_h395CA4En4JwGfluOzy2dcmA8QSAt75ZVMi9qZmFqJZZ0lywAysUStvDgFyu3VRFrUj3t9I4aorPwCsprNTXRdzOd6rH1F626JCCnO3zdO9kdS07VXA_NvHhnAz47pW5nde21Er-Qk8rbtpcZEoSRhzUQk4qJac95J25_yLAz9RTLdT14yGxGfNlWS5WYHTeJ3xYeeRzpA-1tQ1qEo3niC7Lmn_Qxrjin5KF5poA.ZSrVRNskqLwMtmX_OtGtGWnth5pq6FlELIDFd6u5MPY&dib_tag=se&m=AYH85219XLWXU&pd_rd_r=0c6cde10-08d8-489b-96fd-b43162f8c19e&pd_rd_w=9ZaaW&pd_rd_wg=2h50f&qid=1737740505&refinements=p_6%3AAYH85219XLWXU&s=electronics&sr=1-39&xpid=GZnq29GD5hvgv', 'title': 'Spigen Compatible with iPhone 16 Pro Case Tough Armor (AI) MagFit - Gunmetal', 'rating': '4.6', 'img_url': 'https://m.media-amazon.com/images/I/61nwsly0N0L._AC_SX679_.jpg', 'price': ['S$51.31 with 19 percent savings', 'List Price: S$62.99'], 'brand': 'Visit the Spigen Store', 'category_heirarchy': ['Electronics', 'Mobile Phones and Communication', 'Accessories', 'Cases & Covers', 'Basic Cases']}\n",
      "39 {'item_url': 'https://www.amazon.sg/eleger-Compatible-A2681-A3113-Released/dp/B0D9NCW821/ref=sr_1_40?content-id=amzn1.sym.5e505bc2-b07e-47e6-b40c-4822c9c12b88&dib=eyJ2IjoiMSJ9.A3OKi0iudbW0bX_URkG50zA90_KKXk1jRPSRy_vXjXxRylTFBmQlYInSr6-DpTw-HV8jgYR0SZPOcAIO79KaE4zVp6wHoZlS8duaiMmjlct1gv9lr7V6ppjGzCkcRaZYwP_h395CA4En4JwGfluOzy2dcmA8QSAt75ZVMi9qZmFqJZZ0lywAysUStvDgFyu3VRFrUj3t9I4aorPwCsprNTXRdzOd6rH1F626JCCnO3zdO9kdS07VXA_NvHhnAz47pW5nde21Er-Qk8rbtpcZEoSRhzUQk4qJac95J25_yLAz9RTLdT14yGxGfNlWS5WYHTeJ3xYeeRzpA-1tQ1qEo3niC7Lmn_Qxrjin5KF5poA.ZSrVRNskqLwMtmX_OtGtGWnth5pq6FlELIDFd6u5MPY&dib_tag=se&m=AYH85219XLWXU&pd_rd_r=0c6cde10-08d8-489b-96fd-b43162f8c19e&pd_rd_w=9ZaaW&pd_rd_wg=2h50f&qid=1737740505&refinements=p_6%3AAYH85219XLWXU&s=electronics&sr=1-40&xpid=GZnq29GD5hvgv', 'title': 'eleger Case Compatible with MacBook Air 13 inch M2 A2681 M3 A3113, Released in 2022 2024, Hard Plastic Shell Cover for MacBook Air 13.6\", Black Clear', 'rating': '4.0', 'img_url': 'https://m.media-amazon.com/images/I/510p1EnqwCL._AC_SX679_.jpg', 'price': ['S$25.55'], 'brand': 'Brand: eleger', 'category_heirarchy': ['Electronics', 'Computers, Components and Accessories', 'Accessories', 'Laptop Accessories', 'Laptop Bags and Cases', 'Laptop Hard Shell Cases']}\n",
      "40 {'item_url': 'https://www.amazon.sg/Thule-Construct-Backpack-Black-3204169/dp/B07VV6SN6F/ref=sr_1_41?content-id=amzn1.sym.5e505bc2-b07e-47e6-b40c-4822c9c12b88&dib=eyJ2IjoiMSJ9.A3OKi0iudbW0bX_URkG50zA90_KKXk1jRPSRy_vXjXxRylTFBmQlYInSr6-DpTw-HV8jgYR0SZPOcAIO79KaE4zVp6wHoZlS8duaiMmjlct1gv9lr7V6ppjGzCkcRaZYwP_h395CA4En4JwGfluOzy2dcmA8QSAt75ZVMi9qZmFqJZZ0lywAysUStvDgFyu3VRFrUj3t9I4aorPwCsprNTXRdzOd6rH1F626JCCnO3zdO9kdS07VXA_NvHhnAz47pW5nde21Er-Qk8rbtpcZEoSRhzUQk4qJac95J25_yLAz9RTLdT14yGxGfNlWS5WYHTeJ3xYeeRzpA-1tQ1qEo3niC7Lmn_Qxrjin5KF5poA.ZSrVRNskqLwMtmX_OtGtGWnth5pq6FlELIDFd6u5MPY&dib_tag=se&m=AYH85219XLWXU&pd_rd_r=0c6cde10-08d8-489b-96fd-b43162f8c19e&pd_rd_w=9ZaaW&pd_rd_wg=2h50f&qid=1737740505&refinements=p_6%3AAYH85219XLWXU&s=electronics&sr=1-41&xpid=GZnq29GD5hvgv', 'title': 'Thule Construct Backpack', 'rating': '4.7', 'img_url': 'https://m.media-amazon.com/images/I/816CaSg+wGL._AC_SX679_.jpg', 'price': ['S$184.83 with 15 percent savings', 'List Price: S$218.00'], 'brand': 'Brand: THULE', 'category_heirarchy': ['Electronics', 'Computers, Components and Accessories', 'Accessories', 'Laptop Accessories', 'Laptop Bags and Cases', 'Laptop Backpacks']}\n",
      "41 {'item_url': 'https://www.amazon.sg/HAFFAN-Samsung-Galaxy-S21-Plus/dp/B0CJJNV1YR/ref=sr_1_42?content-id=amzn1.sym.5e505bc2-b07e-47e6-b40c-4822c9c12b88&dib=eyJ2IjoiMSJ9.A3OKi0iudbW0bX_URkG50zA90_KKXk1jRPSRy_vXjXxRylTFBmQlYInSr6-DpTw-HV8jgYR0SZPOcAIO79KaE4zVp6wHoZlS8duaiMmjlct1gv9lr7V6ppjGzCkcRaZYwP_h395CA4En4JwGfluOzy2dcmA8QSAt75ZVMi9qZmFqJZZ0lywAysUStvDgFyu3VRFrUj3t9I4aorPwCsprNTXRdzOd6rH1F626JCCnO3zdO9kdS07VXA_NvHhnAz47pW5nde21Er-Qk8rbtpcZEoSRhzUQk4qJac95J25_yLAz9RTLdT14yGxGfNlWS5WYHTeJ3xYeeRzpA-1tQ1qEo3niC7Lmn_Qxrjin5KF5poA.ZSrVRNskqLwMtmX_OtGtGWnth5pq6FlELIDFd6u5MPY&dib_tag=se&m=AYH85219XLWXU&pd_rd_r=0c6cde10-08d8-489b-96fd-b43162f8c19e&pd_rd_w=9ZaaW&pd_rd_wg=2h50f&qid=1737740505&refinements=p_6%3AAYH85219XLWXU&s=electronics&sr=1-42&xpid=GZnq29GD5hvgv', 'title': 'HAFFAN TPU Silicone Case Compatible with Samsung Galaxy S21+ / Samsung S21 Plus (6.7 inches), Mobile Phone Case Protective Cover - Dark Green', 'rating': '4.6', 'img_url': 'https://m.media-amazon.com/images/I/61uojqmeMXL._AC_SY879_.jpg', 'price': ['S$13.75'], 'brand': 'Brand: HAFFAN', 'category_heirarchy': ['Electronics', 'Mobile Phones and Communication', 'Accessories', 'Cases & Covers', 'Basic Cases']}\n",
      "42 {'item_url': 'https://www.amazon.sg/Compatible-Protection-Scratch-Resistant-Shockproof-Transparent/dp/B09X135SGC/ref=sr_1_43?content-id=amzn1.sym.5e505bc2-b07e-47e6-b40c-4822c9c12b88&dib=eyJ2IjoiMSJ9.A3OKi0iudbW0bX_URkG50zA90_KKXk1jRPSRy_vXjXxRylTFBmQlYInSr6-DpTw-HV8jgYR0SZPOcAIO79KaE4zVp6wHoZlS8duaiMmjlct1gv9lr7V6ppjGzCkcRaZYwP_h395CA4En4JwGfluOzy2dcmA8QSAt75ZVMi9qZmFqJZZ0lywAysUStvDgFyu3VRFrUj3t9I4aorPwCsprNTXRdzOd6rH1F626JCCnO3zdO9kdS07VXA_NvHhnAz47pW5nde21Er-Qk8rbtpcZEoSRhzUQk4qJac95J25_yLAz9RTLdT14yGxGfNlWS5WYHTeJ3xYeeRzpA-1tQ1qEo3niC7Lmn_Qxrjin5KF5poA.ZSrVRNskqLwMtmX_OtGtGWnth5pq6FlELIDFd6u5MPY&dib_tag=se&m=AYH85219XLWXU&pd_rd_r=0c6cde10-08d8-489b-96fd-b43162f8c19e&pd_rd_w=9ZaaW&pd_rd_wg=2h50f&qid=1737740505&refinements=p_6%3AAYH85219XLWXU&s=electronics&sr=1-43&xpid=GZnq29GD5hvgv', 'title': 'Magnetic Case for iPhone XS Max, Compatible with MagSafe, Military Protection, Anti Yellow Scratch-Resistant, Shockproof, Slim Transparent Mobile Phone Case for iPhone XS Max', 'rating': '4.3', 'img_url': 'https://m.media-amazon.com/images/I/61I6IoL9eeL._AC_SY879_.jpg', 'price': ['S$23.86'], 'brand': 'Brand: S. Dawezo', 'category_heirarchy': ['Electronics', 'Mobile Phones and Communication', 'Accessories', 'Cases & Covers', 'Basic Cases']}\n",
      "43 {'item_url': 'https://www.amazon.sg/Spigen-Compatible-Google-Pixel-Armor/dp/B0CVR4Q9ZZ/ref=sr_1_44?content-id=amzn1.sym.5e505bc2-b07e-47e6-b40c-4822c9c12b88&dib=eyJ2IjoiMSJ9.A3OKi0iudbW0bX_URkG50zA90_KKXk1jRPSRy_vXjXxRylTFBmQlYInSr6-DpTw-HV8jgYR0SZPOcAIO79KaE4zVp6wHoZlS8duaiMmjlct1gv9lr7V6ppjGzCkcRaZYwP_h395CA4En4JwGfluOzy2dcmA8QSAt75ZVMi9qZmFqJZZ0lywAysUStvDgFyu3VRFrUj3t9I4aorPwCsprNTXRdzOd6rH1F626JCCnO3zdO9kdS07VXA_NvHhnAz47pW5nde21Er-Qk8rbtpcZEoSRhzUQk4qJac95J25_yLAz9RTLdT14yGxGfNlWS5WYHTeJ3xYeeRzpA-1tQ1qEo3niC7Lmn_Qxrjin5KF5poA.ZSrVRNskqLwMtmX_OtGtGWnth5pq6FlELIDFd6u5MPY&dib_tag=se&m=AYH85219XLWXU&pd_rd_r=0c6cde10-08d8-489b-96fd-b43162f8c19e&pd_rd_w=9ZaaW&pd_rd_wg=2h50f&qid=1737740505&refinements=p_6%3AAYH85219XLWXU&s=electronics&sr=1-44&xpid=GZnq29GD5hvgv', 'title': 'Spigen Compatible with Google Pixel 9 Pro/Pixel 9 Case Slim Armor CS - Abyss Green', 'rating': '4.6', 'img_url': 'https://m.media-amazon.com/images/I/61qjk6XIEkL._AC_SX679_.jpg', 'price': ['S$47.72'], 'brand': 'Visit the Spigen Store', 'category_heirarchy': ['Electronics', 'Mobile Phones and Communication', 'Accessories', 'Cases & Covers', 'Basic Cases']}\n",
      "44 {'item_url': 'https://www.amazon.sg/Spigen-Compatible-iPhone-Hybrid-MagFit/dp/B0D21TT7K7/ref=sr_1_45?content-id=amzn1.sym.5e505bc2-b07e-47e6-b40c-4822c9c12b88&dib=eyJ2IjoiMSJ9.A3OKi0iudbW0bX_URkG50zA90_KKXk1jRPSRy_vXjXxRylTFBmQlYInSr6-DpTw-HV8jgYR0SZPOcAIO79KaE4zVp6wHoZlS8duaiMmjlct1gv9lr7V6ppjGzCkcRaZYwP_h395CA4En4JwGfluOzy2dcmA8QSAt75ZVMi9qZmFqJZZ0lywAysUStvDgFyu3VRFrUj3t9I4aorPwCsprNTXRdzOd6rH1F626JCCnO3zdO9kdS07VXA_NvHhnAz47pW5nde21Er-Qk8rbtpcZEoSRhzUQk4qJac95J25_yLAz9RTLdT14yGxGfNlWS5WYHTeJ3xYeeRzpA-1tQ1qEo3niC7Lmn_Qxrjin5KF5poA.ZSrVRNskqLwMtmX_OtGtGWnth5pq6FlELIDFd6u5MPY&dib_tag=se&m=AYH85219XLWXU&pd_rd_r=0c6cde10-08d8-489b-96fd-b43162f8c19e&pd_rd_w=9ZaaW&pd_rd_wg=2h50f&qid=1737740505&refinements=p_6%3AAYH85219XLWXU&s=electronics&sr=1-45&xpid=GZnq29GD5hvgv', 'title': 'Spigen Compatible with iPhone 16 Case Ultra Hybrid S MagFit - Crystal Clear', 'rating': '4.8', 'img_url': 'https://m.media-amazon.com/images/I/61Y2NP3LgDL._AC_SX679_.jpg', 'price': ['S$60.70'], 'brand': 'Visit the Spigen Store', 'category_heirarchy': ['Electronics', 'Mobile Phones and Communication', 'Accessories', 'Cases & Covers', 'Basic Cases']}\n",
      "45 {'item_url': 'https://www.amazon.sg/PopSockets-Translucent-Expanding-Kickstand-PopGrip/dp/B0D92BMNFL/ref=sr_1_46?content-id=amzn1.sym.5e505bc2-b07e-47e6-b40c-4822c9c12b88&dib=eyJ2IjoiMSJ9.A3OKi0iudbW0bX_URkG50zA90_KKXk1jRPSRy_vXjXxRylTFBmQlYInSr6-DpTw-HV8jgYR0SZPOcAIO79KaE4zVp6wHoZlS8duaiMmjlct1gv9lr7V6ppjGzCkcRaZYwP_h395CA4En4JwGfluOzy2dcmA8QSAt75ZVMi9qZmFqJZZ0lywAysUStvDgFyu3VRFrUj3t9I4aorPwCsprNTXRdzOd6rH1F626JCCnO3zdO9kdS07VXA_NvHhnAz47pW5nde21Er-Qk8rbtpcZEoSRhzUQk4qJac95J25_yLAz9RTLdT14yGxGfNlWS5WYHTeJ3xYeeRzpA-1tQ1qEo3niC7Lmn_Qxrjin5KF5poA.ZSrVRNskqLwMtmX_OtGtGWnth5pq6FlELIDFd6u5MPY&dib_tag=se&m=AYH85219XLWXU&pd_rd_r=0c6cde10-08d8-489b-96fd-b43162f8c19e&pd_rd_w=9ZaaW&pd_rd_wg=2h50f&qid=1737740505&refinements=p_6%3AAYH85219XLWXU&s=electronics&sr=1-46&xpid=GZnq29GD5hvgv', 'title': 'PopSockets Translucent Phone Grip with Expanding Kickstand, PopSockets for Phone, Translucent PopGrip - Blue Bird', 'rating': '4.4', 'img_url': 'https://m.media-amazon.com/images/I/61r+Gng1PtL._AC_SX679_.jpg', 'price': ['S$21.63'], 'brand': 'Brand: PopSockets', 'category_heirarchy': ['Electronics', 'Mobile Phones and Communication', 'Accessories', 'Grips']}\n",
      "46 {'item_url': 'https://www.amazon.sg/Lacdo-Protective-Shoulder-2024-2019-Computer/dp/B089VKPFQW/ref=sr_1_47?content-id=amzn1.sym.5e505bc2-b07e-47e6-b40c-4822c9c12b88&dib=eyJ2IjoiMSJ9.A3OKi0iudbW0bX_URkG50zA90_KKXk1jRPSRy_vXjXxRylTFBmQlYInSr6-DpTw-HV8jgYR0SZPOcAIO79KaE4zVp6wHoZlS8duaiMmjlct1gv9lr7V6ppjGzCkcRaZYwP_h395CA4En4JwGfluOzy2dcmA8QSAt75ZVMi9qZmFqJZZ0lywAysUStvDgFyu3VRFrUj3t9I4aorPwCsprNTXRdzOd6rH1F626JCCnO3zdO9kdS07VXA_NvHhnAz47pW5nde21Er-Qk8rbtpcZEoSRhzUQk4qJac95J25_yLAz9RTLdT14yGxGfNlWS5WYHTeJ3xYeeRzpA-1tQ1qEo3niC7Lmn_Qxrjin5KF5poA.ZSrVRNskqLwMtmX_OtGtGWnth5pq6FlELIDFd6u5MPY&dib_tag=se&m=AYH85219XLWXU&pd_rd_r=0c6cde10-08d8-489b-96fd-b43162f8c19e&pd_rd_w=9ZaaW&pd_rd_wg=2h50f&qid=1737740505&refinements=p_6%3AAYH85219XLWXU&s=electronics&sr=1-47&xpid=GZnq29GD5hvgv', 'title': 'Lacdo 11.6-16 inch Laptop Computer Notebook Ultrabook Macbook Shoulder Messenger Bag Sleeve', 'rating': '4.6', 'img_url': 'https://m.media-amazon.com/images/I/91qroASF+4L._AC_SX679_.jpg', 'price': ['S$66.85'], 'brand': 'Visit the Lacdo Store', 'category_heirarchy': ['Electronics', 'Computers, Components and Accessories', 'Accessories', 'Laptop Accessories', 'Laptop Bags and Cases', 'Laptop Messenger & Shoulder Bags']}\n",
      "47 {'item_url': 'https://www.amazon.sg/Polaroid-6110-Hi-Print-Case/dp/B08NTSTQT6/ref=sr_1_48?content-id=amzn1.sym.5e505bc2-b07e-47e6-b40c-4822c9c12b88&dib=eyJ2IjoiMSJ9.A3OKi0iudbW0bX_URkG50zA90_KKXk1jRPSRy_vXjXxRylTFBmQlYInSr6-DpTw-HV8jgYR0SZPOcAIO79KaE4zVp6wHoZlS8duaiMmjlct1gv9lr7V6ppjGzCkcRaZYwP_h395CA4En4JwGfluOzy2dcmA8QSAt75ZVMi9qZmFqJZZ0lywAysUStvDgFyu3VRFrUj3t9I4aorPwCsprNTXRdzOd6rH1F626JCCnO3zdO9kdS07VXA_NvHhnAz47pW5nde21Er-Qk8rbtpcZEoSRhzUQk4qJac95J25_yLAz9RTLdT14yGxGfNlWS5WYHTeJ3xYeeRzpA-1tQ1qEo3niC7Lmn_Qxrjin5KF5poA.ZSrVRNskqLwMtmX_OtGtGWnth5pq6FlELIDFd6u5MPY&dib_tag=se&m=AYH85219XLWXU&pd_rd_r=0c6cde10-08d8-489b-96fd-b43162f8c19e&pd_rd_w=9ZaaW&pd_rd_wg=2h50f&qid=1737740505&refinements=p_6%3AAYH85219XLWXU&s=electronics&sr=1-48&xpid=GZnq29GD5hvgv', 'title': 'Polaroid Hi-Print Case', 'rating': '4.7', 'img_url': 'https://m.media-amazon.com/images/I/71uH9c-l-2L._AC_SX679_.jpg', 'price': ['S$30.68'], 'brand': 'Brand: Polaroid', 'category_heirarchy': ['Electronics', 'Computers, Components and Accessories', 'Networking Devices', 'Print Servers']}\n"
     ]
    }
   ],
   "source": [
    "for item_spec_url in item_spec_url_list:\n",
    "    driver.get(item_spec_url)\n",
    "    time.sleep(3)\n",
    "    item_html_source = driver.page_source\n",
    "    item_soup = BeautifulSoup(item_html_source, 'html.parser')\n",
    "    item_dict = {}\n",
    "    item_dict['item_url'] = item_spec_url\n",
    "    item_dict['title'] = (item_soup.find('span', id = 'productTitle').contents)[0].strip()\n",
    "    try:\n",
    "        item_dict['rating'] = item_soup.find('div', id = 'averageCustomerReviews').findAll('span')[3].contents[0].strip()\n",
    "    except: \n",
    "        item_dict['rating'] = 'NA'\n",
    "    item_dict['img_url'] = item_soup.find('img', id = 'landingImage').get('src')\n",
    "\n",
    "    try:\n",
    "        price_span_list = item_soup.find('div', id = 'corePrice_desktop').findAll('span', class_ = 'a-offscreen')\n",
    "        price_list = []\n",
    "        for price_span in price_span_list:\n",
    "            price_list.append(price_span.get_text().strip())\n",
    "        item_dict['price'] = price_list\n",
    "    except:\n",
    "        price_span_list = item_soup.find('div', id = 'corePriceDisplay_desktop_feature_div').findAll('span', class_ = 'aok-offscreen')\n",
    "        price_list = []\n",
    "        for price_span in price_span_list:\n",
    "            price_list.append(price_span.get_text().strip())\n",
    "        item_dict['price'] = price_list\n",
    "\n",
    "    try:\n",
    "        item_dict['brand'] = item_soup.find('div', id = 'titleBlockLeftSection').getText().strip()\n",
    "    except:\n",
    "        item_dict['brand'] = item_soup.find('div', id = 'bylineInfo_feature_div').getText().strip()\n",
    "        \n",
    "\n",
    "    categs_component_list = item_soup.find('div', id ='wayfinding-breadcrumbs_container').findAll('li')\n",
    "    categ_list = []\n",
    "    for li_component in categs_component_list:\n",
    "        if not li_component.find('span', class_ = 'a-list-item a-color-tertiary'):\n",
    "            categ_list.append(li_component.getText().strip())\n",
    "    item_dict['category_heirarchy'] = categ_list\n",
    "\n",
    "    item_list.append(item_dict)\n",
    "    print(i, item_dict)\n",
    "    time.sleep(1)\n",
    "    i = i + 1"
   ]
  },
  {
   "cell_type": "code",
   "execution_count": 159,
   "metadata": {},
   "outputs": [
    {
     "data": {
      "text/plain": [
       "48"
      ]
     },
     "execution_count": 159,
     "metadata": {},
     "output_type": "execute_result"
    }
   ],
   "source": [
    "len(item_list)"
   ]
  },
  {
   "cell_type": "code",
   "execution_count": 160,
   "metadata": {},
   "outputs": [
    {
     "data": {
      "text/plain": [
       "{'item_url': 'https://www.amazon.sg/Polaroid-6110-Hi-Print-Case/dp/B08NTSTQT6/ref=sr_1_48?content-id=amzn1.sym.5e505bc2-b07e-47e6-b40c-4822c9c12b88&dib=eyJ2IjoiMSJ9.A3OKi0iudbW0bX_URkG50zA90_KKXk1jRPSRy_vXjXxRylTFBmQlYInSr6-DpTw-HV8jgYR0SZPOcAIO79KaE4zVp6wHoZlS8duaiMmjlct1gv9lr7V6ppjGzCkcRaZYwP_h395CA4En4JwGfluOzy2dcmA8QSAt75ZVMi9qZmFqJZZ0lywAysUStvDgFyu3VRFrUj3t9I4aorPwCsprNTXRdzOd6rH1F626JCCnO3zdO9kdS07VXA_NvHhnAz47pW5nde21Er-Qk8rbtpcZEoSRhzUQk4qJac95J25_yLAz9RTLdT14yGxGfNlWS5WYHTeJ3xYeeRzpA-1tQ1qEo3niC7Lmn_Qxrjin5KF5poA.ZSrVRNskqLwMtmX_OtGtGWnth5pq6FlELIDFd6u5MPY&dib_tag=se&m=AYH85219XLWXU&pd_rd_r=0c6cde10-08d8-489b-96fd-b43162f8c19e&pd_rd_w=9ZaaW&pd_rd_wg=2h50f&qid=1737740505&refinements=p_6%3AAYH85219XLWXU&s=electronics&sr=1-48&xpid=GZnq29GD5hvgv',\n",
       " 'title': 'Polaroid Hi-Print Case',\n",
       " 'rating': '4.7',\n",
       " 'img_url': 'https://m.media-amazon.com/images/I/71uH9c-l-2L._AC_SX679_.jpg',\n",
       " 'price': ['S$30.68'],\n",
       " 'brand': 'Brand: Polaroid',\n",
       " 'category_heirarchy': ['Electronics',\n",
       "  'Computers, Components and Accessories',\n",
       "  'Networking Devices',\n",
       "  'Print Servers']}"
      ]
     },
     "execution_count": 160,
     "metadata": {},
     "output_type": "execute_result"
    }
   ],
   "source": [
    "item_list[-1]"
   ]
  },
  {
   "cell_type": "code",
   "execution_count": 161,
   "metadata": {},
   "outputs": [
    {
     "name": "stdout",
     "output_type": "stream",
     "text": [
      "Data saved to electronics_data_1_48.json.\n"
     ]
    }
   ],
   "source": [
    "import json\n",
    "\n",
    "# Specify the JSON file name\n",
    "file_name = \"electronics_data_1_48.json\"\n",
    "\n",
    "# Save the list of dictionaries to the JSON file\n",
    "with open(file_name, \"w\") as json_file:\n",
    "    json.dump(item_list, json_file, indent=4)  # `indent=4` makes the JSON file readable\n",
    "\n",
    "print(f\"Data saved to {file_name}.\")"
   ]
  },
  {
   "cell_type": "code",
   "execution_count": 109,
   "metadata": {},
   "outputs": [
    {
     "data": {
      "text/plain": [
       "{'item_url': 'https://www.amazon.sg/Steve-Madden-Bevelyn-Convertible-Crossbody/dp/B0CQKKRH4M/ref=sr_1_1?content-id=amzn1.sym.5e505bc2-b07e-47e6-b40c-4822c9c12b88&dib=eyJ2IjoiMSJ9.bzAOnQw30-4PBRgODFePKQY5Q45ezvfjAH6UPSvhO4BqdvNNLgqT99l9Mub8cCX5M-fU1RNUy7hI7qcu_ENczLdYwURDCWqFKKHOBNbjTtKYd5OlalxaHi4LZEOb5snWfjA3UgqbTXDhS40UWQ20NaFPvQNaazjD2H04Y-3W6-TKxLiHgtbV95VCgF_xn5AQ0admZHXH0r1u8DFwEq_RyxKththIqSsmQKKhVbatWmSzxGtffdscuYhZKX8_R58ZH6nrCKfdz2ggdNUqLq_4bxYBPGmKNT2C6RcFW89Ws27n8s0UcSAfh8sf43PYAnaezC4x3ufvApQxNN_gzG6sf37rh9QwtwUt_5XlsjrMb_MVNov06iSk4iSE-NQrP5-EePKP1WKMyXR9DbOGW2dFr-uG-dR9BG0ZHz84mfiwHjXi7LQKFwRJzrr4agX2QuYL.B4nvd0mTIuxeviwIyqyB-oo2nXGaJ62sQ05xrHfO1T0&dib_tag=se&m=AYH85219XLWXU&pd_rd_r=0c6cde10-08d8-489b-96fd-b43162f8c19e&pd_rd_w=9ZaaW&pd_rd_wg=2h50f&qid=1737737752&refinements=p_6%3AAYH85219XLWXU&s=fashion&sr=1-1',\n",
       " 'title': 'Steve Madden Bevelyn Convertible Crossbody Bag',\n",
       " 'rating': '4.5',\n",
       " 'img_url': 'https://m.media-amazon.com/images/I/61-Sv8mtOqL._AC_SY695_.jpg'}"
      ]
     },
     "execution_count": 109,
     "metadata": {},
     "output_type": "execute_result"
    }
   ],
   "source": [
    "item_dict"
   ]
  },
  {
   "cell_type": "code",
   "execution_count": 129,
   "metadata": {},
   "outputs": [
    {
     "data": {
      "text/plain": [
       "'Brand: Helly Hansen'"
      ]
     },
     "execution_count": 129,
     "metadata": {},
     "output_type": "execute_result"
    }
   ],
   "source": [
    "item_soup.find('div', id = 'bylineInfo_feature_div').getText().strip()"
   ]
  },
  {
   "cell_type": "code",
   "execution_count": 165,
   "metadata": {},
   "outputs": [],
   "source": [
    "from selenium.webdriver.support.ui import WebDriverWait\n",
    "from selenium.webdriver.support import expected_conditions as EC\n",
    "from selenium.webdriver.common.keys import Keys"
   ]
  },
  {
   "cell_type": "code",
   "execution_count": null,
   "metadata": {},
   "outputs": [],
   "source": []
  },
  {
   "cell_type": "code",
   "execution_count": 166,
   "metadata": {},
   "outputs": [],
   "source": [
    "search_bar = WebDriverWait(driver, 10).until(\n",
    "    EC.presence_of_element_located((By.ID, 'twotabsearchtextbox'))\n",
    ")\n",
    "search_bar.send_keys(\"iphone\")\n",
    "search_bar.send_keys(Keys.RETURN)  # Simulates pressing Enter\n"
   ]
  },
  {
   "cell_type": "code",
   "execution_count": 169,
   "metadata": {},
   "outputs": [],
   "source": [
    "search_bar = WebDriverWait(driver, 10).until(\n",
    "    EC.presence_of_element_located((By.ID, 'twotabsearchtextbox'))\n",
    ")\n",
    "search_bar.clear()"
   ]
  },
  {
   "cell_type": "code",
   "execution_count": 170,
   "metadata": {},
   "outputs": [],
   "source": [
    "search_bar.send_keys(Keys.ESCAPE)  # Simulates pressing Enter\n"
   ]
  },
  {
   "cell_type": "code",
   "execution_count": null,
   "metadata": {},
   "outputs": [],
   "source": []
  }
 ],
 "metadata": {
  "kernelspec": {
   "display_name": "base",
   "language": "python",
   "name": "python3"
  },
  "language_info": {
   "codemirror_mode": {
    "name": "ipython",
    "version": 3
   },
   "file_extension": ".py",
   "mimetype": "text/x-python",
   "name": "python",
   "nbconvert_exporter": "python",
   "pygments_lexer": "ipython3",
   "version": "3.9.2"
  }
 },
 "nbformat": 4,
 "nbformat_minor": 2
}
