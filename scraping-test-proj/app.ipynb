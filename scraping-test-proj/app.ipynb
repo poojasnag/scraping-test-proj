{
 "cells": [
  {
   "cell_type": "code",
   "execution_count": 2,
   "metadata": {},
   "outputs": [],
   "source": [
    "from selenium import webdriver\n",
    "from selenium.webdriver.chrome.service import Service\n",
    "from selenium.webdriver.chrome.options import Options\n",
    "from selenium.webdriver.common.by import By\n",
    "from bs4 import BeautifulSoup\n",
    "import time"
   ]
  },
  {
   "cell_type": "code",
   "execution_count": 60,
   "metadata": {},
   "outputs": [],
   "source": [
    "import re\n",
    "import json"
   ]
  },
  {
   "cell_type": "code",
   "execution_count": 5,
   "metadata": {},
   "outputs": [
    {
     "name": "stdout",
     "output_type": "stream",
     "text": [
      "hello!\n",
      "4.28.1\n"
     ]
    }
   ],
   "source": [
    "print('hello!')\n",
    "print(webdriver.__version__)\n",
    "\n",
    "DRIVER_PATH = '../../Downloads/chromedriver-mac-arm64/chrome/mac_arm-131.0.6778.267/chrome-mac-arm64/Google Chrome for Testing.app'\n",
    "options = Options()\n",
    "\n",
    "# options.add_argument('--headless')  # Optional, run Chrome in headless mode (no UI)\n",
    "service = Service('../../../Downloads/chromedriver-mac-arm64/chromedriver')  # Adjust path to the driver\n",
    "\n",
    "driver = webdriver.Chrome(service=service, options=options)\n",
    "# driver.get(\"https://www.python.org\")\n",
    "url = \"https://www.amazon.sg/PUMA-Teamgoal-Unisex-Knitted-Shorts/dp/B0C3RRYHC6/ref=sr_1_1?content-id=amzn1.sym.5e505bc2-b07e-47e6-b40c-4822c9c12b88&dib=eyJ2IjoiMSJ9.AgxcRJGeI7JlvMuj6Ma1lTMCvEi-oQO_oCBethE0E2_vhYaZNuP4fbAEFfM3adDKYparfeC1MK7PJoPC9n8RTDWzOX3PhUQLn6yuZ64tHZeXpLa_L_mrrAy2IDMgK-u1fjA3UgqbTXDhS40UWQ20NQ7pd-SYT0xuXJbNQsPeqhmzLUECexy1c96RaqRASZeK40TF8503zTvbXBU1JylTYOaS0Nf6QrJVR3l6MD4dxdE7UKAwLVH_3c4NtUKgtK_AqPD4up07FVfCDaT51dCQfg-k8HICtEOt-lmV3rAo5Xf3D6b-zo7mbuGU4Q3RIkyvb3g8OsGTGs2bETQmgNacqnVeppQ-UksVmjXTbqKbY8xB4Mo2iKs08v0yIy1ORYMoom3LS9b-WSbOSjxL-g5oTIzBKGkstoX3MJsY04BqG_Wu4KkVHEHl7Na9mkMTC1ii.M2TI6e39RiYtwHL-Yygsaf3GMi2WAlK5tyVWYooV6_s&dib_tag=se&m=AYH85219XLWXU&pd_rd_r=0c6cde10-08d8-489b-96fd-b43162f8c19e&pd_rd_w=9ZaaW&pd_rd_wg=2h50f&qid=1737724722&refinements=p_6%3AAYH85219XLWXU&s=fashion&sr=1-1\"\n",
    "driver.get(url)\n",
    "time.sleep(3)\n",
    "html_source = driver.page_source\n",
    "soup = BeautifulSoup(html_source, 'html.parser')"
   ]
  },
  {
   "cell_type": "code",
   "execution_count": 4,
   "metadata": {},
   "outputs": [],
   "source": [
    "level1_div = soup.find('div', id = 'dp')\n",
    "level2_div = level1_div.find('div', id = 'dp-container')\n",
    "lvl3_div = level2_div.find('div', id = 'ppd')\n",
    "# lvl4_div = lvl3_div.find('div', id = 'a-row')\n",
    "lvl5_div = lvl3_div.find('div', id = 'leftCol')\n",
    "lvl6_div = lvl5_div.find('div', id = 'imageBlock_feature_div')\n",
    "lvl7_div = lvl6_div.find('div', id = 'imageBlock')\n",
    "lvl8_div = lvl7_div.find('div', id = 'main-image-container')\n",
    "lvl9_div = lvl8_div.find('div', id = 'imgTagWrapperId')"
   ]
  },
  {
   "cell_type": "code",
   "execution_count": 29,
   "metadata": {},
   "outputs": [
    {
     "data": {
      "text/plain": [
       "'https://m.media-amazon.com/images/I/511-VOherpL._AC_SX679_.jpg'"
      ]
     },
     "execution_count": 29,
     "metadata": {},
     "output_type": "execute_result"
    }
   ],
   "source": [
    "soup.find('img', id = 'landingImage').get('src')"
   ]
  },
  {
   "cell_type": "code",
   "execution_count": 12,
   "metadata": {},
   "outputs": [],
   "source": [
    "lvl10_div = lvl9_div.find('img')"
   ]
  },
  {
   "cell_type": "code",
   "execution_count": 21,
   "metadata": {},
   "outputs": [
    {
     "name": "stdout",
     "output_type": "stream",
     "text": [
      "<img alt=\"PUMA Teamgoal Unisex Knitted Shorts Jr\" class=\"a-dynamic-image a-stretch-horizontal\" data-a-dynamic-image='{\"https://m.media-amazon.com/images/I/511-VOherpL._AC_SX342_.jpg\":[342,342],\"https://m.media-amazon.com/images/I/511-VOherpL._AC_SX679_.jpg\":[679,679],\"https://m.media-amazon.com/images/I/511-VOherpL._AC_SX522_.jpg\":[522,522],\"https://m.media-amazon.com/images/I/511-VOherpL._AC_SX385_.jpg\":[385,385],\"https://m.media-amazon.com/images/I/511-VOherpL._AC_SX569_.jpg\":[569,569],\"https://m.media-amazon.com/images/I/511-VOherpL._AC_SX466_.jpg\":[466,466],\"https://m.media-amazon.com/images/I/511-VOherpL._AC_SX425_.jpg\":[425,425]}' data-a-image-name=\"landingImage\" data-old-hires=\"https://m.media-amazon.com/images/I/511-VOherpL._AC_SL1500_.jpg\" id=\"landingImage\" onload=\"markFeatureRenderForImageBlock(); if(this.width/this.height &gt; 0.77){this.className += ' a-stretch-horizontal'}else{this.className += ' a-stretch-vertical'};this.onload='';setCSMReq('af');if(typeof addlongPoleTag === 'function'){ addlongPoleTag('af','desktop-image-atf-marker');};setCSMReq('cf')\" src=\"https://m.media-amazon.com/images/I/511-VOherpL._AC_SX679_.jpg\" style=\"max-width: 546px; max-height: 539.614px;\"/>\n",
      "\n"
     ]
    }
   ],
   "source": [
    "print(lvl10_div.prettify())"
   ]
  },
  {
   "cell_type": "code",
   "execution_count": 27,
   "metadata": {},
   "outputs": [
    {
     "data": {
      "text/plain": [
       "'https://m.media-amazon.com/images/I/511-VOherpL._AC_SX679_.jpg'"
      ]
     },
     "execution_count": 27,
     "metadata": {},
     "output_type": "execute_result"
    }
   ],
   "source": [
    "img_url = lvl10_div.get('src')\n",
    "img_url"
   ]
  },
  {
   "cell_type": "code",
   "execution_count": 34,
   "metadata": {},
   "outputs": [
    {
     "data": {
      "text/plain": [
       "'https://m.media-amazon.com/images/I/511-VOherpL._AC_SX679_.jpg'"
      ]
     },
     "execution_count": 34,
     "metadata": {},
     "output_type": "execute_result"
    }
   ],
   "source": [
    "# IMAGE URL \n",
    "soup.find('img', id = 'landingImage').get('src')"
   ]
  },
  {
   "cell_type": "code",
   "execution_count": 33,
   "metadata": {},
   "outputs": [
    {
     "data": {
      "text/plain": [
       "'PUMA Teamgoal Unisex Knitted Shorts Jr'"
      ]
     },
     "execution_count": 33,
     "metadata": {},
     "output_type": "execute_result"
    }
   ],
   "source": [
    "# TITLE\n",
    "(soup.find('span', id = 'productTitle').contents)[0].strip()"
   ]
  },
  {
   "cell_type": "code",
   "execution_count": 46,
   "metadata": {},
   "outputs": [
    {
     "data": {
      "text/plain": [
       "'4.7'"
      ]
     },
     "execution_count": 46,
     "metadata": {},
     "output_type": "execute_result"
    }
   ],
   "source": [
    "# RATING \n",
    "soup.find('div', id = 'averageCustomerReviews').findAll('span')[3].contents[0].strip()"
   ]
  },
  {
   "cell_type": "code",
   "execution_count": 49,
   "metadata": {},
   "outputs": [
    {
     "data": {
      "text/plain": [
       "'\\n  Price:  S$25.44S$25.44 - S$28.09S$28.09  \\n\\n\\n\\n\\n\\n \\n\\n \\n\\n\\n\\n\\n\\n   '"
      ]
     },
     "execution_count": 49,
     "metadata": {},
     "output_type": "execute_result"
    }
   ],
   "source": [
    "# PRICE \n",
    "soup.find('div', id = 'corePrice_desktop').text"
   ]
  },
  {
   "cell_type": "code",
   "execution_count": 59,
   "metadata": {},
   "outputs": [
    {
     "name": "stdout",
     "output_type": "stream",
     "text": [
      "['S$25.44', 'S$28.09']\n"
     ]
    }
   ],
   "source": [
    "price_span_list = soup.find('div', id = 'corePrice_desktop').findAll('span', class_ = 'a-offscreen')\n",
    "price_list = []\n",
    "for price_span in price_span_list:\n",
    "    price_list.append(price_span.get_text())\n",
    "print(price_list)"
   ]
  },
  {
   "cell_type": "code",
   "execution_count": 24,
   "metadata": {},
   "outputs": [
    {
     "name": "stdout",
     "output_type": "stream",
     "text": [
      "None\n"
     ]
    }
   ],
   "source": [
    "print(lvl11)"
   ]
  },
  {
   "cell_type": "code",
   "execution_count": 65,
   "metadata": {},
   "outputs": [
    {
     "data": {
      "text/plain": [
       "'Brand: PUMA'"
      ]
     },
     "execution_count": 65,
     "metadata": {},
     "output_type": "execute_result"
    }
   ],
   "source": [
    "# brand\n",
    "soup.find('div', id = 'titleBlockLeftSection').getText().strip()"
   ]
  },
  {
   "cell_type": "code",
   "execution_count": 87,
   "metadata": {},
   "outputs": [
    {
     "name": "stdout",
     "output_type": "stream",
     "text": [
      "['Fashion', 'Boys', 'Clothing', 'Sportswear', 'Shorts']\n"
     ]
    }
   ],
   "source": [
    "#categ \n",
    "li_component_list = soup.find('div', id ='wayfinding-breadcrumbs_container').findAll('li')\n",
    "categ_list = []\n",
    "for li_component in li_component_list:\n",
    "    if not li_component.find('span', class_ = 'a-list-item a-color-tertiary'):\n",
    "        categ_list.append(li_component.getText().strip())\n",
    "print(categ_list)"
   ]
  },
  {
   "cell_type": "code",
   "execution_count": null,
   "metadata": {},
   "outputs": [],
   "source": [
    "# category, add to cart link , review count"
   ]
  },
  {
   "cell_type": "code",
   "execution_count": null,
   "metadata": {},
   "outputs": [
    {
     "name": "stdout",
     "output_type": "stream",
     "text": [
      "<img alt=\"PUMA Teamgoal Unisex Knitted Shorts Jr\" class=\"a-dynamic-image a-stretch-horizontal\" data-a-dynamic-image='{\"https://m.media-amazon.com/images/I/511-VOherpL._AC_SX342_.jpg\":[342,342],\"https://m.media-amazon.com/images/I/511-VOherpL._AC_SX679_.jpg\":[679,679],\"https://m.media-amazon.com/images/I/511-VOherpL._AC_SX522_.jpg\":[522,522],\"https://m.media-amazon.com/images/I/511-VOherpL._AC_SX385_.jpg\":[385,385],\"https://m.media-amazon.com/images/I/511-VOherpL._AC_SX569_.jpg\":[569,569],\"https://m.media-amazon.com/images/I/511-VOherpL._AC_SX466_.jpg\":[466,466],\"https://m.media-amazon.com/images/I/511-VOherpL._AC_SX425_.jpg\":[425,425]}' data-a-image-name=\"landingImage\" data-old-hires=\"https://m.media-amazon.com/images/I/511-VOherpL._AC_SL1500_.jpg\" id=\"landingImage\" onload=\"markFeatureRenderForImageBlock(); if(this.width/this.height &gt; 0.77){this.className += ' a-stretch-horizontal'}else{this.className += ' a-stretch-vertical'};this.onload='';setCSMReq('af');if(typeof addlongPoleTag === 'function'){ addlongPoleTag('af','desktop-image-atf-marker');};setCSMReq('cf')\" src=\"https://m.media-amazon.com/images/I/511-VOherpL._AC_SX679_.jpg\" style=\"max-width: 546px; max-height: 539.614px;\"/>\n",
      "\n"
     ]
    }
   ],
   "source": [
    "print(lvl10_div.prettify())"
   ]
  },
  {
   "cell_type": "code",
   "execution_count": 5,
   "metadata": {},
   "outputs": [
    {
     "name": "stdout",
     "output_type": "stream",
     "text": [
      "image url:  None\n"
     ]
    }
   ],
   "source": [
    "if lvl9_div:\n",
    "    # print(\"level 9 : \"+ lvl9_div)\n",
    "    img_component = lvl9_div.find('img', string='src')\n",
    "    img_url = lvl9_div.select_one('img[src]')\n",
    "    # print(\"Image URL:\", lvl9_div['src'])\n",
    "    print(\"image url: \", img_component)"
   ]
  },
  {
   "cell_type": "code",
   "execution_count": null,
   "metadata": {},
   "outputs": [],
   "source": [
    "print(driver.title)\n"
   ]
  },
  {
   "cell_type": "code",
   "execution_count": null,
   "metadata": {},
   "outputs": [],
   "source": [
    "item_list = []"
   ]
  },
  {
   "cell_type": "code",
   "execution_count": 60,
   "metadata": {},
   "outputs": [
    {
     "name": "stdout",
     "output_type": "stream",
     "text": [
      "[{'title': 'PUMA Teamgoal Unisex Knitted Shorts Jr', 'rating': '4.7', 'img_url': 'https://m.media-amazon.com/images/I/511-VOherpL._AC_SX679_.jpg', 'price': 'price_list'}]\n"
     ]
    }
   ],
   "source": [
    "item_dict = {}\n",
    "item_dict['item_url'] = url\n",
    "item_dict['title'] = (soup.find('span', id = 'productTitle').contents)[0].strip()\n",
    "item_dict['rating'] = soup.find('div', id = 'averageCustomerReviews').findAll('span')[3].contents[0].strip()\n",
    "item_dict['img_url'] = soup.find('img', id = 'landingImage').get('src')\n",
    "\n",
    "price_span_list = soup.find('div', id = 'corePrice_desktop').findAll('span', class_ = 'a-offscreen')\n",
    "price_list = []\n",
    "for price_span in price_span_list:\n",
    "    price_list.append(price_span.get_text())\n",
    "item_dict['price'] = 'price_list'\n",
    "\n",
    "item_dict['brand'] = soup.find('div', id = 'titleBlockLeftSection').getText().strip()\n",
    "\n",
    "categs_component_list = soup.find('div', id ='wayfinding-breadcrumbs_container').findAll('li')\n",
    "categ_list = []\n",
    "for li_component in categs_component_list:\n",
    "    if not li_component.find('span', class_ = 'a-list-item a-color-tertiary'):\n",
    "        categ_list.append(li_component.getText().strip())\n",
    "item_dict['category_heirarchy'] = categ_list\n",
    "\n",
    "item_list.append(item_dict)\n",
    "print(item_list)"
   ]
  },
  {
   "cell_type": "code",
   "execution_count": null,
   "metadata": {},
   "outputs": [],
   "source": [
    "# write to dict "
   ]
  },
  {
   "cell_type": "code",
   "execution_count": 133,
   "metadata": {},
   "outputs": [],
   "source": [
    "# URLS \n",
    "# Fashion - \"https://www.amazon.sg/s?rh=n%3A6315239051%2Cp_6%3AAYH85219XLWXU&content-id=amzn1.sym.5e505bc2-b07e-47e6-b40c-4822c9c12b88&pd_rd_r=0c6cde10-08d8-489b-96fd-b43162f8c19e&pd_rd_w=9ZaaW&pd_rd_wg=2h50f&pf_rd_p=5e505bc2-b07e-47e6-b40c-4822c9c12b88&pf_rd_r=Q6G2FDQW1EQ7E6YXS4XR\"\n",
    "# Electronics - \"https://www.amazon.sg/s?rh=n%3A6314449051%2Cp_6%3AAYH85219XLWXU&content-id=amzn1.sym.5e505bc2-b07e-47e6-b40c-4822c9c12b88&pd_rd_r=0c6cde10-08d8-489b-96fd-b43162f8c19e&pd_rd_w=9ZaaW&pd_rd_wg=2h50f&pf_rd_p=5e505bc2-b07e-47e6-b40c-4822c9c12b88&pf_rd_r=Q6G2FDQW1EQ7E6YXS4XR\"\n",
    "# Electronics (Pg 2) - \"https://www.amazon.sg/s?i=electronics&rh=n%3A6314449051%2Cp_6%3AAYH85219XLWXU&page=2&content-id=amzn1.sym.5e505bc2-b07e-47e6-b40c-4822c9c12b88&pd_rd_r=0c6cde10-08d8-489b-96fd-b43162f8c19e&pd_rd_w=9ZaaW&pd_rd_wg=2h50f&qid=1737740415&xpid=GZnq29GD5hvgv&ref=sr_pg_2\""
   ]
  },
  {
   "cell_type": "code",
   "execution_count": 52,
   "metadata": {},
   "outputs": [],
   "source": [
    "fashion_base_url_1 = 'https://www.amazon.sg/s?rh=n%3A6315239051%2Cp_6%3AAYH85219XLWXU&content-id=amzn1.sym.5e505bc2-b07e-47e6-b40c-4822c9c12b88&pd_rd_r=0c6cde10-08d8-489b-96fd-b43162f8c19e&pd_rd_w=9ZaaW&pd_rd_wg=2h50f&pf_rd_p=5e505bc2-b07e-47e6-b40c-4822c9c12b88&pf_rd_r=Q6G2FDQW1EQ7E6YXS4XR'\n",
    "fashion_base_url_2 = 'https://www.amazon.sg/s?i=fashion&rh=n%3A6315239051%2Cp_6%3AAYH85219XLWXU&page=2&content-id=amzn1.sym.5e505bc2-b07e-47e6-b40c-4822c9c12b88&pd_rd_r=0c6cde10-08d8-489b-96fd-b43162f8c19e&pd_rd_w=9ZaaW&pd_rd_wg=2h50f&qid=1737946466&xpid=xjHQNzj0BAB6F&ref=sr_pg_2'\n",
    "fashion_base_url_3 = 'https://www.amazon.sg/s?i=fashion&rh=n%3A6315239051%2Cp_6%3AAYH85219XLWXU&page=3&content-id=amzn1.sym.5e505bc2-b07e-47e6-b40c-4822c9c12b88&pd_rd_r=0c6cde10-08d8-489b-96fd-b43162f8c19e&pd_rd_w=9ZaaW&pd_rd_wg=2h50f&qid=1737946503&xpid=xjHQNzj0BAB6F&ref=sr_pg_3'\n",
    "nike_base_url_1 = 'https://www.amazon.sg/s?k=nike&i=fashion&crid=3MZNRZ5BCYHUO&sprefix=n%2Cfashion%2C305&ref=nb_sb_noss_2'\n",
    "nike_base_url_2 = 'https://www.amazon.sg/s?k=nike&i=fashion&page=2&xpid=V_l_9hGCPvs60&crid=3MZNRZ5BCYHUO&qid=1737946532&sprefix=n%2Cfashion%2C305&ref=sr_pg_2'\n",
    "nike_base_url_3 = 'https://www.amazon.sg/s?k=nike&i=fashion&page=3&crid=3MZNRZ5BCYHUO&qid=1737946564&sprefix=n%2Cfashion%2C305&xpid=V_l_9hGCPvs60&ref=sr_pg_3'\n",
    "adidas_base_url_1 = 'https://www.amazon.sg/s?k=adidas&i=fashion&crid=1EDUVSU1FRVBU&sprefix=adid%2Cfashion%2C326&ref=nb_sb_noss_2'\n",
    "adidas_base_url_2 = 'https://www.amazon.sg/s?k=adidas&i=fashion&page=2&xpid=eNyQRmCTmrRTd&crid=1EDUVSU1FRVBU&qid=1737946589&sprefix=adid%2Cfashion%2C326&ref=sr_pg_2'\n",
    "adidas_base_url_3 = 'https://www.amazon.sg/s?k=adidas&i=fashion&page=3&crid=1EDUVSU1FRVBU&qid=1737946589&sprefix=adid%2Cfashion%2C326&xpid=eNyQRmCTmrRTd&ref=sr_pg_3'\n",
    "lululemon_base_url_1 = 'https://www.amazon.sg/s?k=lululemon+bag&crid=2E92YITTAP0T4&sprefix=lululemon+ba%2Caps%2C318&ref=nb_sb_noss_2'\n",
    "lululemon_base_url_2 = 'https://www.amazon.sg/s?k=lululemon+bag&page=2&xpid=gmVV1S8QyW_oz&crid=2E92YITTAP0T4&qid=1737946675&sprefix=lululemon+ba%2Caps%2C318&ref=sr_pg_2'\n",
    "electronics_base_url_1 = 'https://www.amazon.sg/s?rh=n%3A6314449051%2Cp_6%3AAYH85219XLWXU&content-id=amzn1.sym.5e505bc2-b07e-47e6-b40c-4822c9c12b88&pd_rd_r=0c6cde10-08d8-489b-96fd-b43162f8c19e&pd_rd_w=9ZaaW&pd_rd_wg=2h50f&pf_rd_p=5e505bc2-b07e-47e6-b40c-4822c9c12b88&pf_rd_r=Q6G2FDQW1EQ7E6YXS4XR'\n",
    "electronics_base_url_2 = 'https://www.amazon.sg/s?i=electronics&rh=n%3A6314449051%2Cp_6%3AAYH85219XLWXU&page=2&content-id=amzn1.sym.5e505bc2-b07e-47e6-b40c-4822c9c12b88&pd_rd_r=0c6cde10-08d8-489b-96fd-b43162f8c19e&pd_rd_w=9ZaaW&pd_rd_wg=2h50f&qid=1737740415&xpid=GZnq29GD5hvgv&ref=sr_pg_2'\n",
    "iphone_base_url_1 = 'https://www.amazon.sg/s?k=iphone&crid=2XYD2X7F75HMK&sprefix=iph%2Caps%2C314&ref=nb_sb_noss_2'\n",
    "macbook_base_url_1 = 'https://www.amazon.sg/s?k=macbook&crid=WJXL6U2XQ2BE&sprefix=macboo%2Caps%2C283&ref=nb_sb_noss_2'\n",
    "macbook_base_url_2 = 'https://www.amazon.sg/s?k=macbook&page=2&xpid=SSJCr6h-9NGT_&crid=WJXL6U2XQ2BE&qid=1737946756&sprefix=macboo%2Caps%2C283&ref=sr_pg_2'\n",
    "macbook_base_url_3 = 'https://www.amazon.sg/s?k=macbook&page=3&crid=WJXL6U2XQ2BE&qid=1737946786&sprefix=macboo%2Caps%2C283&xpid=SSJCr6h-9NGT_&ref=sr_pg_3'\n",
    "groceries_base_url_1 = 'https://www.amazon.sg/s?k=groceries&crid=336PZDCRZPUJ8&sprefix=grocerie%2Caps%2C426&ref=nb_sb_noss_1'\n",
    "groceries_base_url_2 = 'https://www.amazon.sg/s?k=groceries&page=2&xpid=XVqCBzP50DQub&crid=336PZDCRZPUJ8&qid=1737946953&sprefix=grocerie%2Caps%2C426&ref=sr_pg_2'\n",
    "groceries_base_url_3 = 'https://www.amazon.sg/s?k=groceries&page=3&crid=336PZDCRZPUJ8&qid=1737946957&sprefix=grocerie%2Caps%2C426&xpid=XVqCBzP50DQub&ref=sr_pg_3'\n",
    "veggies_base_url_1 = 'https://www.amazon.sg/s?k=vegeables&crid=2Y7827QUXH2NX&sprefix=vegeable%2Caps%2C280&ref=nb_sb_noss_2'\n",
    "veggies_base_url_2 = 'https://www.amazon.sg/s?k=vegetables&page=2&xpid=Q3tvOa47Wrqui&crid=2Y7827QUXH2NX&qid=1737946876&sprefix=vegeable%2Caps%2C280&ref=sr_pg_2'\n",
    "veggies_base_url_3 = 'https://www.amazon.sg/s?k=vegetables&page=3&crid=2Y7827QUXH2NX&qid=1737946891&sprefix=vegeable%2Caps%2C280&xpid=Q3tvOa47Wrqui&ref=sr_pg_3'\n",
    "veggies_base_url_4 = 'https://www.amazon.sg/s?k=vegetables&page=4&crid=2Y7827QUXH2NX&qid=1737946909&sprefix=vegeable%2Caps%2C280&xpid=Q3tvOa47Wrqui&ref=sr_pg_4'\n",
    "veggies_base_url_5 = 'https://www.amazon.sg/s?k=vegetables&page=5&crid=2Y7827QUXH2NX&qid=1737946924&sprefix=vegeable%2Caps%2C280&xpid=Q3tvOa47Wrqui&ref=sr_pg_5'\n"
   ]
  },
  {
   "cell_type": "code",
   "execution_count": 103,
   "metadata": {},
   "outputs": [],
   "source": [
    "driver = webdriver.Chrome(service=service, options=options)"
   ]
  },
  {
   "cell_type": "code",
   "execution_count": 79,
   "metadata": {},
   "outputs": [],
   "source": [
    "base_url_list = [\n",
    "    fashion_base_url_1, \n",
    "    fashion_base_url_2, \n",
    "    fashion_base_url_3, \n",
    "    nike_base_url_1, \n",
    "    nike_base_url_2, \n",
    "    nike_base_url_3, \n",
    "    adidas_base_url_1, \n",
    "    adidas_base_url_2, \n",
    "    adidas_base_url_3, \n",
    "    lululemon_base_url_1, \n",
    "    lululemon_base_url_2, \n",
    "    electronics_base_url_1, \n",
    "    electronics_base_url_2, \n",
    "    iphone_base_url_1, \n",
    "    macbook_base_url_1, \n",
    "    macbook_base_url_2, \n",
    "    macbook_base_url_3, \n",
    "    groceries_base_url_1,\n",
    "    groceries_base_url_2, \n",
    "    groceries_base_url_3, \n",
    "    veggies_base_url_1, \n",
    "    veggies_base_url_2, \n",
    "    veggies_base_url_3, \n",
    "    veggies_base_url_4, \n",
    "    veggies_base_url_5\n",
    "]"
   ]
  },
  {
   "cell_type": "code",
   "execution_count": 95,
   "metadata": {},
   "outputs": [
    {
     "data": {
      "text/plain": [
       "7"
      ]
     },
     "execution_count": 95,
     "metadata": {},
     "output_type": "execute_result"
    }
   ],
   "source": [
    "k"
   ]
  },
  {
   "cell_type": "code",
   "execution_count": 98,
   "metadata": {},
   "outputs": [
    {
     "data": {
      "text/plain": [
       "['https://www.amazon.sg/s?k=adidas&i=fashion&page=2&xpid=eNyQRmCTmrRTd&crid=1EDUVSU1FRVBU&qid=1737946589&sprefix=adid%2Cfashion%2C326&ref=sr_pg_2',\n",
       " 'https://www.amazon.sg/s?k=adidas&i=fashion&page=3&crid=1EDUVSU1FRVBU&qid=1737946589&sprefix=adid%2Cfashion%2C326&xpid=eNyQRmCTmrRTd&ref=sr_pg_3',\n",
       " 'https://www.amazon.sg/s?k=lululemon+bag&crid=2E92YITTAP0T4&sprefix=lululemon+ba%2Caps%2C318&ref=nb_sb_noss_2',\n",
       " 'https://www.amazon.sg/s?k=lululemon+bag&page=2&xpid=gmVV1S8QyW_oz&crid=2E92YITTAP0T4&qid=1737946675&sprefix=lululemon+ba%2Caps%2C318&ref=sr_pg_2',\n",
       " 'https://www.amazon.sg/s?rh=n%3A6314449051%2Cp_6%3AAYH85219XLWXU&content-id=amzn1.sym.5e505bc2-b07e-47e6-b40c-4822c9c12b88&pd_rd_r=0c6cde10-08d8-489b-96fd-b43162f8c19e&pd_rd_w=9ZaaW&pd_rd_wg=2h50f&pf_rd_p=5e505bc2-b07e-47e6-b40c-4822c9c12b88&pf_rd_r=Q6G2FDQW1EQ7E6YXS4XR',\n",
       " 'https://www.amazon.sg/s?i=electronics&rh=n%3A6314449051%2Cp_6%3AAYH85219XLWXU&page=2&content-id=amzn1.sym.5e505bc2-b07e-47e6-b40c-4822c9c12b88&pd_rd_r=0c6cde10-08d8-489b-96fd-b43162f8c19e&pd_rd_w=9ZaaW&pd_rd_wg=2h50f&qid=1737740415&xpid=GZnq29GD5hvgv&ref=sr_pg_2',\n",
       " 'https://www.amazon.sg/s?k=iphone&crid=2XYD2X7F75HMK&sprefix=iph%2Caps%2C314&ref=nb_sb_noss_2',\n",
       " 'https://www.amazon.sg/s?k=macbook&crid=WJXL6U2XQ2BE&sprefix=macboo%2Caps%2C283&ref=nb_sb_noss_2',\n",
       " 'https://www.amazon.sg/s?k=macbook&page=2&xpid=SSJCr6h-9NGT_&crid=WJXL6U2XQ2BE&qid=1737946756&sprefix=macboo%2Caps%2C283&ref=sr_pg_2',\n",
       " 'https://www.amazon.sg/s?k=macbook&page=3&crid=WJXL6U2XQ2BE&qid=1737946786&sprefix=macboo%2Caps%2C283&xpid=SSJCr6h-9NGT_&ref=sr_pg_3',\n",
       " 'https://www.amazon.sg/s?k=groceries&crid=336PZDCRZPUJ8&sprefix=grocerie%2Caps%2C426&ref=nb_sb_noss_1',\n",
       " 'https://www.amazon.sg/s?k=groceries&page=2&xpid=XVqCBzP50DQub&crid=336PZDCRZPUJ8&qid=1737946953&sprefix=grocerie%2Caps%2C426&ref=sr_pg_2',\n",
       " 'https://www.amazon.sg/s?k=groceries&page=3&crid=336PZDCRZPUJ8&qid=1737946957&sprefix=grocerie%2Caps%2C426&xpid=XVqCBzP50DQub&ref=sr_pg_3',\n",
       " 'https://www.amazon.sg/s?k=vegeables&crid=2Y7827QUXH2NX&sprefix=vegeable%2Caps%2C280&ref=nb_sb_noss_2',\n",
       " 'https://www.amazon.sg/s?k=vegetables&page=2&xpid=Q3tvOa47Wrqui&crid=2Y7827QUXH2NX&qid=1737946876&sprefix=vegeable%2Caps%2C280&ref=sr_pg_2',\n",
       " 'https://www.amazon.sg/s?k=vegetables&page=3&crid=2Y7827QUXH2NX&qid=1737946891&sprefix=vegeable%2Caps%2C280&xpid=Q3tvOa47Wrqui&ref=sr_pg_3',\n",
       " 'https://www.amazon.sg/s?k=vegetables&page=4&crid=2Y7827QUXH2NX&qid=1737946909&sprefix=vegeable%2Caps%2C280&xpid=Q3tvOa47Wrqui&ref=sr_pg_4',\n",
       " 'https://www.amazon.sg/s?k=vegetables&page=5&crid=2Y7827QUXH2NX&qid=1737946924&sprefix=vegeable%2Caps%2C280&xpid=Q3tvOa47Wrqui&ref=sr_pg_5']"
      ]
     },
     "execution_count": 98,
     "metadata": {},
     "output_type": "execute_result"
    }
   ],
   "source": [
    "base_url_list[7:]"
   ]
  },
  {
   "cell_type": "code",
   "execution_count": 108,
   "metadata": {},
   "outputs": [
    {
     "data": {
      "text/plain": [
       "'https://www.amazon.sg/s?k=lululemon+bag&page=2&xpid=gmVV1S8QyW_oz&crid=2E92YITTAP0T4&qid=1737946675&sprefix=lululemon+ba%2Caps%2C318&ref=sr_pg_2'"
      ]
     },
     "execution_count": 108,
     "metadata": {},
     "output_type": "execute_result"
    }
   ],
   "source": [
    "base_url"
   ]
  },
  {
   "cell_type": "code",
   "execution_count": 113,
   "metadata": {},
   "outputs": [
    {
     "data": {
      "text/plain": [
       "13"
      ]
     },
     "execution_count": 113,
     "metadata": {},
     "output_type": "execute_result"
    }
   ],
   "source": [
    "k"
   ]
  },
  {
   "cell_type": "code",
   "execution_count": 114,
   "metadata": {},
   "outputs": [
    {
     "name": "stdout",
     "output_type": "stream",
     "text": [
      "13 https://www.amazon.sg/s?k=macbook&crid=WJXL6U2XQ2BE&sprefix=macboo%2Caps%2C283&ref=nb_sb_noss_2\n"
     ]
    },
    {
     "ename": "AttributeError",
     "evalue": "'NoneType' object has no attribute 'find'",
     "output_type": "error",
     "traceback": [
      "\u001b[0;31m---------------------------------------------------------------------------\u001b[0m",
      "\u001b[0;31mAttributeError\u001b[0m                            Traceback (most recent call last)",
      "Cell \u001b[0;32mIn[114], line 15\u001b[0m\n\u001b[1;32m     14\u001b[0m \u001b[38;5;28;01mtry\u001b[39;00m:\n\u001b[0;32m---> 15\u001b[0m     url_to_add_to_item_spec_url_list \u001b[38;5;241m=\u001b[39m \u001b[38;5;124m'\u001b[39m\u001b[38;5;124mhttps://www.amazon.sg\u001b[39m\u001b[38;5;124m'\u001b[39m\u001b[38;5;241m+\u001b[39m\u001b[43msearch_result\u001b[49m\u001b[38;5;241;43m.\u001b[39;49m\u001b[43mfind\u001b[49m\u001b[43m(\u001b[49m\u001b[38;5;124;43m'\u001b[39;49m\u001b[38;5;124;43mdiv\u001b[39;49m\u001b[38;5;124;43m'\u001b[39;49m\u001b[43m,\u001b[49m\u001b[43m \u001b[49m\u001b[43mclass_\u001b[49m\u001b[43m \u001b[49m\u001b[38;5;241;43m=\u001b[39;49m\u001b[43m \u001b[49m\u001b[38;5;124;43m'\u001b[39;49m\u001b[38;5;124;43ms-image-padding\u001b[39;49m\u001b[38;5;124;43m'\u001b[39;49m\u001b[43m)\u001b[49m\u001b[38;5;241;43m.\u001b[39;49m\u001b[43mfind\u001b[49m(\u001b[38;5;124m'\u001b[39m\u001b[38;5;124ma\u001b[39m\u001b[38;5;124m'\u001b[39m, class_ \u001b[38;5;241m=\u001b[39m \u001b[38;5;124m'\u001b[39m\u001b[38;5;124ma-link-normal s-no-outline\u001b[39m\u001b[38;5;124m'\u001b[39m)[\u001b[38;5;124m'\u001b[39m\u001b[38;5;124mhref\u001b[39m\u001b[38;5;124m'\u001b[39m]\n\u001b[1;32m     16\u001b[0m \u001b[38;5;28;01mexcept\u001b[39;00m: \n",
      "\u001b[0;31mAttributeError\u001b[0m: 'NoneType' object has no attribute 'find'",
      "\nDuring handling of the above exception, another exception occurred:\n",
      "\u001b[0;31mAttributeError\u001b[0m                            Traceback (most recent call last)",
      "Cell \u001b[0;32mIn[114], line 17\u001b[0m\n\u001b[1;32m     15\u001b[0m         url_to_add_to_item_spec_url_list \u001b[38;5;241m=\u001b[39m \u001b[38;5;124m'\u001b[39m\u001b[38;5;124mhttps://www.amazon.sg\u001b[39m\u001b[38;5;124m'\u001b[39m\u001b[38;5;241m+\u001b[39msearch_result\u001b[38;5;241m.\u001b[39mfind(\u001b[38;5;124m'\u001b[39m\u001b[38;5;124mdiv\u001b[39m\u001b[38;5;124m'\u001b[39m, class_ \u001b[38;5;241m=\u001b[39m \u001b[38;5;124m'\u001b[39m\u001b[38;5;124ms-image-padding\u001b[39m\u001b[38;5;124m'\u001b[39m)\u001b[38;5;241m.\u001b[39mfind(\u001b[38;5;124m'\u001b[39m\u001b[38;5;124ma\u001b[39m\u001b[38;5;124m'\u001b[39m, class_ \u001b[38;5;241m=\u001b[39m \u001b[38;5;124m'\u001b[39m\u001b[38;5;124ma-link-normal s-no-outline\u001b[39m\u001b[38;5;124m'\u001b[39m)[\u001b[38;5;124m'\u001b[39m\u001b[38;5;124mhref\u001b[39m\u001b[38;5;124m'\u001b[39m]\n\u001b[1;32m     16\u001b[0m     \u001b[38;5;28;01mexcept\u001b[39;00m: \n\u001b[0;32m---> 17\u001b[0m         url_to_add_to_item_spec_url_list \u001b[38;5;241m=\u001b[39m \u001b[38;5;124m'\u001b[39m\u001b[38;5;124mhttps://www.amazon.sg\u001b[39m\u001b[38;5;124m'\u001b[39m\u001b[38;5;241m+\u001b[39m\u001b[43msearch_result\u001b[49m\u001b[38;5;241;43m.\u001b[39;49m\u001b[43mfind\u001b[49m\u001b[43m(\u001b[49m\u001b[38;5;124;43m'\u001b[39;49m\u001b[38;5;124;43mspan\u001b[39;49m\u001b[38;5;124;43m'\u001b[39;49m\u001b[43m,\u001b[49m\u001b[43m \u001b[49m\u001b[43m{\u001b[49m\u001b[38;5;124;43m'\u001b[39;49m\u001b[38;5;124;43mdata-component-type\u001b[39;49m\u001b[38;5;124;43m'\u001b[39;49m\u001b[43m:\u001b[49m\u001b[38;5;124;43m'\u001b[39;49m\u001b[38;5;124;43ms-product-image\u001b[39;49m\u001b[38;5;124;43m'\u001b[39;49m\u001b[43m}\u001b[49m\u001b[43m)\u001b[49m\u001b[38;5;241;43m.\u001b[39;49m\u001b[43mfind\u001b[49m(\u001b[38;5;124m'\u001b[39m\u001b[38;5;124ma\u001b[39m\u001b[38;5;124m'\u001b[39m, class_ \u001b[38;5;241m=\u001b[39m \u001b[38;5;124m'\u001b[39m\u001b[38;5;124ma-link-normal s-no-outline\u001b[39m\u001b[38;5;124m'\u001b[39m)[\u001b[38;5;124m'\u001b[39m\u001b[38;5;124mhref\u001b[39m\u001b[38;5;124m'\u001b[39m]\n\u001b[1;32m     18\u001b[0m     item_spec_url_list\u001b[38;5;241m.\u001b[39mappend(url_to_add_to_item_spec_url_list)\n\u001b[1;32m     19\u001b[0m number_matching_pattern \u001b[38;5;241m=\u001b[39m \u001b[38;5;124m'\u001b[39m\u001b[38;5;124m\\\u001b[39m\u001b[38;5;124md[\u001b[39m\u001b[38;5;124m\\\u001b[39m\u001b[38;5;124md.,]*\u001b[39m\u001b[38;5;124m'\u001b[39m\n",
      "\u001b[0;31mAttributeError\u001b[0m: 'NoneType' object has no attribute 'find'"
     ]
    }
   ],
   "source": [
    "for base_url in base_url_list[14:]:\n",
    "    print(k, base_url)\n",
    "    search_url = base_url\n",
    "    driver.get(search_url)\n",
    "    time.sleep(3)\n",
    "    search_html_source = driver.page_source\n",
    "    search_soup = BeautifulSoup(search_html_source, 'html.parser')\n",
    "    search_span_element = search_soup.find('span', {'data-component-type': 's-search-results'})\n",
    "    search_results = search_span_element.findAll('div', {'role': 'listitem'})\n",
    "    j = 0\n",
    "    item_spec_url_list = []\n",
    "    for search_result in search_results:\n",
    "        j = j + 1\n",
    "        try:\n",
    "            url_to_add_to_item_spec_url_list = 'https://www.amazon.sg'+search_result.find('div', class_ = 's-image-padding').find('a', class_ = 'a-link-normal s-no-outline')['href']\n",
    "        except: \n",
    "            url_to_add_to_item_spec_url_list = 'https://www.amazon.sg'+search_result.find('span', {'data-component-type':'s-product-image'}).find('a', class_ = 'a-link-normal s-no-outline')['href']\n",
    "        item_spec_url_list.append(url_to_add_to_item_spec_url_list)\n",
    "    number_matching_pattern = '\\d[\\d.,]*'\n",
    "    item_list = []\n",
    "    i = 0\n",
    "    for item_spec_url in item_spec_url_list:\n",
    "        driver.get(item_spec_url)\n",
    "        time.sleep(3)\n",
    "        item_html_source = driver.page_source\n",
    "        item_soup = BeautifulSoup(item_html_source, 'html.parser')\n",
    "        item_dict = {}\n",
    "        item_dict['item_url'] = item_spec_url\n",
    "        item_dict['title'] = (item_soup.find('span', id = 'productTitle').contents)[0].strip()\n",
    "        try:\n",
    "            item_dict['rating'] = item_soup.find('div', id = 'averageCustomerReviews').findAll('span')[3].contents[0].strip()\n",
    "        except: \n",
    "            item_dict['rating'] = 'NA'\n",
    "        item_dict['img_url'] = item_soup.find('img', id = 'landingImage').get('src')\n",
    "\n",
    "        try:\n",
    "            price_span_list = item_soup.find('div', id = 'corePrice_desktop').findAll('span', class_ = 'a-offscreen')\n",
    "            price_list = []\n",
    "            for price_span in price_span_list:\n",
    "                price_list.append(price_span.get_text().strip())\n",
    "            item_dict['price'] = price_list\n",
    "        except:\n",
    "            price_span_list = item_soup.find('div', id = 'corePriceDisplay_desktop_feature_div').findAll('span', class_ = 'aok-offscreen')\n",
    "            price_list = []\n",
    "            for price_span in price_span_list:\n",
    "                price_list.append(price_span.get_text().strip())\n",
    "            item_dict['price'] = price_list\n",
    "\n",
    "        try:\n",
    "            item_dict['brand'] = item_soup.find('div', id = 'titleBlockLeftSection').getText().strip()\n",
    "        except:\n",
    "            item_dict['brand'] = item_soup.find('div', id = 'bylineInfo_feature_div').getText().strip()\n",
    "\n",
    "        try:\n",
    "            product_overview = item_soup.find('div', id = 'dp').find('div', id = 'dp-container').find('div', id = 'ppd').find('div', id = 'centerCol').find('div', id = 'productOverview_feature_div').text.strip()\n",
    "        except:\n",
    "            try: \n",
    "                product_overview = item_soup.find('div', id = 'productFactsDesktop_feature_div').getText().strip()\n",
    "            except: \n",
    "                product_overview = 'NA'\n",
    "        item_dict['description'] = product_overview\n",
    "\n",
    "        try:  \n",
    "            num_reviews_str = item_soup.find('span',id = 'acrCustomerReviewText').getText()\n",
    "            matches = re.findall(number_matching_pattern, num_reviews_str)\n",
    "            item_dict['num_reviews'] = float(matches[0].replace(',',''))\n",
    "        except: \n",
    "            item_dict['num_reviews'] = 0 \n",
    "\n",
    "        try:\n",
    "            categs_component_list = item_soup.find('div', id ='wayfinding-breadcrumbs_container').findAll('li')\n",
    "            categ_list = []\n",
    "            for li_component in categs_component_list:\n",
    "                if not li_component.find('span', class_ = 'a-list-item a-color-tertiary'):\n",
    "                    categ_list.append(li_component.getText().strip())\n",
    "            item_dict['category_heirarchy'] = categ_list\n",
    "        except: \n",
    "            try: \n",
    "                item_dict['category_heirarchy'] = item_soup.find('span', class_ = 'cat-link').getText()\n",
    "            except: \n",
    "                item_dict['category_heirarchy'] = 'NA'\n",
    "\n",
    "        item_list.append(item_dict)\n",
    "        print(i, item_dict)\n",
    "        i = i + 1\n",
    "    k+=1\n",
    "    # Specify the JSON file name\n",
    "    file_name = \"data_\"+str(k)+\"_\"+str(i)+\".json\"\n",
    "\n",
    "    # Save the list of dictionaries to the JSON file\n",
    "    with open(file_name, \"w\") as json_file:\n",
    "        json.dump(item_list, json_file, indent=4)  # `indent=4` makes the JSON file readable\n",
    "\n",
    "    print(f\"Data saved to {file_name}.\")\n"
   ]
  },
  {
   "cell_type": "code",
   "execution_count": 90,
   "metadata": {},
   "outputs": [
    {
     "data": {
      "text/plain": [
       "\"in Men's Trousers\""
      ]
     },
     "execution_count": 90,
     "metadata": {},
     "output_type": "execute_result"
    }
   ],
   "source": [
    "item_soup.find('span', class_ = 'cat-link').getText()"
   ]
  },
  {
   "cell_type": "code",
   "execution_count": 86,
   "metadata": {},
   "outputs": [
    {
     "data": {
      "text/plain": [
       "'https://www.amazon.sg/Lee-Performance-Extreme-Straight-Original/dp/B00QNAL9U6/ref=sr_1_22?content-id=amzn1.sym.5e505bc2-b07e-47e6-b40c-4822c9c12b88&dib=eyJ2IjoiMSJ9.cfNsTSGrG2WcwKLdPxWk1kNB36Nucv0P59ebbPbS7biP0CfEZen939m36MassGwEZPJ7h4bpKBH1iiRUSzc0cpiiA1HnajMPOc4i9yFpico8Dd0sZC3mDiDP-TmdHPm1LScg_UEMvwaRIa4gHiYIOX1VW3fKtSHU1HTfC31KiNtBr3s8TGnmEkK55kkQ7JGzT8xnylZimU6c8ztZdea0Hpk33L5ES5WkfEHN3ceefNlxjJNRwf1eAK-fRS6KDr85qpShQ5mZcwGnDtJpkk5WH0Sa4pNKLv8wmX93R42JrC9NPqYy9fBy_nXbX43cEkfurajkhM7dXDo9BW1Lx-6OI2hoqsk2C6HCGAvAtm5vFxCpT0uifdEdpuy7lROnI5I6S_LPTXJ1Q0yv6eJy7Svx8mdbdE9T3ZbWzdmkxHl3K2kk03-0RHJSe0EULEGSpnGy.k-luXoHTq3NgviJ1lN9qrU3iKMlFDrrVAhyh2zyBux4&dib_tag=se&m=AYH85219XLWXU&pd_rd_r=0c6cde10-08d8-489b-96fd-b43162f8c19e&pd_rd_w=9ZaaW&pd_rd_wg=2h50f&qid=1737949274&refinements=p_6%3AAYH85219XLWXU&s=fashion&sr=1-22'"
      ]
     },
     "execution_count": 86,
     "metadata": {},
     "output_type": "execute_result"
    }
   ],
   "source": [
    "item_spec_url"
   ]
  },
  {
   "cell_type": "code",
   "execution_count": 22,
   "metadata": {},
   "outputs": [],
   "source": [
    "# query from amazon\n",
    "driver = webdriver.Chrome(service=service, options=options)\n",
    "search_url = \"https://www.amazon.sg/s?k=laptop&crid=2KMSNBK7YLCYZ&sprefix=lapto%2Caps%2C290&ref=nb_sb_noss_2\"\n",
    "driver.get(search_url)\n",
    "time.sleep(3)\n",
    "search_html_source = driver.page_source\n",
    "search_soup = BeautifulSoup(search_html_source, 'html.parser')\n",
    "search_span_element = search_soup.find('span', {'data-component-type': 's-search-results'})"
   ]
  },
  {
   "cell_type": "code",
   "execution_count": 7,
   "metadata": {},
   "outputs": [],
   "source": [
    "search_results_pg2 =  search_span_element.findAll('div', {'role': 'listitem'})"
   ]
  },
  {
   "cell_type": "code",
   "execution_count": 23,
   "metadata": {},
   "outputs": [],
   "source": [
    "search_results = search_span_element.findAll('div', {'role': 'listitem'})\n",
    "# check for the id, if present, skip"
   ]
  },
  {
   "cell_type": "code",
   "execution_count": 143,
   "metadata": {},
   "outputs": [
    {
     "data": {
      "text/plain": [
       "24"
      ]
     },
     "execution_count": 143,
     "metadata": {},
     "output_type": "execute_result"
    }
   ],
   "source": [
    "len(search_results_pg2)"
   ]
  },
  {
   "cell_type": "code",
   "execution_count": 95,
   "metadata": {},
   "outputs": [],
   "source": [
    "search_result = search_results[0]"
   ]
  },
  {
   "cell_type": "code",
   "execution_count": 103,
   "metadata": {},
   "outputs": [
    {
     "data": {
      "text/plain": [
       "'https://www.amazon.sg/Steve-Madden-Bevelyn-Convertible-Crossbody/dp/B0CQKKRH4M/ref=sr_1_1?content-id=amzn1.sym.5e505bc2-b07e-47e6-b40c-4822c9c12b88&dib=eyJ2IjoiMSJ9.bzAOnQw30-4PBRgODFePKQY5Q45ezvfjAH6UPSvhO4BqdvNNLgqT99l9Mub8cCX5M-fU1RNUy7hI7qcu_ENczLdYwURDCWqFKKHOBNbjTtKYd5OlalxaHi4LZEOb5snWfjA3UgqbTXDhS40UWQ20NaFPvQNaazjD2H04Y-3W6-TKxLiHgtbV95VCgF_xn5AQ0admZHXH0r1u8DFwEq_RyxKththIqSsmQKKhVbatWmSzxGtffdscuYhZKX8_R58ZH6nrCKfdz2ggdNUqLq_4bxYBPGmKNT2C6RcFW89Ws27n8s0UcSAfh8sf43PYAnaezC4x3ufvApQxNN_gzG6sf37rh9QwtwUt_5XlsjrMb_MVNov06iSk4iSE-NQrP5-EePKP1WKMyXR9DbOGW2dFr-uG-dR9BG0ZHz84mfiwHjXi7LQKFwRJzrr4agX2QuYL.B4nvd0mTIuxeviwIyqyB-oo2nXGaJ62sQ05xrHfO1T0&dib_tag=se&m=AYH85219XLWXU&pd_rd_r=0c6cde10-08d8-489b-96fd-b43162f8c19e&pd_rd_w=9ZaaW&pd_rd_wg=2h50f&qid=1737737752&refinements=p_6%3AAYH85219XLWXU&s=fashion&sr=1-1'"
      ]
     },
     "execution_count": 103,
     "metadata": {},
     "output_type": "execute_result"
    }
   ],
   "source": [
    "item_spec_url = 'https://www.amazon.sg'+search_result.find('div', class_ = 's-image-padding').find('a', class_ = 'a-link-normal s-no-outline')['href']\n",
    "item_spec_url"
   ]
  },
  {
   "cell_type": "code",
   "execution_count": 141,
   "metadata": {},
   "outputs": [],
   "source": [
    "search_result_lists = search_results +search_results_pg2"
   ]
  },
  {
   "cell_type": "code",
   "execution_count": 152,
   "metadata": {},
   "outputs": [
    {
     "data": {
      "text/plain": [
       "'/Kobo-SleepCover-Technology-Compatible-N428-AC-SB-N-PU/dp/B0D1GQ25NW/ref=sr_1_1?content-id=amzn1.sym.5e505bc2-b07e-47e6-b40c-4822c9c12b88&dib=eyJ2IjoiMSJ9.fW18QFEh4EoIkx2ZY3bjS1qEz7xxPgP6YXcq5DmNIXREXt6GTXWadGApS57qBplIaqrkrlCW7xdUsa4cvgmUGeLo8_4Uj4PcKljOhuhi5LJDdNGcSVvD4K0bV2ibmLTILOWFnngbdNe66hsRNo-2io0kresTyBl8W3-XmYgvcP7vcUuCSruoDYbfWrAI7Cbp_2Rh9NcyTy5TIPDr7eAsWJQyYMZSy3vX6thCBo1i-ub6f5s9Sob0VumRx0Ye-HfnIJKbhMYICGNNASONVFN6PhsspySV_4NFi2UvL04mqGkCx8Q0_yN8VZ8T3SLMzgDNsaIClMw6XGIBYKVirWvJ1ETNY3wYjj50FZNk1gpTvcM.-jAnSI_VOknPQ6McP4rjw2qsg-xt6OzgjxE62L4_oAY&dib_tag=se&m=AYH85219XLWXU&pd_rd_r=0c6cde10-08d8-489b-96fd-b43162f8c19e&pd_rd_w=9ZaaW&pd_rd_wg=2h50f&qid=1737740415&refinements=p_6%3AAYH85219XLWXU&s=electronics&sr=1-1'"
      ]
     },
     "execution_count": 152,
     "metadata": {},
     "output_type": "execute_result"
    }
   ],
   "source": [
    "search_result.find('span', {'data-component-type':'s-product-image'}).find('a', class_ = 'a-link-normal s-no-outline')['href']"
   ]
  },
  {
   "cell_type": "code",
   "execution_count": 24,
   "metadata": {},
   "outputs": [
    {
     "data": {
      "text/plain": [
       "66"
      ]
     },
     "execution_count": 24,
     "metadata": {},
     "output_type": "execute_result"
    }
   ],
   "source": [
    "len(search_results)"
   ]
  },
  {
   "cell_type": "code",
   "execution_count": 27,
   "metadata": {},
   "outputs": [
    {
     "data": {
      "text/plain": [
       "<div class=\"a-box a-first textref-border textref-box-first\" role=\"listitem\"><div class=\"a-box-inner a-padding-mini\">\n",
       "<a class=\"a-link-normal s-on-hover-underline-text\" href=\"/s?k=hp+laptop&amp;ref=rsl_sug_0_0&amp;pd_rd_w=jG472&amp;content-id=amzn1.sym.3ed76b2e-2648-439d-b276-c39bf3c17eea:amzn1.sym.3ed76b2e-2648-439d-b276-c39bf3c17eea&amp;pf_rd_p=3ed76b2e-2648-439d-b276-c39bf3c17eea&amp;pf_rd_r=F4K52F3CBBSH30BB02CA&amp;pd_rd_wg=Z1Knd&amp;pd_rd_r=4516085f-6bc6-4460-9ad3-f884cbef28b4&amp;qid=1737940846\">\n",
       "<div class=\"a-row a-grid-vertical-align a-grid-center a-ws-row\" style=\"height:52px;\">\n",
       "<div class=\"a-column a-span2 a-text-center a-spacing-none\">\n",
       "<i class=\"a-icon a-icon-search aok-align-center textref-icon-opacity\" role=\"presentation\"></i>\n",
       "</div>\n",
       "<div class=\"a-column a-span10 a-spacing-none a-span-last\">\n",
       "<span lang=\"en-SG\">\n",
       "<span class=\"a-size-base a-color-base s-line-clamp-2\">\n",
       "                                                        hp laptop\n",
       "                                                    </span>\n",
       "</span>\n",
       "</div>\n",
       "</div>\n",
       "</a>\n",
       "</div></div>"
      ]
     },
     "execution_count": 27,
     "metadata": {},
     "output_type": "execute_result"
    }
   ],
   "source": [
    "search_result"
   ]
  },
  {
   "cell_type": "code",
   "execution_count": 26,
   "metadata": {},
   "outputs": [
    {
     "name": "stdout",
     "output_type": "stream",
     "text": [
      "1\n",
      "2\n",
      "3\n",
      "4\n",
      "5\n",
      "6\n",
      "7\n",
      "8\n",
      "9\n",
      "10\n",
      "11\n",
      "12\n",
      "13\n",
      "14\n",
      "15\n",
      "16\n",
      "17\n",
      "18\n",
      "19\n",
      "20\n",
      "21\n",
      "22\n",
      "23\n",
      "24\n",
      "25\n",
      "26\n",
      "27\n",
      "28\n",
      "29\n",
      "30\n",
      "31\n",
      "32\n",
      "33\n",
      "34\n",
      "35\n",
      "36\n",
      "37\n",
      "38\n",
      "39\n",
      "40\n",
      "41\n",
      "42\n",
      "43\n",
      "44\n",
      "45\n",
      "46\n",
      "47\n",
      "48\n",
      "49\n",
      "50\n",
      "51\n",
      "52\n",
      "53\n",
      "54\n",
      "55\n",
      "56\n",
      "57\n",
      "58\n",
      "59\n",
      "60\n",
      "61\n"
     ]
    },
    {
     "ename": "AttributeError",
     "evalue": "'NoneType' object has no attribute 'find'",
     "output_type": "error",
     "traceback": [
      "\u001b[0;31m---------------------------------------------------------------------------\u001b[0m",
      "\u001b[0;31mAttributeError\u001b[0m                            Traceback (most recent call last)",
      "Cell \u001b[0;32mIn[26], line 7\u001b[0m\n\u001b[1;32m      6\u001b[0m \u001b[38;5;28;01mtry\u001b[39;00m:\n\u001b[0;32m----> 7\u001b[0m     url_to_add_to_item_spec_url_list \u001b[38;5;241m=\u001b[39m \u001b[38;5;124m'\u001b[39m\u001b[38;5;124mhttps://www.amazon.sg\u001b[39m\u001b[38;5;124m'\u001b[39m\u001b[38;5;241m+\u001b[39m\u001b[43msearch_result\u001b[49m\u001b[38;5;241;43m.\u001b[39;49m\u001b[43mfind\u001b[49m\u001b[43m(\u001b[49m\u001b[38;5;124;43m'\u001b[39;49m\u001b[38;5;124;43mdiv\u001b[39;49m\u001b[38;5;124;43m'\u001b[39;49m\u001b[43m,\u001b[49m\u001b[43m \u001b[49m\u001b[43mclass_\u001b[49m\u001b[43m \u001b[49m\u001b[38;5;241;43m=\u001b[39;49m\u001b[43m \u001b[49m\u001b[38;5;124;43m'\u001b[39;49m\u001b[38;5;124;43ms-image-padding\u001b[39;49m\u001b[38;5;124;43m'\u001b[39;49m\u001b[43m)\u001b[49m\u001b[38;5;241;43m.\u001b[39;49m\u001b[43mfind\u001b[49m(\u001b[38;5;124m'\u001b[39m\u001b[38;5;124ma\u001b[39m\u001b[38;5;124m'\u001b[39m, class_ \u001b[38;5;241m=\u001b[39m \u001b[38;5;124m'\u001b[39m\u001b[38;5;124ma-link-normal s-no-outline\u001b[39m\u001b[38;5;124m'\u001b[39m)[\u001b[38;5;124m'\u001b[39m\u001b[38;5;124mhref\u001b[39m\u001b[38;5;124m'\u001b[39m]\n\u001b[1;32m      8\u001b[0m \u001b[38;5;28;01mexcept\u001b[39;00m: \n",
      "\u001b[0;31mAttributeError\u001b[0m: 'NoneType' object has no attribute 'find'",
      "\nDuring handling of the above exception, another exception occurred:\n",
      "\u001b[0;31mAttributeError\u001b[0m                            Traceback (most recent call last)",
      "Cell \u001b[0;32mIn[26], line 9\u001b[0m\n\u001b[1;32m      7\u001b[0m     url_to_add_to_item_spec_url_list \u001b[38;5;241m=\u001b[39m \u001b[38;5;124m'\u001b[39m\u001b[38;5;124mhttps://www.amazon.sg\u001b[39m\u001b[38;5;124m'\u001b[39m\u001b[38;5;241m+\u001b[39msearch_result\u001b[38;5;241m.\u001b[39mfind(\u001b[38;5;124m'\u001b[39m\u001b[38;5;124mdiv\u001b[39m\u001b[38;5;124m'\u001b[39m, class_ \u001b[38;5;241m=\u001b[39m \u001b[38;5;124m'\u001b[39m\u001b[38;5;124ms-image-padding\u001b[39m\u001b[38;5;124m'\u001b[39m)\u001b[38;5;241m.\u001b[39mfind(\u001b[38;5;124m'\u001b[39m\u001b[38;5;124ma\u001b[39m\u001b[38;5;124m'\u001b[39m, class_ \u001b[38;5;241m=\u001b[39m \u001b[38;5;124m'\u001b[39m\u001b[38;5;124ma-link-normal s-no-outline\u001b[39m\u001b[38;5;124m'\u001b[39m)[\u001b[38;5;124m'\u001b[39m\u001b[38;5;124mhref\u001b[39m\u001b[38;5;124m'\u001b[39m]\n\u001b[1;32m      8\u001b[0m \u001b[38;5;28;01mexcept\u001b[39;00m: \n\u001b[0;32m----> 9\u001b[0m     url_to_add_to_item_spec_url_list \u001b[38;5;241m=\u001b[39m \u001b[38;5;124m'\u001b[39m\u001b[38;5;124mhttps://www.amazon.sg\u001b[39m\u001b[38;5;124m'\u001b[39m\u001b[38;5;241m+\u001b[39m\u001b[43msearch_result\u001b[49m\u001b[38;5;241;43m.\u001b[39;49m\u001b[43mfind\u001b[49m\u001b[43m(\u001b[49m\u001b[38;5;124;43m'\u001b[39;49m\u001b[38;5;124;43mspan\u001b[39;49m\u001b[38;5;124;43m'\u001b[39;49m\u001b[43m,\u001b[49m\u001b[43m \u001b[49m\u001b[43m{\u001b[49m\u001b[38;5;124;43m'\u001b[39;49m\u001b[38;5;124;43mdata-component-type\u001b[39;49m\u001b[38;5;124;43m'\u001b[39;49m\u001b[43m:\u001b[49m\u001b[38;5;124;43m'\u001b[39;49m\u001b[38;5;124;43ms-product-image\u001b[39;49m\u001b[38;5;124;43m'\u001b[39;49m\u001b[43m}\u001b[49m\u001b[43m)\u001b[49m\u001b[38;5;241;43m.\u001b[39;49m\u001b[43mfind\u001b[49m(\u001b[38;5;124m'\u001b[39m\u001b[38;5;124ma\u001b[39m\u001b[38;5;124m'\u001b[39m, class_ \u001b[38;5;241m=\u001b[39m \u001b[38;5;124m'\u001b[39m\u001b[38;5;124ma-link-normal s-no-outline\u001b[39m\u001b[38;5;124m'\u001b[39m)[\u001b[38;5;124m'\u001b[39m\u001b[38;5;124mhref\u001b[39m\u001b[38;5;124m'\u001b[39m]\n\u001b[1;32m     10\u001b[0m item_spec_url_list\u001b[38;5;241m.\u001b[39mappend(url_to_add_to_item_spec_url_list)\n",
      "\u001b[0;31mAttributeError\u001b[0m: 'NoneType' object has no attribute 'find'"
     ]
    }
   ],
   "source": [
    "j = 0\n",
    "item_spec_url_list = []\n",
    "for search_result in search_results:\n",
    "    j = j + 1\n",
    "    print(j)\n",
    "    try:\n",
    "        url_to_add_to_item_spec_url_list = 'https://www.amazon.sg'+search_result.find('div', class_ = 's-image-padding').find('a', class_ = 'a-link-normal s-no-outline')['href']\n",
    "    except: \n",
    "        url_to_add_to_item_spec_url_list = 'https://www.amazon.sg'+search_result.find('span', {'data-component-type':'s-product-image'}).find('a', class_ = 'a-link-normal s-no-outline')['href']\n",
    "    item_spec_url_list.append(url_to_add_to_item_spec_url_list)"
   ]
  },
  {
   "cell_type": "code",
   "execution_count": 29,
   "metadata": {},
   "outputs": [],
   "source": [
    "item_list = []"
   ]
  },
  {
   "cell_type": "code",
   "execution_count": 30,
   "metadata": {},
   "outputs": [],
   "source": [
    "i = 0"
   ]
  },
  {
   "cell_type": "code",
   "execution_count": 73,
   "metadata": {},
   "outputs": [],
   "source": [
    "number_matching_pattern = '\\d[\\d.,]*'"
   ]
  },
  {
   "cell_type": "code",
   "execution_count": null,
   "metadata": {},
   "outputs": [
    {
     "name": "stdout",
     "output_type": "stream",
     "text": [
      "0 {'item_url': 'https://www.amazon.sg/sspa/click?ie=UTF8&spc=MTo4MTgxNzIxMjcwNTA5NDExOjE3Mzc5NDA4NDY6c3BfYXRmOjMwMDA2NDU5ODEzMjE2Mjo6MDo6&url=%2FPredator-PH18-72-919R-18-Inch-i9-14900HX-processor%2Fdp%2FB0DJKNM5SQ%2Fref%3Dsr_1_1_sspa%3Fcrid%3D2KMSNBK7YLCYZ%26dib%3DeyJ2IjoiMSJ9.9KeC06QXTf6gA6WPf3Pn89mC72efP-jBWymwAj5jZNSYYn1BE1MXq4STa23qe2Mvz0xFlFytFr4MsWhXr-aQQejGkQoqKG7urQ9QBvDlUOHir9WKpMm9XGD1fhZL5ZkR7YPolrhbYNVvUFcw8hw0bplugNWMGJhNEg-p_vWsApFLFKXsYFRkPJpCcflUFf_Ybfm0Jsx1mfHONrPvXlTP6jU2wNcoUipG5lzh9gCES-d0HEao7JAPoKCjSS_ncELgqdBAv92yZ3nPmlkU6apTUxooUPNsVVVs7Rro7yriSnI.EqF637RZz4jXrUW7i2K6slOSNjwJQCm8vuTbSMMechw%26dib_tag%3Dse%26keywords%3Dlaptop%26qid%3D1737940846%26sprefix%3Dlapto%252Caps%252C290%26sr%3D8-1-spons%26sp_csd%3Dd2lkZ2V0TmFtZT1zcF9hdGY%26psc%3D1', 'title': 'Predator Helios 18 | PH18-72-919R 18-Inch AI GAMING PC Intel Core i9-14900HX processor, RTX 4090', 'rating': 'NA', 'img_url': 'https://m.media-amazon.com/images/I/51IoQPs+GfL._AC_SX679_.jpg', 'price': ['S$4,599.00'], 'brand': 'Visit the acer Store', 'category_heirarchy': ['Electronics', 'Computers, Components and Accessories', 'Laptops', 'Traditional Laptops']}\n",
      "1 {'item_url': 'https://www.amazon.sg/sspa/click?ie=UTF8&spc=MTo4MTgxNzIxMjcwNTA5NDExOjE3Mzc5NDA4NDY6c3BfYXRmOjMwMDA3NDg0OTQ3NjI2Mjo6MDo6&url=%2FLG-15Z90ST-SuperSlim-Ultra-slim-Ultra-light%2Fdp%2FB0D1VPDWH5%2Fref%3Dsr_1_2_sspa%3Fcrid%3D2KMSNBK7YLCYZ%26dib%3DeyJ2IjoiMSJ9.9KeC06QXTf6gA6WPf3Pn89mC72efP-jBWymwAj5jZNSYYn1BE1MXq4STa23qe2Mvz0xFlFytFr4MsWhXr-aQQejGkQoqKG7urQ9QBvDlUOHir9WKpMm9XGD1fhZL5ZkR7YPolrhbYNVvUFcw8hw0bplugNWMGJhNEg-p_vWsApFLFKXsYFRkPJpCcflUFf_Ybfm0Jsx1mfHONrPvXlTP6jU2wNcoUipG5lzh9gCES-d0HEao7JAPoKCjSS_ncELgqdBAv92yZ3nPmlkU6apTUxooUPNsVVVs7Rro7yriSnI.EqF637RZz4jXrUW7i2K6slOSNjwJQCm8vuTbSMMechw%26dib_tag%3Dse%26keywords%3Dlaptop%26qid%3D1737940846%26sprefix%3Dlapto%252Caps%252C290%26sr%3D8-2-spons%26sp_csd%3Dd2lkZ2V0TmFtZT1zcF9hdGY%26psc%3D1', 'title': 'LG 15Z90ST gram 15.6\" SuperSlim Ultra-slim and Ultra-light FHD OLED Display with Intel® Core™ Ultra5 125H', 'rating': 'NA', 'img_url': 'https://m.media-amazon.com/images/I/51Pf-A09thL._AC_SX679_.jpg', 'price': ['S$2,299.00'], 'brand': 'Visit the LG Store', 'category_heirarchy': ['Electronics', 'Computers, Components and Accessories', 'Laptops', 'Traditional Laptops']}\n",
      "2 {'item_url': 'https://www.amazon.sg/sspa/click?ie=UTF8&spc=MTo4MTgxNzIxMjcwNTA5NDExOjE3Mzc5NDA4NDY6c3BfYXRmOjMwMDA0NTA5MTIxNDM2Mjo6MDo6&url=%2FLenovo-Thinkpad-Business-Computer-GalliumPi%2Fdp%2FB097KNZ8XS%2Fref%3Dsr_1_3_sspa%3Fcrid%3D2KMSNBK7YLCYZ%26dib%3DeyJ2IjoiMSJ9.9KeC06QXTf6gA6WPf3Pn89mC72efP-jBWymwAj5jZNSYYn1BE1MXq4STa23qe2Mvz0xFlFytFr4MsWhXr-aQQejGkQoqKG7urQ9QBvDlUOHir9WKpMm9XGD1fhZL5ZkR7YPolrhbYNVvUFcw8hw0bplugNWMGJhNEg-p_vWsApFLFKXsYFRkPJpCcflUFf_Ybfm0Jsx1mfHONrPvXlTP6jU2wNcoUipG5lzh9gCES-d0HEao7JAPoKCjSS_ncELgqdBAv92yZ3nPmlkU6apTUxooUPNsVVVs7Rro7yriSnI.EqF637RZz4jXrUW7i2K6slOSNjwJQCm8vuTbSMMechw%26dib_tag%3Dse%26keywords%3Dlaptop%26qid%3D1737940846%26sprefix%3Dlapto%252Caps%252C290%26sr%3D8-3-spons%26sp_csd%3Dd2lkZ2V0TmFtZT1zcF9hdGY%26psc%3D1%26smid%3DA3QENQAPXQSQMA', 'title': 'Lenovo Thinkpad E14 Gen 2 Business Laptop Computer, 14\" FHD IPS Display, AMD Ryzen 5 4600U, 16GB RAM, 256GB SSD, Windows 10 Pro Bundle with GalliumPi Accs.', 'rating': 'NA', 'img_url': 'https://m.media-amazon.com/images/I/81C-IouDSKL._AC_SX679_.jpg', 'price': ['S$1,499.00'], 'brand': 'Visit the Lenovo Store', 'category_heirarchy': ['Electronics', 'Computers, Components and Accessories', 'Laptops', 'Traditional Laptops']}\n",
      "3 {'item_url': 'https://www.amazon.sg/sspa/click?ie=UTF8&spc=MTo4MTgxNzIxMjcwNTA5NDExOjE3Mzc5NDA4NDY6c3BfYXRmOjMwMDA0NTA4NjYzNjE2Mjo6MDo6&url=%2FHP-450-i5-1135G7-Graphics-Business%2Fdp%2FB08L6LBZ9F%2Fref%3Dsr_1_4_sspa%3Fcrid%3D2KMSNBK7YLCYZ%26dib%3DeyJ2IjoiMSJ9.9KeC06QXTf6gA6WPf3Pn89mC72efP-jBWymwAj5jZNSYYn1BE1MXq4STa23qe2Mvz0xFlFytFr4MsWhXr-aQQejGkQoqKG7urQ9QBvDlUOHir9WKpMm9XGD1fhZL5ZkR7YPolrhbYNVvUFcw8hw0bplugNWMGJhNEg-p_vWsApFLFKXsYFRkPJpCcflUFf_Ybfm0Jsx1mfHONrPvXlTP6jU2wNcoUipG5lzh9gCES-d0HEao7JAPoKCjSS_ncELgqdBAv92yZ3nPmlkU6apTUxooUPNsVVVs7Rro7yriSnI.EqF637RZz4jXrUW7i2K6slOSNjwJQCm8vuTbSMMechw%26dib_tag%3Dse%26keywords%3Dlaptop%26qid%3D1737940846%26sprefix%3Dlapto%252Caps%252C290%26sr%3D8-4-spons%26sp_csd%3Dd2lkZ2V0TmFtZT1zcF9hdGY%26psc%3D1%26smid%3DA3QENQAPXQSQMA', 'title': 'HP ProBook 450 G8 15.6\" FHD (Intel 4-Core i5-1135G7, 16GB RAM, 512GB PCIe SSD, UHD Graphics) Full HD 1080p IPS Business Laptop, Backlit Keyboard, Type-C, RJ-45, Webcam, IST Bag, Win 11 Pro', 'rating': '5.0', 'img_url': 'https://m.media-amazon.com/images/I/71JBBuYHdTL._AC_SX679_.jpg', 'price': ['S$2,399.00'], 'brand': 'Visit the HP Store', 'category_heirarchy': ['Electronics', 'Computers, Components and Accessories', 'Laptops', 'Traditional Laptops']}\n",
      "4 {'item_url': 'https://www.amazon.sg/ASUS-Vivobook-Display-i3-1215U-Touchpad/dp/B0CLHCWNV8/ref=sr_1_5?crid=2KMSNBK7YLCYZ&dib=eyJ2IjoiMSJ9.9KeC06QXTf6gA6WPf3Pn89mC72efP-jBWymwAj5jZNSYYn1BE1MXq4STa23qe2Mvz0xFlFytFr4MsWhXr-aQQejGkQoqKG7urQ9QBvDlUOHir9WKpMm9XGD1fhZL5ZkR7YPolrhbYNVvUFcw8hw0bplugNWMGJhNEg-p_vWsApFLFKXsYFRkPJpCcflUFf_Ybfm0Jsx1mfHONrPvXlTP6jU2wNcoUipG5lzh9gCES-d0HEao7JAPoKCjSS_ncELgqdBAv92yZ3nPmlkU6apTU_ojblyAMikQk4seChTP0U-r5_6Yjn0nQUfsUcP0fnkQMXJKqr9jsneLanKHfmeGff8cU3KvsrSj8ag2qE8Y9GRdXalONHOfqyW8YJcgKk-vsmuZJI0LBBDGiVXJ3_FmoZ3y8xc_EQfyuzl3iLj_e35F43ItBqBJKYRzvSPLbJ41.NfO5xBjeMMBzH7qbUQ0W2yS7u5fMpcO9zO8JIJrFlAs&dib_tag=se&keywords=laptop&qid=1737940846&sprefix=lapto%2Caps%2C290&sr=8-5', 'title': 'ASUS Vivobook Laptop, 14\" FHD Display, i3-1215U, 16GB RAM, 512GB SSD, Wi-Fi 6, HDMI, Webcam, Touchpad, Windows 11 Home, Blue', 'rating': '4.3', 'img_url': 'https://m.media-amazon.com/images/I/61jojpe4KVL._AC_SX679_.jpg', 'price': ['S$531.95'], 'brand': 'Brand: ASUS', 'category_heirarchy': ['Electronics', 'Computers, Components and Accessories', 'Laptops', 'Traditional Laptops']}\n",
      "5 {'item_url': 'https://www.amazon.sg/Lenovo-IdeaPad-Slim-Chromebook-Lightweight/dp/B0D5HZVQDL/ref=sr_1_6?crid=2KMSNBK7YLCYZ&dib=eyJ2IjoiMSJ9.9KeC06QXTf6gA6WPf3Pn89mC72efP-jBWymwAj5jZNSYYn1BE1MXq4STa23qe2Mvz0xFlFytFr4MsWhXr-aQQejGkQoqKG7urQ9QBvDlUOHir9WKpMm9XGD1fhZL5ZkR7YPolrhbYNVvUFcw8hw0bplugNWMGJhNEg-p_vWsApFLFKXsYFRkPJpCcflUFf_Ybfm0Jsx1mfHONrPvXlTP6jU2wNcoUipG5lzh9gCES-d0HEao7JAPoKCjSS_ncELgqdBAv92yZ3nPmlkU6apTU_ojblyAMikQk4seChTP0U-r5_6Yjn0nQUfsUcP0fnkQMXJKqr9jsneLanKHfmeGff8cU3KvsrSj8ag2qE8Y9GRdXalONHOfqyW8YJcgKk-vsmuZJI0LBBDGiVXJ3_FmoZ3y8xc_EQfyuzl3iLj_e35F43ItBqBJKYRzvSPLbJ41.NfO5xBjeMMBzH7qbUQ0W2yS7u5fMpcO9zO8JIJrFlAs&dib_tag=se&keywords=laptop&qid=1737940846&sprefix=lapto%2Caps%2C290&sr=8-6', 'title': 'Lenovo IdeaPad Slim 3 Chromebook - 2024 - Lightweight Laptop - Waves MaxxAudio® Speakers - 14\" HD Display - HD 720p Camera - 4GB Memory - 64GB Storage - MediaTek Kompanio 520 - Abyss Blue', 'rating': '4.5', 'img_url': 'https://m.media-amazon.com/images/I/61BRKJYlOSL._AC_SX679_.jpg', 'price': ['S$322.54'], 'brand': 'Visit the Lenovo Store', 'category_heirarchy': ['Electronics', 'Computers, Components and Accessories', 'Laptops', 'Traditional Laptops']}\n",
      "6 {'item_url': 'https://www.amazon.sg/Lenovo-IdeaPad-2023-Flagship-HubxcelAccessory/dp/B0BWHD8D2R/ref=sr_1_7?crid=2KMSNBK7YLCYZ&dib=eyJ2IjoiMSJ9.9KeC06QXTf6gA6WPf3Pn89mC72efP-jBWymwAj5jZNSYYn1BE1MXq4STa23qe2Mvz0xFlFytFr4MsWhXr-aQQejGkQoqKG7urQ9QBvDlUOHir9WKpMm9XGD1fhZL5ZkR7YPolrhbYNVvUFcw8hw0bplugNWMGJhNEg-p_vWsApFLFKXsYFRkPJpCcflUFf_Ybfm0Jsx1mfHONrPvXlTP6jU2wNcoUipG5lzh9gCES-d0HEao7JAPoKCjSS_ncELgqdBAv92yZ3nPmlkU6apTU_ojblyAMikQk4seChTP0U-r5_6Yjn0nQUfsUcP0fnkQMXJKqr9jsneLanKHfmeGff8cU3KvsrSj8ag2qE8Y9GRdXalONHOfqyW8YJcgKk-vsmuZJI0LBBDGiVXJ3_FmoZ3y8xc_EQfyuzl3iLj_e35F43ItBqBJKYRzvSPLbJ41.NfO5xBjeMMBzH7qbUQ0W2yS7u5fMpcO9zO8JIJrFlAs&dib_tag=se&keywords=laptop&qid=1737940846&sprefix=lapto%2Caps%2C290&sr=8-7', 'title': \"Lenovo IdeaPad 2023 Flagship 14'' HD Screen Lightweight Laptop, 4-Core Intel Pentium N5030 (Upto 3.1GHz), 4GB RAM, 128GB eMMC,WiFi, Webcam, Long Battery Hours, Microsoft 365, Win 11S+HubxcelAccessory\", 'rating': '3.8', 'img_url': 'https://m.media-amazon.com/images/I/71-v+CgXIZL._AC_SX679_.jpg', 'price': ['S$284.93'], 'brand': 'Visit the Lenovo Store', 'category_heirarchy': ['Electronics', 'Computers, Components and Accessories', 'Laptops', 'Traditional Laptops']}\n",
      "7 {'item_url': 'https://www.amazon.sg/ASUS-Business-Display-Microsoft-Graphics/dp/B0DHKRYZX3/ref=sr_1_8?crid=2KMSNBK7YLCYZ&dib=eyJ2IjoiMSJ9.9KeC06QXTf6gA6WPf3Pn89mC72efP-jBWymwAj5jZNSYYn1BE1MXq4STa23qe2Mvz0xFlFytFr4MsWhXr-aQQejGkQoqKG7urQ9QBvDlUOHir9WKpMm9XGD1fhZL5ZkR7YPolrhbYNVvUFcw8hw0bplugNWMGJhNEg-p_vWsApFLFKXsYFRkPJpCcflUFf_Ybfm0Jsx1mfHONrPvXlTP6jU2wNcoUipG5lzh9gCES-d0HEao7JAPoKCjSS_ncELgqdBAv92yZ3nPmlkU6apTU_ojblyAMikQk4seChTP0U-r5_6Yjn0nQUfsUcP0fnkQMXJKqr9jsneLanKHfmeGff8cU3KvsrSj8ag2qE8Y9GRdXalONHOfqyW8YJcgKk-vsmuZJI0LBBDGiVXJ3_FmoZ3y8xc_EQfyuzl3iLj_e35F43ItBqBJKYRzvSPLbJ41.NfO5xBjeMMBzH7qbUQ0W2yS7u5fMpcO9zO8JIJrFlAs&dib_tag=se&keywords=laptop&qid=1737940846&sprefix=lapto%2Caps%2C290&sr=8-8', 'title': 'ASUS 2024 Business Laptop, 14\" FHD Display, Intel Celeron N4500, 1-Year of Microsoft 365, 4GB RAM, 64GB eMMC, Intel Graphics, Wi-Fi 5, Windows 11', 'rating': '5.0', 'img_url': 'https://m.media-amazon.com/images/I/71JfsZHPA4L._AC_SX679_.jpg', 'price': ['S$293.04'], 'brand': 'Brand: ASUS', 'category_heirarchy': ['Electronics', 'Computers, Components and Accessories', 'Laptops', 'Traditional Laptops']}\n",
      "8 {'item_url': 'https://www.amazon.sg/ASUS-Laptop-Intel-Pentium-Windows/dp/B0DPHCSBZR/ref=sr_1_9?crid=2KMSNBK7YLCYZ&dib=eyJ2IjoiMSJ9.9KeC06QXTf6gA6WPf3Pn89mC72efP-jBWymwAj5jZNSYYn1BE1MXq4STa23qe2Mvz0xFlFytFr4MsWhXr-aQQejGkQoqKG7urQ9QBvDlUOHir9WKpMm9XGD1fhZL5ZkR7YPolrhbYNVvUFcw8hw0bplugNWMGJhNEg-p_vWsApFLFKXsYFRkPJpCcflUFf_Ybfm0Jsx1mfHONrPvXlTP6jU2wNcoUipG5lzh9gCES-d0HEao7JAPoKCjSS_ncELgqdBAv92yZ3nPmlkU6apTU_ojblyAMikQk4seChTP0U-r5_6Yjn0nQUfsUcP0fnkQMXJKqr9jsneLanKHfmeGff8cU3KvsrSj8ag2qE8Y9GRdXalONHOfqyW8YJcgKk-vsmuZJI0LBBDGiVXJ3_FmoZ3y8xc_EQfyuzl3iLj_e35F43ItBqBJKYRzvSPLbJ41.NfO5xBjeMMBzH7qbUQ0W2yS7u5fMpcO9zO8JIJrFlAs&dib_tag=se&keywords=laptop&qid=1737940846&sprefix=lapto%2Caps%2C290&sr=8-9', 'title': 'ASUS 14\" FHD (1920 x 1080) IPS LED Laptop, Intel Pentium N6000, 4-core, 4GB Memory, 64GB eMMC, Star Black, Windows 11 Home, HDMI, TWE Mouse Pad & Micro 64GB SD Card', 'rating': 'NA', 'img_url': 'https://m.media-amazon.com/images/I/61dyyx9nzDL._AC_SX679_.jpg', 'price': ['S$256.84'], 'brand': 'Brand: ASUS', 'category_heirarchy': ['Electronics', 'Computers, Components and Accessories', 'Laptops', 'Traditional Laptops']}\n",
      "9 {'item_url': 'https://www.amazon.sg/ASUS-MA-DB02-Display-Processor-NumberPad/dp/B08D92T45H/ref=sr_1_10?crid=2KMSNBK7YLCYZ&dib=eyJ2IjoiMSJ9.9KeC06QXTf6gA6WPf3Pn89mC72efP-jBWymwAj5jZNSYYn1BE1MXq4STa23qe2Mvz0xFlFytFr4MsWhXr-aQQejGkQoqKG7urQ9QBvDlUOHir9WKpMm9XGD1fhZL5ZkR7YPolrhbYNVvUFcw8hw0bplugNWMGJhNEg-p_vWsApFLFKXsYFRkPJpCcflUFf_Ybfm0Jsx1mfHONrPvXlTP6jU2wNcoUipG5lzh9gCES-d0HEao7JAPoKCjSS_ncELgqdBAv92yZ3nPmlkU6apTU_ojblyAMikQk4seChTP0U-r5_6Yjn0nQUfsUcP0fnkQMXJKqr9jsneLanKHfmeGff8cU3KvsrSj8ag2qE8Y9GRdXalONHOfqyW8YJcgKk-vsmuZJI0LBBDGiVXJ3_FmoZ3y8xc_EQfyuzl3iLj_e35F43ItBqBJKYRzvSPLbJ41.NfO5xBjeMMBzH7qbUQ0W2yS7u5fMpcO9zO8JIJrFlAs&dib_tag=se&keywords=laptop&qid=1737940846&sprefix=lapto%2Caps%2C290&sr=8-10', 'title': 'ASUS L410 MA-DB02 Ultra Thin Laptop, 14” FHD Display, Intel Celeron N4020 Processor, 4GB RAM, 64GB Storage, NumberPad, Windows 10 Home in S Mode, Star Black', 'rating': '4.3', 'img_url': 'https://m.media-amazon.com/images/I/71LXYdhtD3L._AC_SX679_.jpg', 'price': ['S$230.82'], 'brand': 'Brand: ASUS', 'category_heirarchy': ['Electronics', 'Computers, Components and Accessories', 'Laptops', 'Traditional Laptops']}\n",
      "10 {'item_url': 'https://www.amazon.sg/HP-Notebook-Display-AMD-Windows/dp/B0CTBJDLC2/ref=sr_1_11?crid=2KMSNBK7YLCYZ&dib=eyJ2IjoiMSJ9.9KeC06QXTf6gA6WPf3Pn89mC72efP-jBWymwAj5jZNSYYn1BE1MXq4STa23qe2Mvz0xFlFytFr4MsWhXr-aQQejGkQoqKG7urQ9QBvDlUOHir9WKpMm9XGD1fhZL5ZkR7YPolrhbYNVvUFcw8hw0bplugNWMGJhNEg-p_vWsApFLFKXsYFRkPJpCcflUFf_Ybfm0Jsx1mfHONrPvXlTP6jU2wNcoUipG5lzh9gCES-d0HEao7JAPoKCjSS_ncELgqdBAv92yZ3nPmlkU6apTU_ojblyAMikQk4seChTP0U-r5_6Yjn0nQUfsUcP0fnkQMXJKqr9jsneLanKHfmeGff8cU3KvsrSj8ag2qE8Y9GRdXalONHOfqyW8YJcgKk-vsmuZJI0LBBDGiVXJ3_FmoZ3y8xc_EQfyuzl3iLj_e35F43ItBqBJKYRzvSPLbJ41.NfO5xBjeMMBzH7qbUQ0W2yS7u5fMpcO9zO8JIJrFlAs&dib_tag=se&keywords=laptop&qid=1737940846&sprefix=lapto%2Caps%2C290&sr=8-11', 'title': 'HP Notebook Laptop, 14\" HD (1366 x 768) Display, AMD Ryzen 5 5500U (6 Cores), 16GB RAM, 256GB PCIe SSD, HDMI, SD Card Reader, Windows 11 Home, Natural Silver, TWE Mouse Pad', 'rating': '5.0', 'img_url': 'https://m.media-amazon.com/images/I/61eBxQ+HJ1L._AC_SX679_.jpg', 'price': ['S$585.30'], 'brand': 'Visit the HP Store', 'category_heirarchy': ['Electronics', 'Computers, Components and Accessories', 'Laptops', 'Traditional Laptops']}\n",
      "11 {'item_url': 'https://www.amazon.sg/HP-Portable-Business-Quad-Core-Mousepad/dp/B0C9N3H8F2/ref=sr_1_12?crid=2KMSNBK7YLCYZ&dib=eyJ2IjoiMSJ9.9KeC06QXTf6gA6WPf3Pn89mC72efP-jBWymwAj5jZNSYYn1BE1MXq4STa23qe2Mvz0xFlFytFr4MsWhXr-aQQejGkQoqKG7urQ9QBvDlUOHir9WKpMm9XGD1fhZL5ZkR7YPolrhbYNVvUFcw8hw0bplugNWMGJhNEg-p_vWsApFLFKXsYFRkPJpCcflUFf_Ybfm0Jsx1mfHONrPvXlTP6jU2wNcoUipG5lzh9gCES-d0HEao7JAPoKCjSS_ncELgqdBAv92yZ3nPmlkU6apTU_ojblyAMikQk4seChTP0U-r5_6Yjn0nQUfsUcP0fnkQMXJKqr9jsneLanKHfmeGff8cU3KvsrSj8ag2qE8Y9GRdXalONHOfqyW8YJcgKk-vsmuZJI0LBBDGiVXJ3_FmoZ3y8xc_EQfyuzl3iLj_e35F43ItBqBJKYRzvSPLbJ41.NfO5xBjeMMBzH7qbUQ0W2yS7u5fMpcO9zO8JIJrFlAs&dib_tag=se&keywords=laptop&qid=1737940846&sprefix=lapto%2Caps%2C290&sr=8-12', 'title': 'HP Portable Laptop, Student and Business, 14\" HD Display, Intel Quad-Core N4120, 16GB DDR4 RAM, 64GB eMMC, 1 Year Office 365, Webcam, SD Card Reader, HDMI, Wi-Fi, Windows 11 Home, Black, KKE Mousepad', 'rating': '4.0', 'img_url': 'https://m.media-amazon.com/images/I/614B6gJCIHL._AC_SX679_.jpg', 'price': ['S$344.55'], 'brand': 'Visit the HP Store', 'category_heirarchy': ['Electronics', 'Computers, Components and Accessories', 'Laptops', 'Traditional Laptops']}\n",
      "12 {'item_url': 'https://www.amazon.sg/HP-14-Inch-Laptops-Microsoft/dp/B0DBQHMQ8X/ref=sr_1_13?crid=2KMSNBK7YLCYZ&dib=eyJ2IjoiMSJ9.9KeC06QXTf6gA6WPf3Pn89mC72efP-jBWymwAj5jZNSYYn1BE1MXq4STa23qe2Mvz0xFlFytFr4MsWhXr-aQQejGkQoqKG7urQ9QBvDlUOHir9WKpMm9XGD1fhZL5ZkR7YPolrhbYNVvUFcw8hw0bplugNWMGJhNEg-p_vWsApFLFKXsYFRkPJpCcflUFf_Ybfm0Jsx1mfHONrPvXlTP6jU2wNcoUipG5lzh9gCES-d0HEao7JAPoKCjSS_ncELgqdBAv92yZ3nPmlkU6apTU_ojblyAMikQk4seChTP0U-r5_6Yjn0nQUfsUcP0fnkQMXJKqr9jsneLanKHfmeGff8cU3KvsrSj8ag2qE8Y9GRdXalONHOfqyW8YJcgKk-vsmuZJI0LBBDGiVXJ3_FmoZ3y8xc_EQfyuzl3iLj_e35F43ItBqBJKYRzvSPLbJ41.NfO5xBjeMMBzH7qbUQ0W2yS7u5fMpcO9zO8JIJrFlAs&dib_tag=se&keywords=laptop&qid=1737940846&sprefix=lapto%2Caps%2C290&sr=8-13', 'title': 'HP 14 Inch Laptops - School Student Laptop - Microsoft Office 365 - Windows 11 - Quad-core Intel Pentium N5030 - USB C - Fast Charge - Thin & Light - w/HDMI Cable (16GB RAM |512GB PCIE SSD)', 'rating': '4.1', 'img_url': 'https://m.media-amazon.com/images/I/81Iq0UPQ1GL._AC_SX679_.jpg', 'price': ['S$545.07'], 'brand': 'Visit the HP Store', 'category_heirarchy': ['Electronics', 'Computers, Components and Accessories', 'Laptops', 'Traditional Laptops']}\n",
      "13 {'item_url': 'https://www.amazon.sg/Acer-A314-36P-35UU-Display-Processor-Graphics/dp/B0CBSZ9CCT/ref=sr_1_14?crid=2KMSNBK7YLCYZ&dib=eyJ2IjoiMSJ9.9KeC06QXTf6gA6WPf3Pn89mC72efP-jBWymwAj5jZNSYYn1BE1MXq4STa23qe2Mvz0xFlFytFr4MsWhXr-aQQejGkQoqKG7urQ9QBvDlUOHir9WKpMm9XGD1fhZL5ZkR7YPolrhbYNVvUFcw8hw0bplugNWMGJhNEg-p_vWsApFLFKXsYFRkPJpCcflUFf_Ybfm0Jsx1mfHONrPvXlTP6jU2wNcoUipG5lzh9gCES-d0HEao7JAPoKCjSS_ncELgqdBAv92yZ3nPmlkU6apTU_ojblyAMikQk4seChTP0U-r5_6Yjn0nQUfsUcP0fnkQMXJKqr9jsneLanKHfmeGff8cU3KvsrSj8ag2qE8Y9GRdXalONHOfqyW8YJcgKk-vsmuZJI0LBBDGiVXJ3_FmoZ3y8xc_EQfyuzl3iLj_e35F43ItBqBJKYRzvSPLbJ41.NfO5xBjeMMBzH7qbUQ0W2yS7u5fMpcO9zO8JIJrFlAs&dib_tag=se&keywords=laptop&qid=1737940846&sprefix=lapto%2Caps%2C290&sr=8-14', 'title': 'Acer Aspire 3 A314-36P-35UU Slim Laptop | 14.0\" Full HD IPS Display | Intel Core i3-N305 Processor | Intel UHD Graphics | 8GB LPDDR5 | 128GB NVMe SSD | Wi-Fi 6 | Windows 11 Home in S Mode,Silver', 'rating': '4.3', 'img_url': 'https://m.media-amazon.com/images/I/71UFwaLEv-L._AC_SX679_.jpg', 'price': ['S$473.69'], 'brand': 'Visit the Acer Store', 'category_heirarchy': ['Electronics', 'Computers, Components and Accessories', 'Laptops', 'Traditional Laptops']}\n",
      "14 {'item_url': 'https://www.amazon.sg/Dell-Inspiron-3535-Touchsreen-Windows/dp/B0CLDW1PJ2/ref=sr_1_15?crid=2KMSNBK7YLCYZ&dib=eyJ2IjoiMSJ9.9KeC06QXTf6gA6WPf3Pn89mC72efP-jBWymwAj5jZNSYYn1BE1MXq4STa23qe2Mvz0xFlFytFr4MsWhXr-aQQejGkQoqKG7urQ9QBvDlUOHir9WKpMm9XGD1fhZL5ZkR7YPolrhbYNVvUFcw8hw0bplugNWMGJhNEg-p_vWsApFLFKXsYFRkPJpCcflUFf_Ybfm0Jsx1mfHONrPvXlTP6jU2wNcoUipG5lzh9gCES-d0HEao7JAPoKCjSS_ncELgqdBAv92yZ3nPmlkU6apTU_ojblyAMikQk4seChTP0U-r5_6Yjn0nQUfsUcP0fnkQMXJKqr9jsneLanKHfmeGff8cU3KvsrSj8ag2qE8Y9GRdXalONHOfqyW8YJcgKk-vsmuZJI0LBBDGiVXJ3_FmoZ3y8xc_EQfyuzl3iLj_e35F43ItBqBJKYRzvSPLbJ41.NfO5xBjeMMBzH7qbUQ0W2yS7u5fMpcO9zO8JIJrFlAs&dib_tag=se&keywords=laptop&qid=1737940846&sprefix=lapto%2Caps%2C290&sr=8-15', 'title': 'Dell Inspiron 3000 Series 3535 Laptop, 15.6\" FHD Touchsreen, AMD Ryzen 5 7530U, 16GB RAM, 512GB SSD, Webcam, HDMI, Wi-Fi, Windows 11 Home, Black', 'rating': '4.0', 'img_url': 'https://m.media-amazon.com/images/I/71Qw2NGdZXL._AC_SX679_.jpg', 'price': ['S$734.80'], 'brand': 'Visit the Dell Store', 'category_heirarchy': ['Electronics', 'Computers, Components and Accessories', 'Laptops', 'Traditional Laptops']}\n",
      "15 {'item_url': 'https://www.amazon.sg/Gaming-Laptop-Fingerprint-Display-1920x1080/dp/B0BWW7LKNR/ref=sr_1_16?crid=2KMSNBK7YLCYZ&dib=eyJ2IjoiMSJ9.9KeC06QXTf6gA6WPf3Pn89mC72efP-jBWymwAj5jZNSYYn1BE1MXq4STa23qe2Mvz0xFlFytFr4MsWhXr-aQQejGkQoqKG7urQ9QBvDlUOHir9WKpMm9XGD1fhZL5ZkR7YPolrhbYNVvUFcw8hw0bplugNWMGJhNEg-p_vWsApFLFKXsYFRkPJpCcflUFf_Ybfm0Jsx1mfHONrPvXlTP6jU2wNcoUipG5lzh9gCES-d0HEao7JAPoKCjSS_ncELgqdBAv92yZ3nPmlkU6apTU_ojblyAMikQk4seChTP0U-r5_6Yjn0nQUfsUcP0fnkQMXJKqr9jsneLanKHfmeGff8cU3KvsrSj8ag2qE8Y9GRdXalONHOfqyW8YJcgKk-vsmuZJI0LBBDGiVXJ3_FmoZ3y8xc_EQfyuzl3iLj_e35F43ItBqBJKYRzvSPLbJ41.NfO5xBjeMMBzH7qbUQ0W2yS7u5fMpcO9zO8JIJrFlAs&dib_tag=se&keywords=laptop&qid=1737940846&sprefix=lapto%2Caps%2C290&sr=8-16', 'title': 'Gaming Laptop, 12GB RAM 512GB ROM Fingerprint Reader 15.6 Inch Laptop Quad Core CPU IPS Display Rose Gold 1920x1080 for Home (12+512G UK Plug)', 'rating': 'NA', 'img_url': 'https://m.media-amazon.com/images/I/714-M3Y02VL._AC_SX679_.jpg', 'price': ['S$387.72'], 'brand': 'Brand: Soraz', 'category_heirarchy': ['Electronics', 'Computers, Components and Accessories', 'Laptops', 'Traditional Laptops']}\n",
      "16 {'item_url': 'https://www.amazon.sg/HP-Stream-Lightweight-Graphics-Bluetooth/dp/B0D3GT2RLG/ref=sr_1_17?crid=2KMSNBK7YLCYZ&dib=eyJ2IjoiMSJ9.9KeC06QXTf6gA6WPf3Pn89mC72efP-jBWymwAj5jZNSYYn1BE1MXq4STa23qe2Mvz0xFlFytFr4MsWhXr-aQQejGkQoqKG7urQ9QBvDlUOHir9WKpMm9XGD1fhZL5ZkR7YPolrhbYNVvUFcw8hw0bplugNWMGJhNEg-p_vWsApFLFKXsYFRkPJpCcflUFf_Ybfm0Jsx1mfHONrPvXlTP6jU2wNcoUipG5lzh9gCES-d0HEao7JAPoKCjSS_ncELgqdBAv92yZ3nPmlkU6apTU_ojblyAMikQk4seChTP0U-r5_6Yjn0nQUfsUcP0fnkQMXJKqr9jsneLanKHfmeGff8cU3KvsrSj8ag2qE8Y9GRdXalONHOfqyW8YJcgKk-vsmuZJI0LBBDGiVXJ3_FmoZ3y8xc_EQfyuzl3iLj_e35F43ItBqBJKYRzvSPLbJ41.NfO5xBjeMMBzH7qbUQ0W2yS7u5fMpcO9zO8JIJrFlAs&dib_tag=se&keywords=laptop&qid=1737940846&sprefix=lapto%2Caps%2C290&sr=8-17', 'title': 'HP Stream 14\" HD Lightweight Laptop, Intel Celeron N4120, 8GB RAM, 224GB Storage(64GB eMMC + 160GB Docking Station), Intel UHD Graphics, HD Webcam, 1 Year Office 365, WiFi, Bluetooth, Win 11s, White', 'rating': '4.2', 'img_url': 'https://m.media-amazon.com/images/I/81CCUBUmzbL._AC_SX679_.jpg', 'price': ['S$443.23'], 'brand': 'Visit the HP Store', 'category_heirarchy': ['Electronics', 'Computers, Components and Accessories', 'Laptops', 'Traditional Laptops']}\n",
      "17 {'item_url': 'https://www.amazon.sg/Acer-Aspire-Go-15-AG15-31P-C1PX/dp/B0CSX87MZQ/ref=sr_1_18?crid=2KMSNBK7YLCYZ&dib=eyJ2IjoiMSJ9.9KeC06QXTf6gA6WPf3Pn89mC72efP-jBWymwAj5jZNSYYn1BE1MXq4STa23qe2Mvz0xFlFytFr4MsWhXr-aQQejGkQoqKG7urQ9QBvDlUOHir9WKpMm9XGD1fhZL5ZkR7YPolrhbYNVvUFcw8hw0bplugNWMGJhNEg-p_vWsApFLFKXsYFRkPJpCcflUFf_Ybfm0Jsx1mfHONrPvXlTP6jU2wNcoUipG5lzh9gCES-d0HEao7JAPoKCjSS_ncELgqdBAv92yZ3nPmlkU6apTU_ojblyAMikQk4seChTP0U-r5_6Yjn0nQUfsUcP0fnkQMXJKqr9jsneLanKHfmeGff8cU3KvsrSj8ag2qE8Y9GRdXalONHOfqyW8YJcgKk-vsmuZJI0LBBDGiVXJ3_FmoZ3y8xc_EQfyuzl3iLj_e35F43ItBqBJKYRzvSPLbJ41.NfO5xBjeMMBzH7qbUQ0W2yS7u5fMpcO9zO8JIJrFlAs&dib_tag=se&keywords=laptop&qid=1737940846&sprefix=lapto%2Caps%2C290&sr=8-18', 'title': '[New 2024 Model ]Acer Aspire Go 15 AG15-31P-C1PX Laptop 15.6-Inch FHD Display with Preloaded Microsoft Office 365', 'rating': 'NA', 'img_url': 'https://m.media-amazon.com/images/I/51W4fPx57LL._AC_SX679_.jpg', 'price': ['S$419.00 with 6 percent savings', 'List Price: S$448.00'], 'brand': 'Visit the Acer Store', 'category_heirarchy': ['Electronics', 'Computers, Components and Accessories', 'Laptops', 'Traditional Laptops']}\n",
      "18 {'item_url': 'https://www.amazon.sg/ASUS-Business-Student-Microsoft-NumberPad/dp/B0DFCFN97X/ref=sr_1_19?crid=2KMSNBK7YLCYZ&dib=eyJ2IjoiMSJ9.9KeC06QXTf6gA6WPf3Pn89mC72efP-jBWymwAj5jZNSYYn1BE1MXq4STa23qe2Mvz0xFlFytFr4MsWhXr-aQQejGkQoqKG7urQ9QBvDlUOHir9WKpMm9XGD1fhZL5ZkR7YPolrhbYNVvUFcw8hw0bplugNWMGJhNEg-p_vWsApFLFKXsYFRkPJpCcflUFf_Ybfm0Jsx1mfHONrPvXlTP6jU2wNcoUipG5lzh9gCES-d0HEao7JAPoKCjSS_ncELgqdBAv92yZ3nPmlkU6apTU_ojblyAMikQk4seChTP0U-r5_6Yjn0nQUfsUcP0fnkQMXJKqr9jsneLanKHfmeGff8cU3KvsrSj8ag2qE8Y9GRdXalONHOfqyW8YJcgKk-vsmuZJI0LBBDGiVXJ3_FmoZ3y8xc_EQfyuzl3iLj_e35F43ItBqBJKYRzvSPLbJ41.NfO5xBjeMMBzH7qbUQ0W2yS7u5fMpcO9zO8JIJrFlAs&dib_tag=se&keywords=laptop&qid=1737940846&sprefix=lapto%2Caps%2C290&sr=8-19', 'title': 'ASUS 14\" Laptop for Business & Student, 14\" FHD Display, Intel Celeron N4500, 1-Year of Microsoft 365, 4GB Memory, 64GB eMMC, NumberPad, Webcam, Wi-Fi, HDMI, Windows 11', 'rating': 'NA', 'img_url': 'https://m.media-amazon.com/images/I/71C4QI2+sOL._AC_SX679_.jpg', 'price': ['S$260.77'], 'brand': 'Brand: ASUS', 'category_heirarchy': ['Electronics', 'Computers, Components and Accessories', 'Laptops', 'Traditional Laptops']}\n",
      "19 {'item_url': 'https://www.amazon.sg/Dell-3511-Touchscreen-i5-1135G7-i7-1065G7/dp/B0BRT2S3JZ/ref=sr_1_20?crid=2KMSNBK7YLCYZ&dib=eyJ2IjoiMSJ9.9KeC06QXTf6gA6WPf3Pn89mC72efP-jBWymwAj5jZNSYYn1BE1MXq4STa23qe2Mvz0xFlFytFr4MsWhXr-aQQejGkQoqKG7urQ9QBvDlUOHir9WKpMm9XGD1fhZL5ZkR7YPolrhbYNVvUFcw8hw0bplugNWMGJhNEg-p_vWsApFLFKXsYFRkPJpCcflUFf_Ybfm0Jsx1mfHONrPvXlTP6jU2wNcoUipG5lzh9gCES-d0HEao7JAPoKCjSS_ncELgqdBAv92yZ3nPmlkU6apTU_ojblyAMikQk4seChTP0U-r5_6Yjn0nQUfsUcP0fnkQMXJKqr9jsneLanKHfmeGff8cU3KvsrSj8ag2qE8Y9GRdXalONHOfqyW8YJcgKk-vsmuZJI0LBBDGiVXJ3_FmoZ3y8xc_EQfyuzl3iLj_e35F43ItBqBJKYRzvSPLbJ41.NfO5xBjeMMBzH7qbUQ0W2yS7u5fMpcO9zO8JIJrFlAs&dib_tag=se&keywords=laptop&qid=1737940846&sprefix=lapto%2Caps%2C290&sr=8-20', 'title': 'Dell Inspiron 3511 Laptop, 15.6\" Full HD Touchscreen, Intel Core i5-1135G7 (Beats Intel i7-1065G7), 16GB DDR4 RAM, 1TB PCIe SSD, SD Card Reader, HDMI, Wi-Fi, Windows 11 Home, Black', 'rating': '4.0', 'img_url': 'https://m.media-amazon.com/images/I/719yYrijeKL._AC_SX679_.jpg', 'price': ['S$754.61'], 'brand': 'Visit the Dell Store', 'category_heirarchy': ['Electronics', 'Computers, Components and Accessories', 'Laptops', 'Traditional Laptops']}\n",
      "20 {'item_url': 'https://www.amazon.sg/sspa/click?ie=UTF8&spc=MTo4MTgxNzIxMjcwNTA5NDExOjE3Mzc5NDA4NDY6c3BfbXRmOjMwMDA2NDU5ODEzMjc2Mjo6MDo6&url=%2FPredator-Helios-PHN14-51-94FF-Gaming-processor%2Fdp%2FB0DJM6PSTT%2Fref%3Dsr_1_21_sspa%3Fcrid%3D2KMSNBK7YLCYZ%26dib%3DeyJ2IjoiMSJ9.9KeC06QXTf6gA6WPf3Pn89mC72efP-jBWymwAj5jZNSYYn1BE1MXq4STa23qe2Mvz0xFlFytFr4MsWhXr-aQQejGkQoqKG7urQ9QBvDlUOHir9WKpMm9XGD1fhZL5ZkR7YPolrhbYNVvUFcw8hw0bplugNWMGJhNEg-p_vWsApFLFKXsYFRkPJpCcflUFf_Ybfm0Jsx1mfHONrPvXlTP6jU2wNcoUipG5lzh9gCES-d0HEao7JAPoKCjSS_ncELgqdBAv92yZ3nPmlkU6apTUxooUPNsVVVs7Rro7yriSnI.EqF637RZz4jXrUW7i2K6slOSNjwJQCm8vuTbSMMechw%26dib_tag%3Dse%26keywords%3Dlaptop%26qid%3D1737940846%26sprefix%3Dlapto%252Caps%252C290%26sr%3D8-21-spons%26sp_csd%3Dd2lkZ2V0TmFtZT1zcF9tdGY%26psc%3D1', 'title': 'Predator Helios Neo 14| PHN14-51-94FF 14.5\" AI Gaming PC NVIDIA RTX 4060 & Intel core Ultra 9 processor 185H', 'rating': 'NA', 'img_url': 'https://m.media-amazon.com/images/I/519FeMMEDVL._AC_SX679_.jpg', 'price': ['S$1,899.00'], 'brand': 'Visit the acer Store', 'category_heirarchy': ['Electronics', 'Computers, Components and Accessories', 'Laptops', 'Traditional Laptops']}\n",
      "21 {'item_url': 'https://www.amazon.sg/sspa/click?ie=UTF8&spc=MTo4MTgxNzIxMjcwNTA5NDExOjE3Mzc5NDA4NDY6c3BfbXRmOjMwMDA0NTA5NTI5MTc2Mjo6MDo6&url=%2FX1400EA-EB1547W-VivoBook-i5-1135G7-Processor-Laptop%2Fdp%2FB0B7VPVZF9%2Fref%3Dsr_1_22_sspa%3Fcrid%3D2KMSNBK7YLCYZ%26dib%3DeyJ2IjoiMSJ9.9KeC06QXTf6gA6WPf3Pn89mC72efP-jBWymwAj5jZNSYYn1BE1MXq4STa23qe2Mvz0xFlFytFr4MsWhXr-aQQejGkQoqKG7urQ9QBvDlUOHir9WKpMm9XGD1fhZL5ZkR7YPolrhbYNVvUFcw8hw0bplugNWMGJhNEg-p_vWsApFLFKXsYFRkPJpCcflUFf_Ybfm0Jsx1mfHONrPvXlTP6jU2wNcoUipG5lzh9gCES-d0HEao7JAPoKCjSS_ncELgqdBAv92yZ3nPmlkU6apTUxooUPNsVVVs7Rro7yriSnI.EqF637RZz4jXrUW7i2K6slOSNjwJQCm8vuTbSMMechw%26dib_tag%3Dse%26keywords%3Dlaptop%26qid%3D1737940846%26sprefix%3Dlapto%252Caps%252C290%26sr%3D8-22-spons%26sp_csd%3Dd2lkZ2V0TmFtZT1zcF9tdGY%26psc%3D1', 'title': 'Asus X1400EA-EB1547W VivoBook 14 Intel Core i5-1135G7 Processor Laptop', 'rating': 'NA', 'img_url': 'https://m.media-amazon.com/images/I/51Co4VPncML._AC_SX679_.jpg', 'price': ['S$868.00 with 13 percent savings', 'List Price: S$999.00'], 'brand': 'Brand: ASUS', 'category_heirarchy': ['Electronics', 'Computers, Components and Accessories', 'Laptops', 'Traditional Laptops']}\n",
      "22 {'item_url': 'https://www.amazon.sg/sspa/click?ie=UTF8&spc=MTo4MTgxNzIxMjcwNTA5NDExOjE3Mzc5NDA4NDY6c3BfbXRmOjMwMDA0NTA4OTY0MjE2Mjo6MDo6&url=%2FHP-430-Gen-Quad-Core-Conference%2Fdp%2FB07WT3Y2LS%2Fref%3Dsr_1_23_sspa%3Fcrid%3D2KMSNBK7YLCYZ%26dib%3DeyJ2IjoiMSJ9.9KeC06QXTf6gA6WPf3Pn89mC72efP-jBWymwAj5jZNSYYn1BE1MXq4STa23qe2Mvz0xFlFytFr4MsWhXr-aQQejGkQoqKG7urQ9QBvDlUOHir9WKpMm9XGD1fhZL5ZkR7YPolrhbYNVvUFcw8hw0bplugNWMGJhNEg-p_vWsApFLFKXsYFRkPJpCcflUFf_Ybfm0Jsx1mfHONrPvXlTP6jU2wNcoUipG5lzh9gCES-d0HEao7JAPoKCjSS_ncELgqdBAv92yZ3nPmlkU6apTUxooUPNsVVVs7Rro7yriSnI.EqF637RZz4jXrUW7i2K6slOSNjwJQCm8vuTbSMMechw%26dib_tag%3Dse%26keywords%3Dlaptop%26qid%3D1737940846%26sprefix%3Dlapto%252Caps%252C290%26sr%3D8-23-spons%26sp_csd%3Dd2lkZ2V0TmFtZT1zcF9tdGY%26psc%3D1', 'title': 'HP ProBook 430 Gen 8 Business Laptop, 13.3\" FHD Narrow Bezel, Quad-Core i5-1135G7 up to 4.2GHz (Beat i7-1065G7), 8GB DDR4 RAM, 512GB PCIe SSD, AC WiFi, Backlit KB, Windows 10 Pro, Conference Speaker', 'rating': 'NA', 'img_url': 'https://m.media-amazon.com/images/I/61E51IHyIIL._AC_SX679_.jpg', 'price': ['S$657.30'], 'brand': 'Visit the HP Store', 'category_heirarchy': ['Electronics', 'Computers, Components and Accessories', 'Laptops', 'Traditional Laptops']}\n",
      "23 {'item_url': 'https://www.amazon.sg/sspa/click?ie=UTF8&spc=MTo4MTgxNzIxMjcwNTA5NDExOjE3Mzc5NDA4NDY6c3BfbXRmOjMwMDA0NTA5NTI5MzU2Mjo6MDo6&url=%2FASUS-Vivobook-X1504VA-BQ056W-Processor-International%2Fdp%2FB0C5MDVT1H%2Fref%3Dsr_1_24_sspa%3Fcrid%3D2KMSNBK7YLCYZ%26dib%3DeyJ2IjoiMSJ9.9KeC06QXTf6gA6WPf3Pn89mC72efP-jBWymwAj5jZNSYYn1BE1MXq4STa23qe2Mvz0xFlFytFr4MsWhXr-aQQejGkQoqKG7urQ9QBvDlUOHir9WKpMm9XGD1fhZL5ZkR7YPolrhbYNVvUFcw8hw0bplugNWMGJhNEg-p_vWsApFLFKXsYFRkPJpCcflUFf_Ybfm0Jsx1mfHONrPvXlTP6jU2wNcoUipG5lzh9gCES-d0HEao7JAPoKCjSS_ncELgqdBAv92yZ3nPmlkU6apTUxooUPNsVVVs7Rro7yriSnI.EqF637RZz4jXrUW7i2K6slOSNjwJQCm8vuTbSMMechw%26dib_tag%3Dse%26keywords%3Dlaptop%26qid%3D1737940846%26sprefix%3Dlapto%252Caps%252C290%26sr%3D8-24-spons%26sp_csd%3Dd2lkZ2V0TmFtZT1zcF9tdGY%26psc%3D1', 'title': 'ASUS Vivobook 15 X1504VA-BQ056W | Intel Core i7-1355U Processor | 16GB RAM | 512GB SSD | 15.6\" FHD Display | Intel Iris Xe Graphics | Windows 11 Home | 2 Years International Warranty', 'rating': 'NA', 'img_url': 'https://m.media-amazon.com/images/I/61jHP-3L-zL._AC_SX679_.jpg', 'price': ['S$1,399.00'], 'brand': 'Brand: ASUS', 'category_heirarchy': ['Electronics', 'Computers, Components and Accessories', 'Laptops', 'Traditional Laptops']}\n",
      "24 {'item_url': 'https://www.amazon.sg/HP-Business-Laptop-Numeric-Windows/dp/B0D4SBS34V/ref=sr_1_25?crid=2KMSNBK7YLCYZ&dib=eyJ2IjoiMSJ9.9KeC06QXTf6gA6WPf3Pn89mC72efP-jBWymwAj5jZNSYYn1BE1MXq4STa23qe2Mvz0xFlFytFr4MsWhXr-aQQejGkQoqKG7urQ9QBvDlUOHir9WKpMm9XGD1fhZL5ZkR7YPolrhbYNVvUFcw8hw0bplugNWMGJhNEg-p_vWsApFLFKXsYFRkPJpCcflUFf_Ybfm0Jsx1mfHONrPvXlTP6jU2wNcoUipG5lzh9gCES-d0HEao7JAPoKCjSS_ncELgqdBAv92yZ3nPmlkU6apTU_ojblyAMikQk4seChTP0U-r5_6Yjn0nQUfsUcP0fnkQMXJKqr9jsneLanKHfmeGff8cU3KvsrSj8ag2qE8Y9GRdXalONHOfqyW8YJcgKk-vsmuZJI0LBBDGiVXJ3_FmoZ3y8xc_EQfyuzl3iLj_e35F43ItBqBJKYRzvSPLbJ41.NfO5xBjeMMBzH7qbUQ0W2yS7u5fMpcO9zO8JIJrFlAs&dib_tag=se&keywords=laptop&qid=1737940846&sprefix=lapto%2Caps%2C290&sr=8-25', 'title': 'HP 255 G10 15.6\" FHD Business Laptop, AMD Ryzen 7 7730U, 64GB RAM, 2TB PCIe SSD, Numeric Keypad, Webcam, Wi-Fi 6, HDMI, Windows 11 Pro, Black', 'rating': '4.0', 'img_url': 'https://m.media-amazon.com/images/I/71Ixk-aiC+L._AC_SX679_.jpg', 'price': ['S$1,082.62'], 'brand': 'Visit the HP Store', 'category_heirarchy': ['Electronics', 'Computers, Components and Accessories', 'Laptops', 'Traditional Laptops']}\n",
      "25 {'item_url': 'https://www.amazon.sg/HP-Victus-5-7535HS-i7-11800H-Keyboard/dp/B0DCNN32XK/ref=sr_1_26?crid=2KMSNBK7YLCYZ&dib=eyJ2IjoiMSJ9.9KeC06QXTf6gA6WPf3Pn89mC72efP-jBWymwAj5jZNSYYn1BE1MXq4STa23qe2Mvz0xFlFytFr4MsWhXr-aQQejGkQoqKG7urQ9QBvDlUOHir9WKpMm9XGD1fhZL5ZkR7YPolrhbYNVvUFcw8hw0bplugNWMGJhNEg-p_vWsApFLFKXsYFRkPJpCcflUFf_Ybfm0Jsx1mfHONrPvXlTP6jU2wNcoUipG5lzh9gCES-d0HEao7JAPoKCjSS_ncELgqdBAv92yZ3nPmlkU6apTU_ojblyAMikQk4seChTP0U-r5_6Yjn0nQUfsUcP0fnkQMXJKqr9jsneLanKHfmeGff8cU3KvsrSj8ag2qE8Y9GRdXalONHOfqyW8YJcgKk-vsmuZJI0LBBDGiVXJ3_FmoZ3y8xc_EQfyuzl3iLj_e35F43ItBqBJKYRzvSPLbJ41.NfO5xBjeMMBzH7qbUQ0W2yS7u5fMpcO9zO8JIJrFlAs&dib_tag=se&keywords=laptop&qid=1737940846&sprefix=lapto%2Caps%2C290&sr=8-26', 'title': 'HP Victus 15.6\" FHD 144HZ Gaming Laptop | AMD Ryzen 5-7535HS (Beat i7-11800H) | AMD Radeon RX 6550M|Backlit Keyboard| 8GB RAM DDR5 | 512GB SSD | Windows 11 Home | Bundle with USB 3.0 Hub', 'rating': '4.9', 'img_url': 'https://m.media-amazon.com/images/I/7160S1idIuL._AC_SX679_.jpg', 'price': ['S$843.28'], 'brand': 'Visit the HP Store', 'category_heirarchy': ['Electronics', 'Computers, Components and Accessories', 'Laptops', 'Traditional Laptops']}\n",
      "26 {'item_url': 'https://www.amazon.sg/HP-Generation-i3-1215U-Graphics-14-dq5009nr/dp/B0CS3XPZNH/ref=sr_1_27?crid=2KMSNBK7YLCYZ&dib=eyJ2IjoiMSJ9.9KeC06QXTf6gA6WPf3Pn89mC72efP-jBWymwAj5jZNSYYn1BE1MXq4STa23qe2Mvz0xFlFytFr4MsWhXr-aQQejGkQoqKG7urQ9QBvDlUOHir9WKpMm9XGD1fhZL5ZkR7YPolrhbYNVvUFcw8hw0bplugNWMGJhNEg-p_vWsApFLFKXsYFRkPJpCcflUFf_Ybfm0Jsx1mfHONrPvXlTP6jU2wNcoUipG5lzh9gCES-d0HEao7JAPoKCjSS_ncELgqdBAv92yZ3nPmlkU6apTU_ojblyAMikQk4seChTP0U-r5_6Yjn0nQUfsUcP0fnkQMXJKqr9jsneLanKHfmeGff8cU3KvsrSj8ag2qE8Y9GRdXalONHOfqyW8YJcgKk-vsmuZJI0LBBDGiVXJ3_FmoZ3y8xc_EQfyuzl3iLj_e35F43ItBqBJKYRzvSPLbJ41.NfO5xBjeMMBzH7qbUQ0W2yS7u5fMpcO9zO8JIJrFlAs&dib_tag=se&keywords=laptop&qid=1737940846&sprefix=lapto%2Caps%2C290&sr=8-27', 'title': 'HP 14 inch Laptop, HD Display, 12th Generation Intel Core i3-1215U, 8 GB RAM, 256 GB SSD, Intel UHD Graphics, Windows 11 Home in S Mode, 14-dq5009nr (2024)', 'rating': '4.3', 'img_url': 'https://m.media-amazon.com/images/I/81tnwNLrlDL._AC_SX679_.jpg', 'price': ['S$492.40'], 'brand': 'Visit the HP Store', 'category_heirarchy': ['Electronics', 'Computers, Components and Accessories', 'Laptops', 'Traditional Laptops']}\n",
      "27 {'item_url': 'https://www.amazon.sg/Dell-Inspiron-3535-Laptop-15-6-inch/dp/B0B3BPKK5R/ref=sr_1_28?crid=2KMSNBK7YLCYZ&dib=eyJ2IjoiMSJ9.9KeC06QXTf6gA6WPf3Pn89mC72efP-jBWymwAj5jZNSYYn1BE1MXq4STa23qe2Mvz0xFlFytFr4MsWhXr-aQQejGkQoqKG7urQ9QBvDlUOHir9WKpMm9XGD1fhZL5ZkR7YPolrhbYNVvUFcw8hw0bplugNWMGJhNEg-p_vWsApFLFKXsYFRkPJpCcflUFf_Ybfm0Jsx1mfHONrPvXlTP6jU2wNcoUipG5lzh9gCES-d0HEao7JAPoKCjSS_ncELgqdBAv92yZ3nPmlkU6apTU_ojblyAMikQk4seChTP0U-r5_6Yjn0nQUfsUcP0fnkQMXJKqr9jsneLanKHfmeGff8cU3KvsrSj8ag2qE8Y9GRdXalONHOfqyW8YJcgKk-vsmuZJI0LBBDGiVXJ3_FmoZ3y8xc_EQfyuzl3iLj_e35F43ItBqBJKYRzvSPLbJ41.NfO5xBjeMMBzH7qbUQ0W2yS7u5fMpcO9zO8JIJrFlAs&dib_tag=se&keywords=laptop&qid=1737940846&sprefix=lapto%2Caps%2C290&sr=8-28', 'title': 'Dell Inspiron 3535 Laptop - 15.6-inch FHD (1920 x 1080) Display, AMD Ryzen 5 7520U Processor, 8GB DDR4 RAM, 512GB SSD, AMD Radeon Graphics, Windows 11 Home, 6-Months Migrate - Carbon Black', 'rating': '4.1', 'img_url': 'https://m.media-amazon.com/images/I/71Vel20+qUL._AC_SX679_.jpg', 'price': ['S$645.47'], 'brand': 'Visit the Dell Store', 'category_heirarchy': ['Electronics', 'Computers, Components and Accessories', 'Laptops', 'Traditional Laptops']}\n",
      "28 {'item_url': 'https://www.amazon.sg/AG14-31P-C4ZM-Everyday-Preloaded-Microsoft-Personal/dp/B0CW9RY8MX/ref=sr_1_29?crid=2KMSNBK7YLCYZ&dib=eyJ2IjoiMSJ9.9KeC06QXTf6gA6WPf3Pn89mC72efP-jBWymwAj5jZNSYYn1BE1MXq4STa23qe2Mvz0xFlFytFr4MsWhXr-aQQejGkQoqKG7urQ9QBvDlUOHir9WKpMm9XGD1fhZL5ZkR7YPolrhbYNVvUFcw8hw0bplugNWMGJhNEg-p_vWsApFLFKXsYFRkPJpCcflUFf_Ybfm0Jsx1mfHONrPvXlTP6jU2wNcoUipG5lzh9gCES-d0HEao7JAPoKCjSS_ncELgqdBAv92yZ3nPmlkU6apTU_ojblyAMikQk4seChTP0U-r5_6Yjn0nQUfsUcP0fnkQMXJKqr9jsneLanKHfmeGff8cU3KvsrSj8ag2qE8Y9GRdXalONHOfqyW8YJcgKk-vsmuZJI0LBBDGiVXJ3_FmoZ3y8xc_EQfyuzl3iLj_e35F43ItBqBJKYRzvSPLbJ41.NfO5xBjeMMBzH7qbUQ0W2yS7u5fMpcO9zO8JIJrFlAs&dib_tag=se&keywords=laptop&qid=1737940846&sprefix=lapto%2Caps%2C290&sr=8-29', 'title': 'Acer Aspire Go 14 AG14-31P-C4ZM Everyday Laptop 14-Inch WUXGA Display with Preloaded Microsoft Office 365 Personal, New 2024 Model', 'rating': 'NA', 'img_url': 'https://m.media-amazon.com/images/I/51q17K1sf6L._AC_SX679_.jpg', 'price': ['S$428.00'], 'brand': 'Visit the acer Store', 'category_heirarchy': ['Electronics', 'Computers, Components and Accessories', 'Laptops', 'Traditional Laptops']}\n",
      "29 {'item_url': 'https://www.amazon.sg/Lenovo-Ideapad-Pentium-Bundled-Accessories/dp/B0C8ZZJRSL/ref=sr_1_30?crid=2KMSNBK7YLCYZ&dib=eyJ2IjoiMSJ9.9KeC06QXTf6gA6WPf3Pn89mC72efP-jBWymwAj5jZNSYYn1BE1MXq4STa23qe2Mvz0xFlFytFr4MsWhXr-aQQejGkQoqKG7urQ9QBvDlUOHir9WKpMm9XGD1fhZL5ZkR7YPolrhbYNVvUFcw8hw0bplugNWMGJhNEg-p_vWsApFLFKXsYFRkPJpCcflUFf_Ybfm0Jsx1mfHONrPvXlTP6jU2wNcoUipG5lzh9gCES-d0HEao7JAPoKCjSS_ncELgqdBAv92yZ3nPmlkU6apTU_ojblyAMikQk4seChTP0U-r5_6Yjn0nQUfsUcP0fnkQMXJKqr9jsneLanKHfmeGff8cU3KvsrSj8ag2qE8Y9GRdXalONHOfqyW8YJcgKk-vsmuZJI0LBBDGiVXJ3_FmoZ3y8xc_EQfyuzl3iLj_e35F43ItBqBJKYRzvSPLbJ41.NfO5xBjeMMBzH7qbUQ0W2yS7u5fMpcO9zO8JIJrFlAs&dib_tag=se&keywords=laptop&qid=1737940846&sprefix=lapto%2Caps%2C290&sr=8-30', 'title': 'Lenovo Ideapad 14 Laptop, 14\" HD Screen, Intel Pentium Silver N5030, 4GB RAM, 128GB PCIe SSD (NO eMMC), Webcam, HDMI, SD Card Reader, Win 11, Gray, 1 Year Office 365, with Bundled Accessories', 'rating': '3.9', 'img_url': 'https://m.media-amazon.com/images/I/71tsQIptukL._AC_SX679_.jpg', 'price': ['S$308.89'], 'brand': 'Visit the Lenovo Store', 'category_heirarchy': ['Electronics', 'Computers, Components and Accessories', 'Laptops', 'Traditional Laptops']}\n",
      "30 {'item_url': 'https://www.amazon.sg/HP-Dragonfly-WUXGA-Touchscreen-Laptop/dp/B0D3DW4PL6/ref=sr_1_31?crid=2KMSNBK7YLCYZ&dib=eyJ2IjoiMSJ9.9KeC06QXTf6gA6WPf3Pn89mC72efP-jBWymwAj5jZNSYYn1BE1MXq4STa23qe2Mvz0xFlFytFr4MsWhXr-aQQejGkQoqKG7urQ9QBvDlUOHir9WKpMm9XGD1fhZL5ZkR7YPolrhbYNVvUFcw8hw0bplugNWMGJhNEg-p_vWsApFLFKXsYFRkPJpCcflUFf_Ybfm0Jsx1mfHONrPvXlTP6jU2wNcoUipG5lzh9gCES-d0HEao7JAPoKCjSS_ncELgqdBAv92yZ3nPmlkU6apTU_ojblyAMikQk4seChTP0U-r5_6Yjn0nQUfsUcP0fnkQMXJKqr9jsneLanKHfmeGff8cU3KvsrSj8ag2qE8Y9GRdXalONHOfqyW8YJcgKk-vsmuZJI0LBBDGiVXJ3_FmoZ3y8xc_EQfyuzl3iLj_e35F43ItBqBJKYRzvSPLbJ41.NfO5xBjeMMBzH7qbUQ0W2yS7u5fMpcO9zO8JIJrFlAs&dib_tag=se&keywords=laptop&qid=1737940846&sprefix=lapto%2Caps%2C290&sr=8-31', 'title': 'HP Dragonfly G4 13.5\" WUXGA 400 Nits Touchscreen Slim & Light Laptop - Intel Evo Core i7-1355U - Thunderbolt4 – Backlit - Privacy Shutter- 32GB - Win11 Pro W/HDMI (32GB RAM |1TB PCIE SSD)', 'rating': '5.0', 'img_url': 'https://m.media-amazon.com/images/I/61p9PbBHKDL._AC_SX679_.jpg', 'price': ['S$1,803.14'], 'brand': 'Visit the HP Store', 'category_heirarchy': ['Electronics', 'Computers, Components and Accessories', 'Laptops', 'Traditional Laptops']}\n",
      "31 {'item_url': 'https://www.amazon.sg/Lenovo-IdeaPad-Display-Celeron-Graphics/dp/B08YKHYCPW/ref=sr_1_32?crid=2KMSNBK7YLCYZ&dib=eyJ2IjoiMSJ9.9KeC06QXTf6gA6WPf3Pn89mC72efP-jBWymwAj5jZNSYYn1BE1MXq4STa23qe2Mvz0xFlFytFr4MsWhXr-aQQejGkQoqKG7urQ9QBvDlUOHir9WKpMm9XGD1fhZL5ZkR7YPolrhbYNVvUFcw8hw0bplugNWMGJhNEg-p_vWsApFLFKXsYFRkPJpCcflUFf_Ybfm0Jsx1mfHONrPvXlTP6jU2wNcoUipG5lzh9gCES-d0HEao7JAPoKCjSS_ncELgqdBAv92yZ3nPmlkU6apTU_ojblyAMikQk4seChTP0U-r5_6Yjn0nQUfsUcP0fnkQMXJKqr9jsneLanKHfmeGff8cU3KvsrSj8ag2qE8Y9GRdXalONHOfqyW8YJcgKk-vsmuZJI0LBBDGiVXJ3_FmoZ3y8xc_EQfyuzl3iLj_e35F43ItBqBJKYRzvSPLbJ41.NfO5xBjeMMBzH7qbUQ0W2yS7u5fMpcO9zO8JIJrFlAs&dib_tag=se&keywords=laptop&qid=1737940846&sprefix=lapto%2Caps%2C290&sr=8-32', 'title': 'Lenovo IdeaPad 1 14 Laptop, 14.0\" HD Display, Intel Celeron N4020, 4GB RAM, 64GB Storage, Intel UHD Graphics 600, Win 10 in S Mode, Ice Blue', 'rating': '4.1', 'img_url': 'https://m.media-amazon.com/images/I/71IVTMa5JQL._AC_SX679_.jpg', 'price': ['S$277.42'], 'brand': 'Visit the Lenovo Store', 'category_heirarchy': ['Electronics', 'Computers, Components and Accessories', 'Laptops', 'Traditional Laptops']}\n",
      "32 {'item_url': 'https://www.amazon.sg/HP-Students-Business-Storage-Graphics/dp/B0DDXSRM2L/ref=sr_1_33?crid=2KMSNBK7YLCYZ&dib=eyJ2IjoiMSJ9.9KeC06QXTf6gA6WPf3Pn89mC72efP-jBWymwAj5jZNSYYn1BE1MXq4STa23qe2Mvz0xFlFytFr4MsWhXr-aQQejGkQoqKG7urQ9QBvDlUOHir9WKpMm9XGD1fhZL5ZkR7YPolrhbYNVvUFcw8hw0bplugNWMGJhNEg-p_vWsApFLFKXsYFRkPJpCcflUFf_Ybfm0Jsx1mfHONrPvXlTP6jU2wNcoUipG5lzh9gCES-d0HEao7JAPoKCjSS_ncELgqdBAv92yZ3nPmlkU6apTU_ojblyAMikQk4seChTP0U-r5_6Yjn0nQUfsUcP0fnkQMXJKqr9jsneLanKHfmeGff8cU3KvsrSj8ag2qE8Y9GRdXalONHOfqyW8YJcgKk-vsmuZJI0LBBDGiVXJ3_FmoZ3y8xc_EQfyuzl3iLj_e35F43ItBqBJKYRzvSPLbJ41.NfO5xBjeMMBzH7qbUQ0W2yS7u5fMpcO9zO8JIJrFlAs&dib_tag=se&keywords=laptop&qid=1737940846&sprefix=lapto%2Caps%2C290&sr=8-33', 'title': 'HP 2024 Stream 14 inch Laptop for Students and Business, Silver Laptop 16GB RAM + 128GB eMMC Storage, 1-Year Office 365, \\u200eIntel Celeron N4120, Intel UHD Graphics, Win 11 S', 'rating': '3.5', 'img_url': 'https://m.media-amazon.com/images/I/71k3C6g7KpL._AC_SX679_.jpg', 'price': ['S$352.82'], 'brand': 'Visit the HP Store', 'category_heirarchy': ['Electronics', 'Computers, Components and Accessories', 'Laptops', 'Traditional Laptops']}\n",
      "33 {'item_url': 'https://www.amazon.sg/ASUS-Vivobook-Laptop-Computer-i3-1115G4/dp/B0CYFYJKK8/ref=sr_1_34?crid=2KMSNBK7YLCYZ&dib=eyJ2IjoiMSJ9.9KeC06QXTf6gA6WPf3Pn89mC72efP-jBWymwAj5jZNSYYn1BE1MXq4STa23qe2Mvz0xFlFytFr4MsWhXr-aQQejGkQoqKG7urQ9QBvDlUOHir9WKpMm9XGD1fhZL5ZkR7YPolrhbYNVvUFcw8hw0bplugNWMGJhNEg-p_vWsApFLFKXsYFRkPJpCcflUFf_Ybfm0Jsx1mfHONrPvXlTP6jU2wNcoUipG5lzh9gCES-d0HEao7JAPoKCjSS_ncELgqdBAv92yZ3nPmlkU6apTU_ojblyAMikQk4seChTP0U-r5_6Yjn0nQUfsUcP0fnkQMXJKqr9jsneLanKHfmeGff8cU3KvsrSj8ag2qE8Y9GRdXalONHOfqyW8YJcgKk-vsmuZJI0LBBDGiVXJ3_FmoZ3y8xc_EQfyuzl3iLj_e35F43ItBqBJKYRzvSPLbJ41.NfO5xBjeMMBzH7qbUQ0W2yS7u5fMpcO9zO8JIJrFlAs&dib_tag=se&keywords=laptop&qid=1737940846&sprefix=lapto%2Caps%2C290&sr=8-34', 'title': 'ASUS Vivobook 14\" Laptop Computer - 14” HD Laptop,CPU i3-1115G4 Processor, 8GB RAM, 512GB SSD, Intel UHD Graphics 770, Bluetooth, Webcam, Windows 11 Home, with Mouse', 'rating': 'NA', 'img_url': 'https://m.media-amazon.com/images/I/51w5z20L09L._AC_SX679_.jpg', 'price': ['S$312.74'], 'brand': 'Brand: ASUS', 'category_heirarchy': ['Electronics', 'Computers, Components and Accessories', 'Laptops', 'Traditional Laptops']}\n",
      "34 {'item_url': 'https://www.amazon.sg/acer-Chromebook-Touchscreen-Protective-Included/dp/B0D7863ZHF/ref=sr_1_35?crid=2KMSNBK7YLCYZ&dib=eyJ2IjoiMSJ9.9KeC06QXTf6gA6WPf3Pn89mC72efP-jBWymwAj5jZNSYYn1BE1MXq4STa23qe2Mvz0xFlFytFr4MsWhXr-aQQejGkQoqKG7urQ9QBvDlUOHir9WKpMm9XGD1fhZL5ZkR7YPolrhbYNVvUFcw8hw0bplugNWMGJhNEg-p_vWsApFLFKXsYFRkPJpCcflUFf_Ybfm0Jsx1mfHONrPvXlTP6jU2wNcoUipG5lzh9gCES-d0HEao7JAPoKCjSS_ncELgqdBAv92yZ3nPmlkU6apTU_ojblyAMikQk4seChTP0U-r5_6Yjn0nQUfsUcP0fnkQMXJKqr9jsneLanKHfmeGff8cU3KvsrSj8ag2qE8Y9GRdXalONHOfqyW8YJcgKk-vsmuZJI0LBBDGiVXJ3_FmoZ3y8xc_EQfyuzl3iLj_e35F43ItBqBJKYRzvSPLbJ41.NfO5xBjeMMBzH7qbUQ0W2yS7u5fMpcO9zO8JIJrFlAs&dib_tag=se&keywords=laptop&qid=1737940846&sprefix=lapto%2Caps%2C290&sr=8-35', 'title': 'acer Chromebook Plus 14” Touchscreen Laptop –Intel Core i3-N305 8GB LPDDR5 RAM 512GB PCIe Gen 4 Solid State Drive- Protective Sleeve Included', 'rating': '4.7', 'img_url': 'https://m.media-amazon.com/images/I/41EhhYD5xQL._AC_SX679_.jpg', 'price': ['S$495.68'], 'brand': 'Visit the acer Store', 'category_heirarchy': ['Electronics', 'Computers, Components and Accessories', 'Laptops', 'Traditional Laptops']}\n",
      "35 {'item_url': 'https://www.amazon.sg/ASUS-ROG-Strix-Gaming-Laptop/dp/B0CRDCXRK2/ref=sr_1_36?crid=2KMSNBK7YLCYZ&dib=eyJ2IjoiMSJ9.9KeC06QXTf6gA6WPf3Pn89mC72efP-jBWymwAj5jZNSYYn1BE1MXq4STa23qe2Mvz0xFlFytFr4MsWhXr-aQQejGkQoqKG7urQ9QBvDlUOHir9WKpMm9XGD1fhZL5ZkR7YPolrhbYNVvUFcw8hw0bplugNWMGJhNEg-p_vWsApFLFKXsYFRkPJpCcflUFf_Ybfm0Jsx1mfHONrPvXlTP6jU2wNcoUipG5lzh9gCES-d0HEao7JAPoKCjSS_ncELgqdBAv92yZ3nPmlkU6apTU_ojblyAMikQk4seChTP0U-r5_6Yjn0nQUfsUcP0fnkQMXJKqr9jsneLanKHfmeGff8cU3KvsrSj8ag2qE8Y9GRdXalONHOfqyW8YJcgKk-vsmuZJI0LBBDGiVXJ3_FmoZ3y8xc_EQfyuzl3iLj_e35F43ItBqBJKYRzvSPLbJ41.NfO5xBjeMMBzH7qbUQ0W2yS7u5fMpcO9zO8JIJrFlAs&dib_tag=se&keywords=laptop&qid=1737940846&sprefix=lapto%2Caps%2C290&sr=8-36', 'title': 'ASUS ROG Strix G16 (2024) Gaming Laptop, 16” 16:10 FHD 165Hz Display, NVIDIA® GeForce RTX™ 4060, Intel Core i7-13650HX, 16GB DDR5, 1TB PCIe Gen4 SSD, Wi-Fi 6E, Windows 11, G614JV-AS74', 'rating': '4.5', 'img_url': 'https://m.media-amazon.com/images/I/81GrCeuCzxL._AC_SX679_.jpg', 'price': ['S$1,949.00'], 'brand': 'Brand: ASUS', 'category_heirarchy': ['Electronics', 'Computers, Components and Accessories', 'Laptops', 'Traditional Laptops']}\n",
      "36 {'item_url': 'https://www.amazon.sg/Lenovo-IdeaPad-Chromebook-N4500-Graphics/dp/B0D7SK7H8N/ref=sr_1_37?crid=2KMSNBK7YLCYZ&dib=eyJ2IjoiMSJ9.9KeC06QXTf6gA6WPf3Pn89mC72efP-jBWymwAj5jZNSYYn1BE1MXq4STa23qe2Mvz0xFlFytFr4MsWhXr-aQQejGkQoqKG7urQ9QBvDlUOHir9WKpMm9XGD1fhZL5ZkR7YPolrhbYNVvUFcw8hw0bplugNWMGJhNEg-p_vWsApFLFKXsYFRkPJpCcflUFf_Ybfm0Jsx1mfHONrPvXlTP6jU2wNcoUipG5lzh9gCES-d0HEao7JAPoKCjSS_ncELgqdBAv92yZ3nPmlkU6apTU_ojblyAMikQk4seChTP0U-r5_6Yjn0nQUfsUcP0fnkQMXJKqr9jsneLanKHfmeGff8cU3KvsrSj8ag2qE8Y9GRdXalONHOfqyW8YJcgKk-vsmuZJI0LBBDGiVXJ3_FmoZ3y8xc_EQfyuzl3iLj_e35F43ItBqBJKYRzvSPLbJ41.NfO5xBjeMMBzH7qbUQ0W2yS7u5fMpcO9zO8JIJrFlAs&dib_tag=se&keywords=laptop&qid=1737940846&sprefix=lapto%2Caps%2C290&sr=8-37', 'title': 'Lenovo IdeaPad 3 15.6\" FHD Chromebook Laptop, Intel Celeron N4500, Intel UHD Graphics, 4GB RAM, 64GB SSD, USB-A&C, HDMI, WiFi, Chrome OS', 'rating': '5.0', 'img_url': 'https://m.media-amazon.com/images/I/613oHtHur-L._AC_SX679_.jpg', 'price': ['S$304.30'], 'brand': 'Visit the Lenovo Store', 'category_heirarchy': ['Electronics', 'Computers, Components and Accessories', 'Laptops', 'Traditional Laptops']}\n",
      "37 {'item_url': 'https://www.amazon.sg/Acer-A314-23P-R3QA-Quad-Core-Processor-Graphics/dp/B0BSLVF5F5/ref=sr_1_38?crid=2KMSNBK7YLCYZ&dib=eyJ2IjoiMSJ9.9KeC06QXTf6gA6WPf3Pn89mC72efP-jBWymwAj5jZNSYYn1BE1MXq4STa23qe2Mvz0xFlFytFr4MsWhXr-aQQejGkQoqKG7urQ9QBvDlUOHir9WKpMm9XGD1fhZL5ZkR7YPolrhbYNVvUFcw8hw0bplugNWMGJhNEg-p_vWsApFLFKXsYFRkPJpCcflUFf_Ybfm0Jsx1mfHONrPvXlTP6jU2wNcoUipG5lzh9gCES-d0HEao7JAPoKCjSS_ncELgqdBAv92yZ3nPmlkU6apTU_ojblyAMikQk4seChTP0U-r5_6Yjn0nQUfsUcP0fnkQMXJKqr9jsneLanKHfmeGff8cU3KvsrSj8ag2qE8Y9GRdXalONHOfqyW8YJcgKk-vsmuZJI0LBBDGiVXJ3_FmoZ3y8xc_EQfyuzl3iLj_e35F43ItBqBJKYRzvSPLbJ41.NfO5xBjeMMBzH7qbUQ0W2yS7u5fMpcO9zO8JIJrFlAs&dib_tag=se&keywords=laptop&qid=1737940846&sprefix=lapto%2Caps%2C290&sr=8-38', 'title': 'Acer Aspire 3 A314-23P-R3QA Slim Laptop | 14.0\" Full HD IPS Display | AMD Ryzen 5 7520U Quad-Core Processor | AMD Radeon Graphics | 8GB LPDDR5 | 512GB NVMe SSD | Wi-Fi 6 | Windows 11 Home', 'rating': '4.2', 'img_url': 'https://m.media-amazon.com/images/I/718zEa-9sWL._AC_SX679_.jpg', 'price': ['S$677.75'], 'brand': 'Visit the acer Store', 'category_heirarchy': ['Electronics', 'Computers, Components and Accessories', 'Laptops', 'Traditional Laptops']}\n",
      "38 {'item_url': 'https://www.amazon.sg/HP-Stream-Celeron-Graphics-Bluetooth/dp/B0DFW5R539/ref=sr_1_39?crid=2KMSNBK7YLCYZ&dib=eyJ2IjoiMSJ9.9KeC06QXTf6gA6WPf3Pn89mC72efP-jBWymwAj5jZNSYYn1BE1MXq4STa23qe2Mvz0xFlFytFr4MsWhXr-aQQejGkQoqKG7urQ9QBvDlUOHir9WKpMm9XGD1fhZL5ZkR7YPolrhbYNVvUFcw8hw0bplugNWMGJhNEg-p_vWsApFLFKXsYFRkPJpCcflUFf_Ybfm0Jsx1mfHONrPvXlTP6jU2wNcoUipG5lzh9gCES-d0HEao7JAPoKCjSS_ncELgqdBAv92yZ3nPmlkU6apTU_ojblyAMikQk4seChTP0U-r5_6Yjn0nQUfsUcP0fnkQMXJKqr9jsneLanKHfmeGff8cU3KvsrSj8ag2qE8Y9GRdXalONHOfqyW8YJcgKk-vsmuZJI0LBBDGiVXJ3_FmoZ3y8xc_EQfyuzl3iLj_e35F43ItBqBJKYRzvSPLbJ41.NfO5xBjeMMBzH7qbUQ0W2yS7u5fMpcO9zO8JIJrFlAs&dib_tag=se&keywords=laptop&qid=1737940846&sprefix=lapto%2Caps%2C290&sr=8-39', 'title': 'HP Stream 14\" HD Laptop, Intel Celeron N4120, 16GB RAM, 288GB Storage (128GB eMMC + 160GB SSD Docking Station Set), Intel UHD Graphics, HD Webcam, WiFi, Bluetooth, 1 Year Office 365, Win 11 S, Gold', 'rating': '3.8', 'img_url': 'https://m.media-amazon.com/images/I/81aGbkZ-HML._AC_SX679_.jpg', 'price': ['S$651.30'], 'brand': 'Visit the HP Store', 'category_heirarchy': ['Electronics', 'Computers, Components and Accessories', 'Laptops', 'Traditional Laptops']}\n",
      "39 {'item_url': 'https://www.amazon.sg/HP-17-3-inch-Display-i3-1115G4-Bluetooth/dp/B09HK6QPHG/ref=sr_1_40?crid=2KMSNBK7YLCYZ&dib=eyJ2IjoiMSJ9.9KeC06QXTf6gA6WPf3Pn89mC72efP-jBWymwAj5jZNSYYn1BE1MXq4STa23qe2Mvz0xFlFytFr4MsWhXr-aQQejGkQoqKG7urQ9QBvDlUOHir9WKpMm9XGD1fhZL5ZkR7YPolrhbYNVvUFcw8hw0bplugNWMGJhNEg-p_vWsApFLFKXsYFRkPJpCcflUFf_Ybfm0Jsx1mfHONrPvXlTP6jU2wNcoUipG5lzh9gCES-d0HEao7JAPoKCjSS_ncELgqdBAv92yZ3nPmlkU6apTU_ojblyAMikQk4seChTP0U-r5_6Yjn0nQUfsUcP0fnkQMXJKqr9jsneLanKHfmeGff8cU3KvsrSj8ag2qE8Y9GRdXalONHOfqyW8YJcgKk-vsmuZJI0LBBDGiVXJ3_FmoZ3y8xc_EQfyuzl3iLj_e35F43ItBqBJKYRzvSPLbJ41.NfO5xBjeMMBzH7qbUQ0W2yS7u5fMpcO9zO8JIJrFlAs&dib_tag=se&keywords=laptop&qid=1737940846&sprefix=lapto%2Caps%2C290&sr=8-40', 'title': 'HP 17 Laptop PC, 17.3-inch HD+ Display, 11th Gen Intel Core i3-1115G4 up to 4.1 GHz, 16GB RAM, 256GB PCIe SSD, Webcam, Numeric Keypad, WiFi, Bluetooth, HDMI, USB-C, Windows 10, Silver, ABYS Mouse Pad', 'rating': 'NA', 'img_url': 'https://m.media-amazon.com/images/I/81AUFXyE17S._AC_SX679_.jpg', 'price': ['S$670.42'], 'brand': 'Visit the HP Store', 'category_heirarchy': ['Electronics', 'Computers, Components and Accessories', 'Laptops', 'Traditional Laptops']}\n",
      "40 {'item_url': 'https://www.amazon.sg/HP-Portable-Microsoft-Quad-Core-Processor/dp/B0CPGKT77T/ref=sr_1_41?crid=2KMSNBK7YLCYZ&dib=eyJ2IjoiMSJ9.9KeC06QXTf6gA6WPf3Pn89mC72efP-jBWymwAj5jZNSYYn1BE1MXq4STa23qe2Mvz0xFlFytFr4MsWhXr-aQQejGkQoqKG7urQ9QBvDlUOHir9WKpMm9XGD1fhZL5ZkR7YPolrhbYNVvUFcw8hw0bplugNWMGJhNEg-p_vWsApFLFKXsYFRkPJpCcflUFf_Ybfm0Jsx1mfHONrPvXlTP6jU2wNcoUipG5lzh9gCES-d0HEao7JAPoKCjSS_ncELgqdBAv92yZ3nPmlkU6apTU_ojblyAMikQk4seChTP0U-r5_6Yjn0nQUfsUcP0fnkQMXJKqr9jsneLanKHfmeGff8cU3KvsrSj8ag2qE8Y9GRdXalONHOfqyW8YJcgKk-vsmuZJI0LBBDGiVXJ3_FmoZ3y8xc_EQfyuzl3iLj_e35F43ItBqBJKYRzvSPLbJ41.NfO5xBjeMMBzH7qbUQ0W2yS7u5fMpcO9zO8JIJrFlAs&dib_tag=se&keywords=laptop&qid=1737940846&sprefix=lapto%2Caps%2C290&sr=8-41', 'title': 'HP 15.6\" Portable Laptop (Include 1 Year Microsoft 365), HD Display, Intel Quad-Core N200 Processor, 16GB RAM, 128GB Storage, Wi-Fi 5, Webcam, HDMI, Numeric Keypad, Windows 11 Home, Red', 'rating': '4.2', 'img_url': 'https://m.media-amazon.com/images/I/71pTP-ll4sL._AC_SX679_.jpg', 'price': ['S$509.63'], 'brand': 'Visit the HP Store', 'category_heirarchy': ['Electronics', 'Computers, Components and Accessories', 'Laptops', 'Traditional Laptops']}\n",
      "41 {'item_url': 'https://www.amazon.sg/acer-Display-AMD-7-5700U-Windows/dp/B0DPW3CJJ6/ref=sr_1_42?crid=2KMSNBK7YLCYZ&dib=eyJ2IjoiMSJ9.9KeC06QXTf6gA6WPf3Pn89mC72efP-jBWymwAj5jZNSYYn1BE1MXq4STa23qe2Mvz0xFlFytFr4MsWhXr-aQQejGkQoqKG7urQ9QBvDlUOHir9WKpMm9XGD1fhZL5ZkR7YPolrhbYNVvUFcw8hw0bplugNWMGJhNEg-p_vWsApFLFKXsYFRkPJpCcflUFf_Ybfm0Jsx1mfHONrPvXlTP6jU2wNcoUipG5lzh9gCES-d0HEao7JAPoKCjSS_ncELgqdBAv92yZ3nPmlkU6apTU_ojblyAMikQk4seChTP0U-r5_6Yjn0nQUfsUcP0fnkQMXJKqr9jsneLanKHfmeGff8cU3KvsrSj8ag2qE8Y9GRdXalONHOfqyW8YJcgKk-vsmuZJI0LBBDGiVXJ3_FmoZ3y8xc_EQfyuzl3iLj_e35F43ItBqBJKYRzvSPLbJ41.NfO5xBjeMMBzH7qbUQ0W2yS7u5fMpcO9zO8JIJrFlAs&dib_tag=se&keywords=laptop&qid=1737940846&sprefix=lapto%2Caps%2C290&sr=8-42', 'title': 'acer Aspire 3 Laptop, 15.6\" Full HD IPS 1080P Display, AMD Ryzen 7-5700U, 8 Cores, 16GB RAM, 512GB PCIE SSD, Wi-Fi 6, Webcam, Windows 11 Home, Silver, TWE Mouse Pad and Mouse', 'rating': 'NA', 'img_url': 'https://m.media-amazon.com/images/I/71+Yz6eMU8L._AC_SX679_.jpg', 'price': ['S$603.41'], 'brand': 'Visit the acer Store', 'category_heirarchy': ['Electronics', 'Computers, Components and Accessories', 'Laptops', 'Traditional Laptops']}\n",
      "42 {'item_url': 'https://www.amazon.sg/HP-i5-12450H-GeForce-Keyboard-Performance/dp/B0DJ3K8H9C/ref=sr_1_43?crid=2KMSNBK7YLCYZ&dib=eyJ2IjoiMSJ9.9KeC06QXTf6gA6WPf3Pn89mC72efP-jBWymwAj5jZNSYYn1BE1MXq4STa23qe2Mvz0xFlFytFr4MsWhXr-aQQejGkQoqKG7urQ9QBvDlUOHir9WKpMm9XGD1fhZL5ZkR7YPolrhbYNVvUFcw8hw0bplugNWMGJhNEg-p_vWsApFLFKXsYFRkPJpCcflUFf_Ybfm0Jsx1mfHONrPvXlTP6jU2wNcoUipG5lzh9gCES-d0HEao7JAPoKCjSS_ncELgqdBAv92yZ3nPmlkU6apTU_ojblyAMikQk4seChTP0U-r5_6Yjn0nQUfsUcP0fnkQMXJKqr9jsneLanKHfmeGff8cU3KvsrSj8ag2qE8Y9GRdXalONHOfqyW8YJcgKk-vsmuZJI0LBBDGiVXJ3_FmoZ3y8xc_EQfyuzl3iLj_e35F43ItBqBJKYRzvSPLbJ41.NfO5xBjeMMBzH7qbUQ0W2yS7u5fMpcO9zO8JIJrFlAs&dib_tag=se&keywords=laptop&qid=1737940846&sprefix=lapto%2Caps%2C290&sr=8-43', 'title': 'HP Victus 15.6\" Full HD 144Hz Gaming Laptop, Intel Core i5-12450H, NVIDIA GeForce RTX 3050,64GB RAM, 1TB PCIe SSD, Backlit Keyboard, Wi-Fi 6, Windows 11 Pro, Performance Blue', 'rating': '4.4', 'img_url': 'https://m.media-amazon.com/images/I/71cZs6fmSfL._AC_SX679_.jpg', 'price': ['S$1,240.55'], 'brand': 'Visit the HP Store', 'category_heirarchy': ['Electronics', 'Computers, Components and Accessories', 'Laptops', 'Traditional Laptops']}\n",
      "43 {'item_url': 'https://www.amazon.sg/Samsung-Chromebook-Laptop-Camera-Chrome/dp/B07J215RPT/ref=sr_1_44?crid=2KMSNBK7YLCYZ&dib=eyJ2IjoiMSJ9.9KeC06QXTf6gA6WPf3Pn89mC72efP-jBWymwAj5jZNSYYn1BE1MXq4STa23qe2Mvz0xFlFytFr4MsWhXr-aQQejGkQoqKG7urQ9QBvDlUOHir9WKpMm9XGD1fhZL5ZkR7YPolrhbYNVvUFcw8hw0bplugNWMGJhNEg-p_vWsApFLFKXsYFRkPJpCcflUFf_Ybfm0Jsx1mfHONrPvXlTP6jU2wNcoUipG5lzh9gCES-d0HEao7JAPoKCjSS_ncELgqdBAv92yZ3nPmlkU6apTU_ojblyAMikQk4seChTP0U-r5_6Yjn0nQUfsUcP0fnkQMXJKqr9jsneLanKHfmeGff8cU3KvsrSj8ag2qE8Y9GRdXalONHOfqyW8YJcgKk-vsmuZJI0LBBDGiVXJ3_FmoZ3y8xc_EQfyuzl3iLj_e35F43ItBqBJKYRzvSPLbJ41.NfO5xBjeMMBzH7qbUQ0W2yS7u5fMpcO9zO8JIJrFlAs&dib_tag=se&keywords=laptop&qid=1737940846&sprefix=lapto%2Caps%2C290&sr=8-44', 'title': 'Samsung Chromebook Plus V2 2-in-1 Laptop- 4GB RAM, 64GB eMMC, 13MP Camera, Chrome OS, 12.2\", 16:10 Aspect Ratio- XE520QAB-K03US Light Titan', 'rating': '4.4', 'img_url': 'https://m.media-amazon.com/images/I/81mX-4s+guL._AC_SX679_.jpg', 'price': ['S$386.03'], 'brand': 'Visit the SAMSUNG Store', 'category_heirarchy': ['Electronics', 'Computers, Components and Accessories', 'Laptops', '2-in-1 Laptops']}\n",
      "44 {'item_url': 'https://www.amazon.sg/15-6-inch-Chromebook-Laptop-Student-Business/dp/B0C13LX4GM/ref=sr_1_45?crid=2KMSNBK7YLCYZ&dib=eyJ2IjoiMSJ9.9KeC06QXTf6gA6WPf3Pn89mC72efP-jBWymwAj5jZNSYYn1BE1MXq4STa23qe2Mvz0xFlFytFr4MsWhXr-aQQejGkQoqKG7urQ9QBvDlUOHir9WKpMm9XGD1fhZL5ZkR7YPolrhbYNVvUFcw8hw0bplugNWMGJhNEg-p_vWsApFLFKXsYFRkPJpCcflUFf_Ybfm0Jsx1mfHONrPvXlTP6jU2wNcoUipG5lzh9gCES-d0HEao7JAPoKCjSS_ncELgqdBAv92yZ3nPmlkU6apTU_ojblyAMikQk4seChTP0U-r5_6Yjn0nQUfsUcP0fnkQMXJKqr9jsneLanKHfmeGff8cU3KvsrSj8ag2qE8Y9GRdXalONHOfqyW8YJcgKk-vsmuZJI0LBBDGiVXJ3_FmoZ3y8xc_EQfyuzl3iLj_e35F43ItBqBJKYRzvSPLbJ41.NfO5xBjeMMBzH7qbUQ0W2yS7u5fMpcO9zO8JIJrFlAs&dib_tag=se&keywords=laptop&qid=1737940846&sprefix=lapto%2Caps%2C290&sr=8-45', 'title': 'acer 15.6-inch Chromebook Laptop for Student and Business - HD Display, Intel Celeron N4020 Dual-Core Processor (up to 2.8GHz), 4GB DDR4 RAM, 64GB eMMC, Webcam, WiFi, 12 Hrs Battery Life, Chrome OS', 'rating': '4.1', 'img_url': 'https://m.media-amazon.com/images/I/715N-IzUXEL._AC_SX679_.jpg', 'price': ['S$294.57'], 'brand': 'Brand: ACER', 'category_heirarchy': ['Electronics', 'Computers, Components and Accessories', 'Laptops', 'Traditional Laptops']}\n",
      "45 {'item_url': 'https://www.amazon.sg/HP-14-Laptop-Quad-Core-HubxcelAccessory/dp/B0CSC15TVC/ref=sr_1_46?crid=2KMSNBK7YLCYZ&dib=eyJ2IjoiMSJ9.9KeC06QXTf6gA6WPf3Pn89mC72efP-jBWymwAj5jZNSYYn1BE1MXq4STa23qe2Mvz0xFlFytFr4MsWhXr-aQQejGkQoqKG7urQ9QBvDlUOHir9WKpMm9XGD1fhZL5ZkR7YPolrhbYNVvUFcw8hw0bplugNWMGJhNEg-p_vWsApFLFKXsYFRkPJpCcflUFf_Ybfm0Jsx1mfHONrPvXlTP6jU2wNcoUipG5lzh9gCES-d0HEao7JAPoKCjSS_ncELgqdBAv92yZ3nPmlkU6apTU_ojblyAMikQk4seChTP0U-r5_6Yjn0nQUfsUcP0fnkQMXJKqr9jsneLanKHfmeGff8cU3KvsrSj8ag2qE8Y9GRdXalONHOfqyW8YJcgKk-vsmuZJI0LBBDGiVXJ3_FmoZ3y8xc_EQfyuzl3iLj_e35F43ItBqBJKYRzvSPLbJ41.NfO5xBjeMMBzH7qbUQ0W2yS7u5fMpcO9zO8JIJrFlAs&dib_tag=se&keywords=laptop&qid=1737940846&sprefix=lapto%2Caps%2C290&sr=8-46', 'title': 'HP New 14\" HD Ultra Light Thin Laptop, Quad-Core Intel Celeron Processor, 8GB RAM, 192GB (64GB eMMC+ 128GB Card), Wi-Fi, Upto 11 Hours, Windows 11 S + 1 Year Office 365+HubxcelAccessory, Black', 'rating': '4.2', 'img_url': 'https://m.media-amazon.com/images/I/713LTrMD8HL._AC_SX679_.jpg', 'price': ['S$471.97'], 'brand': 'Visit the HP Store', 'category_heirarchy': ['Electronics', 'Computers, Components and Accessories', 'Laptops', 'Traditional Laptops']}\n",
      "46 {'item_url': 'https://www.amazon.sg/ASUS-Laptop-Celeron-Graphics-E410KA-CL464/dp/B0D8HZZM31/ref=sr_1_47?crid=2KMSNBK7YLCYZ&dib=eyJ2IjoiMSJ9.9KeC06QXTf6gA6WPf3Pn89mC72efP-jBWymwAj5jZNSYYn1BE1MXq4STa23qe2Mvz0xFlFytFr4MsWhXr-aQQejGkQoqKG7urQ9QBvDlUOHir9WKpMm9XGD1fhZL5ZkR7YPolrhbYNVvUFcw8hw0bplugNWMGJhNEg-p_vWsApFLFKXsYFRkPJpCcflUFf_Ybfm0Jsx1mfHONrPvXlTP6jU2wNcoUipG5lzh9gCES-d0HEao7JAPoKCjSS_ncELgqdBAv92yZ3nPmlkU6apTU_ojblyAMikQk4seChTP0U-r5_6Yjn0nQUfsUcP0fnkQMXJKqr9jsneLanKHfmeGff8cU3KvsrSj8ag2qE8Y9GRdXalONHOfqyW8YJcgKk-vsmuZJI0LBBDGiVXJ3_FmoZ3y8xc_EQfyuzl3iLj_e35F43ItBqBJKYRzvSPLbJ41.NfO5xBjeMMBzH7qbUQ0W2yS7u5fMpcO9zO8JIJrFlAs&dib_tag=se&keywords=laptop&qid=1737940846&sprefix=lapto%2Caps%2C290&sr=8-47', 'title': 'ASUS 14\" FHD Laptop, Intel Celeron N4500, 4GB Memory on Board, 64GB eMMC, Intel Iris Xe Graphics, Media Card Reader, Quiet Blue, E410KA-CL464', 'rating': '4.1', 'img_url': 'https://m.media-amazon.com/images/I/41KHa5Y5MBL._AC_SX679_.jpg', 'price': ['S$287.36'], 'brand': 'Brand: ASUS', 'category_heirarchy': ['Electronics', 'Computers, Components and Accessories', 'Laptops', 'Traditional Laptops']}\n",
      "47 {'item_url': 'https://www.amazon.sg/ASUS-Vivobook-Graphics-Windows-L210KA-ES04/dp/B0CRDDWTX3/ref=sr_1_48?crid=2KMSNBK7YLCYZ&dib=eyJ2IjoiMSJ9.9KeC06QXTf6gA6WPf3Pn89mC72efP-jBWymwAj5jZNSYYn1BE1MXq4STa23qe2Mvz0xFlFytFr4MsWhXr-aQQejGkQoqKG7urQ9QBvDlUOHir9WKpMm9XGD1fhZL5ZkR7YPolrhbYNVvUFcw8hw0bplugNWMGJhNEg-p_vWsApFLFKXsYFRkPJpCcflUFf_Ybfm0Jsx1mfHONrPvXlTP6jU2wNcoUipG5lzh9gCES-d0HEao7JAPoKCjSS_ncELgqdBAv92yZ3nPmlkU6apTU_ojblyAMikQk4seChTP0U-r5_6Yjn0nQUfsUcP0fnkQMXJKqr9jsneLanKHfmeGff8cU3KvsrSj8ag2qE8Y9GRdXalONHOfqyW8YJcgKk-vsmuZJI0LBBDGiVXJ3_FmoZ3y8xc_EQfyuzl3iLj_e35F43ItBqBJKYRzvSPLbJ41.NfO5xBjeMMBzH7qbUQ0W2yS7u5fMpcO9zO8JIJrFlAs&dib_tag=se&keywords=laptop&qid=1737940846&sprefix=lapto%2Caps%2C290&sr=8-48', 'title': 'ASUS 2024 Vivobook Go 11.6” HD Laptop, Intel Dual Core N4500, Intel Graphics, 4GB, 128GB, Windows 11 Home in S Mode, Star Black, L210KA-ES04', 'rating': '4.0', 'img_url': 'https://m.media-amazon.com/images/I/51xxONbwsvL._AC_SX679_.jpg', 'price': ['S$346.94'], 'brand': 'Brand: ASUS', 'category_heirarchy': ['Electronics', 'Computers, Components and Accessories', 'Laptops', 'Traditional Laptops']}\n",
      "48 {'item_url': 'https://www.amazon.sg/Lenovo-Touchscreen-i3-1115G4-Processor-Bluetooth/dp/B09V273F3C/ref=sr_1_49?crid=2KMSNBK7YLCYZ&dib=eyJ2IjoiMSJ9.9KeC06QXTf6gA6WPf3Pn89mC72efP-jBWymwAj5jZNSYYn1BE1MXq4STa23qe2Mvz0xFlFytFr4MsWhXr-aQQejGkQoqKG7urQ9QBvDlUOHir9WKpMm9XGD1fhZL5ZkR7YPolrhbYNVvUFcw8hw0bplugNWMGJhNEg-p_vWsApFLFKXsYFRkPJpCcflUFf_Ybfm0Jsx1mfHONrPvXlTP6jU2wNcoUipG5lzh9gCES-d0HEao7JAPoKCjSS_ncELgqdBAv92yZ3nPmlkU6apTU_ojblyAMikQk4seChTP0U-r5_6Yjn0nQUfsUcP0fnkQMXJKqr9jsneLanKHfmeGff8cU3KvsrSj8ag2qE8Y9GRdXalONHOfqyW8YJcgKk-vsmuZJI0LBBDGiVXJ3_FmoZ3y8xc_EQfyuzl3iLj_e35F43ItBqBJKYRzvSPLbJ41.NfO5xBjeMMBzH7qbUQ0W2yS7u5fMpcO9zO8JIJrFlAs&dib_tag=se&keywords=laptop&qid=1737940846&sprefix=lapto%2Caps%2C290&sr=8-49', 'title': 'Lenovo 2022 Ideapad 3 Laptop, 15.6\" HD Touchscreen, 11th Gen Intel Core i3-1115G4 Processor, 8GB DDR4 RAM, 256GB PCIe NVMe SSD, HDMI, Webcam, Wi-Fi 5, Bluetooth, Windows 11 Home, Platinum Grey', 'rating': '4.4', 'img_url': 'https://m.media-amazon.com/images/I/81M05PyYgYL._AC_SX679_.jpg', 'price': ['S$499.60'], 'brand': 'Visit the Lenovo Store', 'category_heirarchy': ['Electronics', 'Computers, Components and Accessories', 'Laptops', 'Traditional Laptops']}\n",
      "49 {'item_url': 'https://www.amazon.sg/HP-Student-Business-Quad-Core-Processor/dp/B0CRYXZZ2K/ref=sr_1_50?crid=2KMSNBK7YLCYZ&dib=eyJ2IjoiMSJ9.9KeC06QXTf6gA6WPf3Pn89mC72efP-jBWymwAj5jZNSYYn1BE1MXq4STa23qe2Mvz0xFlFytFr4MsWhXr-aQQejGkQoqKG7urQ9QBvDlUOHir9WKpMm9XGD1fhZL5ZkR7YPolrhbYNVvUFcw8hw0bplugNWMGJhNEg-p_vWsApFLFKXsYFRkPJpCcflUFf_Ybfm0Jsx1mfHONrPvXlTP6jU2wNcoUipG5lzh9gCES-d0HEao7JAPoKCjSS_ncELgqdBAv92yZ3nPmlkU6apTU_ojblyAMikQk4seChTP0U-r5_6Yjn0nQUfsUcP0fnkQMXJKqr9jsneLanKHfmeGff8cU3KvsrSj8ag2qE8Y9GRdXalONHOfqyW8YJcgKk-vsmuZJI0LBBDGiVXJ3_FmoZ3y8xc_EQfyuzl3iLj_e35F43ItBqBJKYRzvSPLbJ41.NfO5xBjeMMBzH7qbUQ0W2yS7u5fMpcO9zO8JIJrFlAs&dib_tag=se&keywords=laptop&qid=1737940846&sprefix=lapto%2Caps%2C290&sr=8-50', 'title': 'HP 14 inch Laptop for Student and Business, Intel Quad-Core Processor, 16GB RAM, 320GB Storage (64GB eMMC + 256GB Card), 1-Year Office 365, Windows 11 Pro, Silver', 'rating': '4.1', 'img_url': 'https://m.media-amazon.com/images/I/71yct6WA38L._AC_SX679_.jpg', 'price': ['S$362.75'], 'brand': 'Visit the HP Store', 'category_heirarchy': ['Electronics', 'Computers, Components and Accessories', 'Laptops', 'Traditional Laptops']}\n",
      "50 {'item_url': 'https://www.amazon.sg/Dell-3520-Business-Computer-Bluetooth/dp/B0CV5VH4MR/ref=sr_1_51?crid=2KMSNBK7YLCYZ&dib=eyJ2IjoiMSJ9.9KeC06QXTf6gA6WPf3Pn89mC72efP-jBWymwAj5jZNSYYn1BE1MXq4STa23qe2Mvz0xFlFytFr4MsWhXr-aQQejGkQoqKG7urQ9QBvDlUOHir9WKpMm9XGD1fhZL5ZkR7YPolrhbYNVvUFcw8hw0bplugNWMGJhNEg-p_vWsApFLFKXsYFRkPJpCcflUFf_Ybfm0Jsx1mfHONrPvXlTP6jU2wNcoUipG5lzh9gCES-d0HEao7JAPoKCjSS_ncELgqdBAv92yZ3nPmlkU6apTU_ojblyAMikQk4seChTP0U-r5_6Yjn0nQUfsUcP0fnkQMXJKqr9jsneLanKHfmeGff8cU3KvsrSj8ag2qE8Y9GRdXalONHOfqyW8YJcgKk-vsmuZJI0LBBDGiVXJ3_FmoZ3y8xc_EQfyuzl3iLj_e35F43ItBqBJKYRzvSPLbJ41.NfO5xBjeMMBzH7qbUQ0W2yS7u5fMpcO9zO8JIJrFlAs&dib_tag=se&keywords=laptop&qid=1737940846&sprefix=lapto%2Caps%2C290&sr=8-51', 'title': 'Dell Vostro 3000 Series 3520 15.6\" FHD Business Laptop Computer, 12th Gen Intel 10-Cores i7-1255U, 64GB DDR4 RAM, 2TB PCIe SSD, 802.11ac WiFi, Bluetooth, Webcan, Carbon Black, Windows 11 Pro', 'rating': '5.0', 'img_url': 'https://m.media-amazon.com/images/I/71R2LA5tZJL._AC_SX679_.jpg', 'price': ['S$1,299.09'], 'brand': 'Visit the Dell Store', 'category_heirarchy': ['Electronics', 'Computers, Components and Accessories', 'Laptops', 'Traditional Laptops']}\n",
      "51 {'item_url': 'https://www.amazon.sg/Dell-Inspiron-3520-i7-1255U-Anti-Glare/dp/B0C1TVRDXX/ref=sr_1_52?crid=2KMSNBK7YLCYZ&dib=eyJ2IjoiMSJ9.9KeC06QXTf6gA6WPf3Pn89mC72efP-jBWymwAj5jZNSYYn1BE1MXq4STa23qe2Mvz0xFlFytFr4MsWhXr-aQQejGkQoqKG7urQ9QBvDlUOHir9WKpMm9XGD1fhZL5ZkR7YPolrhbYNVvUFcw8hw0bplugNWMGJhNEg-p_vWsApFLFKXsYFRkPJpCcflUFf_Ybfm0Jsx1mfHONrPvXlTP6jU2wNcoUipG5lzh9gCES-d0HEao7JAPoKCjSS_ncELgqdBAv92yZ3nPmlkU6apTU_ojblyAMikQk4seChTP0U-r5_6Yjn0nQUfsUcP0fnkQMXJKqr9jsneLanKHfmeGff8cU3KvsrSj8ag2qE8Y9GRdXalONHOfqyW8YJcgKk-vsmuZJI0LBBDGiVXJ3_FmoZ3y8xc_EQfyuzl3iLj_e35F43ItBqBJKYRzvSPLbJ41.NfO5xBjeMMBzH7qbUQ0W2yS7u5fMpcO9zO8JIJrFlAs&dib_tag=se&keywords=laptop&qid=1737940846&sprefix=lapto%2Caps%2C290&sr=8-52', 'title': 'Dell Inspiron 15 3000 3520 15.6\" FHD 120Hz (Intel 10-Core i7-1255U, 16GB RAM, 512GB PCIe SSD, Iris Xe Graphics) Business Laptop, WVA Anti-Glare, Backlit Keyboard, Webcam, Wi-Fi 6, Win 11 Pro - 2023', 'rating': '4.1', 'img_url': 'https://m.media-amazon.com/images/I/61ZYlsZLonL._AC_SX679_.jpg', 'price': ['S$779.97'], 'brand': 'Visit the Dell Store', 'category_heirarchy': ['Electronics', 'Computers, Components and Accessories', 'Laptops', 'Traditional Laptops']}\n",
      "52 {'item_url': 'https://www.amazon.sg/HP-Touch-Screen-Graphics-Fingerprint-Backlit/dp/B0CHX7PDLY/ref=sr_1_53?crid=2KMSNBK7YLCYZ&dib=eyJ2IjoiMSJ9.9KeC06QXTf6gA6WPf3Pn89mC72efP-jBWymwAj5jZNSYYn1BE1MXq4STa23qe2Mvz0xFlFytFr4MsWhXr-aQQejGkQoqKG7urQ9QBvDlUOHir9WKpMm9XGD1fhZL5ZkR7YPolrhbYNVvUFcw8hw0bplugNWMGJhNEg-p_vWsApFLFKXsYFRkPJpCcflUFf_Ybfm0Jsx1mfHONrPvXlTP6jU2wNcoUipG5lzh9gCES-d0HEao7JAPoKCjSS_ncELgqdBAv92yZ3nPmlkU6apTU_ojblyAMikQk4seChTP0U-r5_6Yjn0nQUfsUcP0fnkQMXJKqr9jsneLanKHfmeGff8cU3KvsrSj8ag2qE8Y9GRdXalONHOfqyW8YJcgKk-vsmuZJI0LBBDGiVXJ3_FmoZ3y8xc_EQfyuzl3iLj_e35F43ItBqBJKYRzvSPLbJ41.NfO5xBjeMMBzH7qbUQ0W2yS7u5fMpcO9zO8JIJrFlAs&dib_tag=se&keywords=laptop&qid=1737940846&sprefix=lapto%2Caps%2C290&sr=8-53', 'title': 'HP Envy 2-in-1 14\" Full HD Touch-Screen Laptop, 8GB RAM, 512GB SSD, Intel Core i5 1335U, Intel Iris Xe Graphics, Fast Charge, Fingerprint, Backlit KB, Win11, Natural Silver, W/GaLiMu', 'rating': '4.4', 'img_url': 'https://m.media-amazon.com/images/I/61gSGWSsSLL._AC_SX679_.jpg', 'price': ['S$877.23'], 'brand': 'Visit the HP Store', 'category_heirarchy': ['Electronics', 'Computers, Components and Accessories', 'Laptops', '2-in-1 Laptops']}\n",
      "53 {'item_url': 'https://www.amazon.sg/Acer-Hexa-Core-Processor-GeForce-ANV15-41-R5N6/dp/B0CX2PS48B/ref=sr_1_54?crid=2KMSNBK7YLCYZ&dib=eyJ2IjoiMSJ9.9KeC06QXTf6gA6WPf3Pn89mC72efP-jBWymwAj5jZNSYYn1BE1MXq4STa23qe2Mvz0xFlFytFr4MsWhXr-aQQejGkQoqKG7urQ9QBvDlUOHir9WKpMm9XGD1fhZL5ZkR7YPolrhbYNVvUFcw8hw0bplugNWMGJhNEg-p_vWsApFLFKXsYFRkPJpCcflUFf_Ybfm0Jsx1mfHONrPvXlTP6jU2wNcoUipG5lzh9gCES-d0HEao7JAPoKCjSS_ncELgqdBAv92yZ3nPmlkU6apTU_ojblyAMikQk4seChTP0U-r5_6Yjn0nQUfsUcP0fnkQMXJKqr9jsneLanKHfmeGff8cU3KvsrSj8ag2qE8Y9GRdXalONHOfqyW8YJcgKk-vsmuZJI0LBBDGiVXJ3_FmoZ3y8xc_EQfyuzl3iLj_e35F43ItBqBJKYRzvSPLbJ41.NfO5xBjeMMBzH7qbUQ0W2yS7u5fMpcO9zO8JIJrFlAs&dib_tag=se&keywords=laptop&qid=1737940846&sprefix=lapto%2Caps%2C290&sr=8-54', 'title': 'Acer Nitro V Gaming Laptop | AMD Ryzen 5 7535HS Hexa-Core Processor | NVIDIA GeForce RTX 4050 Laptop GPU | 15.6\" FHD IPS 144Hz Display | 8GB DDR5 | 512GB SSD | WiFi 6 | Backlit KB | ANV15-41-R5N6', 'rating': '4.1', 'img_url': 'https://m.media-amazon.com/images/I/71+zBYtAZ6L._AC_SX679_.jpg', 'price': ['S$1,257.33'], 'brand': 'Visit the Acer Store', 'category_heirarchy': ['Electronics', 'Computers, Components and Accessories', 'Laptops', 'Traditional Laptops']}\n",
      "54 {'item_url': 'https://www.amazon.sg/HP-EliteBook-Business-Laptop-Computer/dp/B09QFTGPQC/ref=sr_1_55?crid=2KMSNBK7YLCYZ&dib=eyJ2IjoiMSJ9.9KeC06QXTf6gA6WPf3Pn89mC72efP-jBWymwAj5jZNSYYn1BE1MXq4STa23qe2Mvz0xFlFytFr4MsWhXr-aQQejGkQoqKG7urQ9QBvDlUOHir9WKpMm9XGD1fhZL5ZkR7YPolrhbYNVvUFcw8hw0bplugNWMGJhNEg-p_vWsApFLFKXsYFRkPJpCcflUFf_Ybfm0Jsx1mfHONrPvXlTP6jU2wNcoUipG5lzh9gCES-d0HEao7JAPoKCjSS_ncELgqdBAv92yZ3nPmlkU6apTU_ojblyAMikQk4seChTP0U-r5_6Yjn0nQUfsUcP0fnkQMXJKqr9jsneLanKHfmeGff8cU3KvsrSj8ag2qE8Y9GRdXalONHOfqyW8YJcgKk-vsmuZJI0LBBDGiVXJ3_FmoZ3y8xc_EQfyuzl3iLj_e35F43ItBqBJKYRzvSPLbJ41.NfO5xBjeMMBzH7qbUQ0W2yS7u5fMpcO9zO8JIJrFlAs&dib_tag=se&keywords=laptop&qid=1737940846&sprefix=lapto%2Caps%2C290&sr=8-55', 'title': '2022 HP EliteBook 840 G8 14 FHD Business Laptop Computer, 11th Gen Intel 4 Core i5 1135G7(up Silver 16GB RAM I 512GB SSD', 'rating': '3.7', 'img_url': 'https://m.media-amazon.com/images/I/715LNG70-KL._AC_SX679_.jpg', 'price': ['S$814.08'], 'brand': 'Visit the HP Store', 'category_heirarchy': ['Electronics', 'Computers, Components and Accessories', 'Laptops', 'Traditional Laptops']}\n",
      "55 {'item_url': 'https://www.amazon.sg/Acer-Display-i3-N305-Graphics-AG15-31P-3947/dp/B0CV5ZSR17/ref=sr_1_56?crid=2KMSNBK7YLCYZ&dib=eyJ2IjoiMSJ9.9KeC06QXTf6gA6WPf3Pn89mC72efP-jBWymwAj5jZNSYYn1BE1MXq4STa23qe2Mvz0xFlFytFr4MsWhXr-aQQejGkQoqKG7urQ9QBvDlUOHir9WKpMm9XGD1fhZL5ZkR7YPolrhbYNVvUFcw8hw0bplugNWMGJhNEg-p_vWsApFLFKXsYFRkPJpCcflUFf_Ybfm0Jsx1mfHONrPvXlTP6jU2wNcoUipG5lzh9gCES-d0HEao7JAPoKCjSS_ncELgqdBAv92yZ3nPmlkU6apTU_ojblyAMikQk4seChTP0U-r5_6Yjn0nQUfsUcP0fnkQMXJKqr9jsneLanKHfmeGff8cU3KvsrSj8ag2qE8Y9GRdXalONHOfqyW8YJcgKk-vsmuZJI0LBBDGiVXJ3_FmoZ3y8xc_EQfyuzl3iLj_e35F43ItBqBJKYRzvSPLbJ41.NfO5xBjeMMBzH7qbUQ0W2yS7u5fMpcO9zO8JIJrFlAs&dib_tag=se&keywords=laptop&qid=1737940846&sprefix=lapto%2Caps%2C290&sr=8-56', 'title': 'Acer Aspire Go 15 Slim Laptop | 15.6\" Full HD IPS 1080P Display | Intel Core i3-N305| Intel UHD Graphics | 8GB LPDDR5 | 128GB HD | Wi-Fi 6 | AI PC | Windows 11 Home in S Mode | AG15-31P-3947', 'rating': '4.2', 'img_url': 'https://m.media-amazon.com/images/I/71wKJVtV-+L._AC_SX679_.jpg', 'price': ['S$461.12'], 'brand': 'Visit the Acer Store', 'category_heirarchy': ['Electronics', 'Computers, Components and Accessories', 'Laptops', 'Traditional Laptops']}\n",
      "56 {'item_url': 'https://www.amazon.sg/sspa/click?ie=UTF8&spc=MTo4MTgxNzIxMjcwNTA5NDExOjE3Mzc5NDA4NDY6c3BfYnRmOjEwNTM3MzU2MDM5ODo6MDo6&url=%2FProGrade-Digital-Professional-Filmmakers-Photographers%2Fdp%2FB07M68C7V5%2Fref%3Dsr_1_57_sspa%3Fcrid%3D2KMSNBK7YLCYZ%26dib%3DeyJ2IjoiMSJ9.9KeC06QXTf6gA6WPf3Pn89mC72efP-jBWymwAj5jZNSYYn1BE1MXq4STa23qe2Mvz0xFlFytFr4MsWhXr-aQQejGkQoqKG7urQ9QBvDlUOHir9WKpMm9XGD1fhZL5ZkR7YPolrhbYNVvUFcw8hw0bplugNWMGJhNEg-p_vWsApFLFKXsYFRkPJpCcflUFf_Ybfm0Jsx1mfHONrPvXlTP6jU2wNcoUipG5lzh9gCES-d0HEao7JAPoKCjSS_ncELgqdBAv92yZ3nPmlkU6apTUxooUPNsVVVs7Rro7yriSnI.EqF637RZz4jXrUW7i2K6slOSNjwJQCm8vuTbSMMechw%26dib_tag%3Dse%26keywords%3Dlaptop%26qid%3D1737940846%26sprefix%3Dlapto%252Caps%252C290%26sr%3D8-57-spons%26sp_csd%3Dd2lkZ2V0TmFtZT1zcF9idGY%26psc%3D1', 'title': 'ProGrade Digital SD UHS-II Dual-Slot Memory Card Reader | USB 3.2 Gen 2 For Professional Filmmakers, Photographers & Content Creators | By ProGrade Digital', 'rating': '4.7', 'img_url': 'https://m.media-amazon.com/images/I/71oadmgnMyL._AC_SX679_.jpg', 'price': ['S$114.99'], 'brand': 'Visit the ProGrade Digital Store', 'category_heirarchy': ['Electronics', 'Computers, Components and Accessories', 'Accessories', 'Memory Card Accessories', 'External Memory Card Readers']}\n",
      "57 {'item_url': 'https://www.amazon.sg/sspa/click?ie=UTF8&spc=MTo4MTgxNzIxMjcwNTA5NDExOjE3Mzc5NDA4NDY6c3BfYnRmOjMwMDA0MDk4OTY2NDQ2Mjo6MDo6&url=%2FPRISM-LAPTOP-HOLDER%2Fdp%2FB0B54XSG6X%2Fref%3Dsr_1_58_sspa%3Fcrid%3D2KMSNBK7YLCYZ%26dib%3DeyJ2IjoiMSJ9.9KeC06QXTf6gA6WPf3Pn89mC72efP-jBWymwAj5jZNSYYn1BE1MXq4STa23qe2Mvz0xFlFytFr4MsWhXr-aQQejGkQoqKG7urQ9QBvDlUOHir9WKpMm9XGD1fhZL5ZkR7YPolrhbYNVvUFcw8hw0bplugNWMGJhNEg-p_vWsApFLFKXsYFRkPJpCcflUFf_Ybfm0Jsx1mfHONrPvXlTP6jU2wNcoUipG5lzh9gCES-d0HEao7JAPoKCjSS_ncELgqdBAv92yZ3nPmlkU6apTUxooUPNsVVVs7Rro7yriSnI.EqF637RZz4jXrUW7i2K6slOSNjwJQCm8vuTbSMMechw%26dib_tag%3Dse%26keywords%3Dlaptop%26qid%3D1737940846%26sprefix%3Dlapto%252Caps%252C290%26sr%3D8-58-spons%26sp_csd%3Dd2lkZ2V0TmFtZT1zcF9idGY%26psc%3D1', 'title': 'PRISM+ LAPTOP HOLDER', 'rating': 'NA', 'img_url': 'https://m.media-amazon.com/images/I/41ReUlu+EXL._AC_SX679_.jpg', 'price': ['S$48.00'], 'brand': 'Visit the PRISM+ Store', 'category_heirarchy': ['Electronics', 'Computers, Components and Accessories', 'Accessories', 'Laptop Accessories', 'Stands']}\n",
      "58 {'item_url': 'https://www.amazon.sg/sspa/click?ie=UTF8&spc=MTo4MTgxNzIxMjcwNTA5NDExOjE3Mzc5NDA4NDY6c3BfYnRmOjMwMDAwMTg1OTM3ODg2Mjo6MDo6&url=%2FMountain-Stand-Devices-Vertical-Aluminium%2Fdp%2FB081TRFQ5G%2Fref%3Dsr_1_59_sspa%3Fcrid%3D2KMSNBK7YLCYZ%26dib%3DeyJ2IjoiMSJ9.9KeC06QXTf6gA6WPf3Pn89mC72efP-jBWymwAj5jZNSYYn1BE1MXq4STa23qe2Mvz0xFlFytFr4MsWhXr-aQQejGkQoqKG7urQ9QBvDlUOHir9WKpMm9XGD1fhZL5ZkR7YPolrhbYNVvUFcw8hw0bplugNWMGJhNEg-p_vWsApFLFKXsYFRkPJpCcflUFf_Ybfm0Jsx1mfHONrPvXlTP6jU2wNcoUipG5lzh9gCES-d0HEao7JAPoKCjSS_ncELgqdBAv92yZ3nPmlkU6apTUxooUPNsVVVs7Rro7yriSnI.EqF637RZz4jXrUW7i2K6slOSNjwJQCm8vuTbSMMechw%26dib_tag%3Dse%26keywords%3Dlaptop%26qid%3D1737940846%26sprefix%3Dlapto%252Caps%252C290%26sr%3D8-59-spons%26sp_csd%3Dd2lkZ2V0TmFtZT1zcF9idGY%26psc%3D1', 'title': 'Mountain Stand Laptop Stand With Dual Slots For 2 Laptops or Mobile Devices. Vertical Laptop Stand Made Of Aluminium For All Brands of Laptops Macbook, HP, Dell, Lenovo, Surface Silver Color', 'rating': '4.7', 'img_url': 'https://m.media-amazon.com/images/I/31Si3BocEWL._AC_.jpg', 'price': ['S$25.90'], 'brand': 'Visit the Mountain Stand Store', 'category_heirarchy': ['Electronics', 'Computers, Components and Accessories', 'Accessories', 'Laptop Accessories', 'Stands']}\n",
      "59 {'item_url': 'https://www.amazon.sg/sspa/click?ie=UTF8&spc=MTo4MTgxNzIxMjcwNTA5NDExOjE3Mzc5NDA4NDY6c3BfYnRmOjEyNDg4NzU1MzU5ODo6MDo6&url=%2FDell-32-UHD-Gaming-Monitor%2Fdp%2FB09WNG9QWR%2Fref%3Dsr_1_60_sspa%3Fcrid%3D2KMSNBK7YLCYZ%26dib%3DeyJ2IjoiMSJ9.9KeC06QXTf6gA6WPf3Pn89mC72efP-jBWymwAj5jZNSYYn1BE1MXq4STa23qe2Mvz0xFlFytFr4MsWhXr-aQQejGkQoqKG7urQ9QBvDlUOHir9WKpMm9XGD1fhZL5ZkR7YPolrhbYNVvUFcw8hw0bplugNWMGJhNEg-p_vWsApFLFKXsYFRkPJpCcflUFf_Ybfm0Jsx1mfHONrPvXlTP6jU2wNcoUipG5lzh9gCES-d0HEao7JAPoKCjSS_ncELgqdBAv92yZ3nPmlkU6apTUxooUPNsVVVs7Rro7yriSnI.EqF637RZz4jXrUW7i2K6slOSNjwJQCm8vuTbSMMechw%26dib_tag%3Dse%26keywords%3Dlaptop%26qid%3D1737940846%26sprefix%3Dlapto%252Caps%252C290%26sr%3D8-60-spons%26sp_csd%3Dd2lkZ2V0TmFtZT1zcF9idGY%26psc%3D1', 'title': 'Dell 32\" 4K UHD Gaming Monitor - G3223Q', 'rating': '4.3', 'img_url': 'https://m.media-amazon.com/images/I/81uBtdgcTfL._AC_SX679_.jpg', 'price': ['S$809.00'], 'brand': 'Visit the Dell Store', 'category_heirarchy': ['Electronics', 'Computers, Components and Accessories', 'Monitors']}\n"
     ]
    }
   ],
   "source": [
    "number_matching_pattern = '\\d[\\d.,]*'\n",
    "item_list = []\n",
    "i = 0\n",
    "for item_spec_url in item_spec_url_list:\n",
    "    driver.get(item_spec_url)\n",
    "    time.sleep(3)\n",
    "    item_html_source = driver.page_source\n",
    "    item_soup = BeautifulSoup(item_html_source, 'html.parser')\n",
    "    item_dict = {}\n",
    "    item_dict['item_url'] = item_spec_url\n",
    "    item_dict['title'] = (item_soup.find('span', id = 'productTitle').contents)[0].strip()\n",
    "    try:\n",
    "        item_dict['rating'] = item_soup.find('div', id = 'averageCustomerReviews').findAll('span')[3].contents[0].strip()\n",
    "    except: \n",
    "        item_dict['rating'] = 'NA'\n",
    "    item_dict['img_url'] = item_soup.find('img', id = 'landingImage').get('src')\n",
    "\n",
    "    try:\n",
    "        price_span_list = item_soup.find('div', id = 'corePrice_desktop').findAll('span', class_ = 'a-offscreen')\n",
    "        price_list = []\n",
    "        for price_span in price_span_list:\n",
    "            price_list.append(price_span.get_text().strip())\n",
    "        item_dict['price'] = price_list\n",
    "    except:\n",
    "        price_span_list = item_soup.find('div', id = 'corePriceDisplay_desktop_feature_div').findAll('span', class_ = 'aok-offscreen')\n",
    "        price_list = []\n",
    "        for price_span in price_span_list:\n",
    "            price_list.append(price_span.get_text().strip())\n",
    "        item_dict['price'] = price_list\n",
    "\n",
    "    try:\n",
    "        item_dict['brand'] = item_soup.find('div', id = 'titleBlockLeftSection').getText().strip()\n",
    "    except:\n",
    "        item_dict['brand'] = item_soup.find('div', id = 'bylineInfo_feature_div').getText().strip()\n",
    "\n",
    "    product_overview = item_soup.find('div', id = 'dp').find('div', id = 'dp-container').find('div', id = 'ppd').find('div', id = 'centerCol').find('div', id = 'productOverview_feature_div').text.strip()\n",
    "    item_dict['description'] = product_overview\n",
    "\n",
    "    try:  \n",
    "        num_reviews_str = item_soup.find('span',id = 'acrCustomerReviewText').getText()\n",
    "        matches = re.findall(number_matching_pattern, num_reviews_str)\n",
    "        item_dict['num_reviews'] = float(matches[0].replace(',',''))\n",
    "    except: \n",
    "        item_dict['num_reviews'] = 0 \n",
    "\n",
    "    categs_component_list = item_soup.find('div', id ='wayfinding-breadcrumbs_container').findAll('li')\n",
    "    categ_list = []\n",
    "    for li_component in categs_component_list:\n",
    "        if not li_component.find('span', class_ = 'a-list-item a-color-tertiary'):\n",
    "            categ_list.append(li_component.getText().strip())\n",
    "    item_dict['category_heirarchy'] = categ_list\n",
    "\n",
    "    item_list.append(item_dict)\n",
    "    print(i, item_dict)\n",
    "    i = i + 1"
   ]
  },
  {
   "cell_type": "code",
   "execution_count": 19,
   "metadata": {},
   "outputs": [
    {
     "data": {
      "text/plain": [
       "50"
      ]
     },
     "execution_count": 19,
     "metadata": {},
     "output_type": "execute_result"
    }
   ],
   "source": [
    "len(item_list)"
   ]
  },
  {
   "cell_type": "code",
   "execution_count": 20,
   "metadata": {},
   "outputs": [
    {
     "data": {
      "text/plain": [
       "{'item_url': 'https://www.amazon.sg/Royal-Dansk-Selection-Preservatives-Coloring/dp/B000FNFL0G/ref=sr_1_50?crid=2J8KB0YRCAB55&dib=eyJ2IjoiMSJ9.J1IyA4tn6MQptVwC5lf-NZGxIhH8-mvMIdB-p_IGpZYpjSsh5ZzHq_KT-I_E1GFqKluqoHB-fcWYlBA14yPdTUxGCwr5DMGHiOMkKqWFGnBZodg5tJcv5a_e-epK3A25hKKklFEoJENOWuaPuO64mWx-o4NGrJVGge5nLY2_OjyjLwcDsNEWPzeVdBfOFFmHLT3KAykUWVYUiBpQIzcGXBcA7lgD9W77-gKOwyHHvw9cgtOP51TkizJAOUXcmkvHhGagS566vjQiRupD_U6nnLRJtQY-Rp4jOtS_IbRpGtMH2pOQHS41IoWLIePoZLFIj_jdXdSVmibNQxvBZkxAPozWVuVv6_b7Zm8OMZz0bbq3wLJw8huVixE-p3VfjrfSyox3ihpx570hF_10Yh2kuvfORKUnnfW9P0J87HNzwAfCeXvgNInIG5mg7juNQwSK.veN-6FvSbUHjA2rbgLYdWjKdXZfykBqKAHXi2scwKp4&dib_tag=se&keywords=groceries&qid=1737940129&sprefix=grocerie%2Caps%2C281&sr=8-50',\n",
       " 'title': 'Royal Dansk Danish Cookie Selection, No Preservatives or Coloring Added, 12 Oz. (Pack of 1)',\n",
       " 'rating': '4.6',\n",
       " 'img_url': 'https://m.media-amazon.com/images/I/91s1TM9gGnL._AC_SX679_.jpg',\n",
       " 'price': ['S$28.00'],\n",
       " 'brand': 'Brand: Royal Dansk',\n",
       " 'category_heirarchy': ['Grocery',\n",
       "  'Snacks & Sweets',\n",
       "  'Snack Foods',\n",
       "  'Snack Cakes & Pastries',\n",
       "  'Danish Pastries']}"
      ]
     },
     "execution_count": 20,
     "metadata": {},
     "output_type": "execute_result"
    }
   ],
   "source": [
    "item_list[-1]"
   ]
  },
  {
   "cell_type": "code",
   "execution_count": 21,
   "metadata": {},
   "outputs": [
    {
     "name": "stdout",
     "output_type": "stream",
     "text": [
      "Data saved to groceries_data_1_48.json.\n"
     ]
    }
   ],
   "source": [
    "import json\n",
    "\n",
    "# Specify the JSON file name\n",
    "file_name = \"groceries_data_1_48.json\"\n",
    "\n",
    "# Save the list of dictionaries to the JSON file\n",
    "with open(file_name, \"w\") as json_file:\n",
    "    json.dump(item_list, json_file, indent=4)  # `indent=4` makes the JSON file readable\n",
    "\n",
    "print(f\"Data saved to {file_name}.\")"
   ]
  },
  {
   "cell_type": "code",
   "execution_count": 109,
   "metadata": {},
   "outputs": [
    {
     "data": {
      "text/plain": [
       "{'item_url': 'https://www.amazon.sg/Steve-Madden-Bevelyn-Convertible-Crossbody/dp/B0CQKKRH4M/ref=sr_1_1?content-id=amzn1.sym.5e505bc2-b07e-47e6-b40c-4822c9c12b88&dib=eyJ2IjoiMSJ9.bzAOnQw30-4PBRgODFePKQY5Q45ezvfjAH6UPSvhO4BqdvNNLgqT99l9Mub8cCX5M-fU1RNUy7hI7qcu_ENczLdYwURDCWqFKKHOBNbjTtKYd5OlalxaHi4LZEOb5snWfjA3UgqbTXDhS40UWQ20NaFPvQNaazjD2H04Y-3W6-TKxLiHgtbV95VCgF_xn5AQ0admZHXH0r1u8DFwEq_RyxKththIqSsmQKKhVbatWmSzxGtffdscuYhZKX8_R58ZH6nrCKfdz2ggdNUqLq_4bxYBPGmKNT2C6RcFW89Ws27n8s0UcSAfh8sf43PYAnaezC4x3ufvApQxNN_gzG6sf37rh9QwtwUt_5XlsjrMb_MVNov06iSk4iSE-NQrP5-EePKP1WKMyXR9DbOGW2dFr-uG-dR9BG0ZHz84mfiwHjXi7LQKFwRJzrr4agX2QuYL.B4nvd0mTIuxeviwIyqyB-oo2nXGaJ62sQ05xrHfO1T0&dib_tag=se&m=AYH85219XLWXU&pd_rd_r=0c6cde10-08d8-489b-96fd-b43162f8c19e&pd_rd_w=9ZaaW&pd_rd_wg=2h50f&qid=1737737752&refinements=p_6%3AAYH85219XLWXU&s=fashion&sr=1-1',\n",
       " 'title': 'Steve Madden Bevelyn Convertible Crossbody Bag',\n",
       " 'rating': '4.5',\n",
       " 'img_url': 'https://m.media-amazon.com/images/I/61-Sv8mtOqL._AC_SY695_.jpg'}"
      ]
     },
     "execution_count": 109,
     "metadata": {},
     "output_type": "execute_result"
    }
   ],
   "source": [
    "item_dict"
   ]
  },
  {
   "cell_type": "code",
   "execution_count": 129,
   "metadata": {},
   "outputs": [
    {
     "data": {
      "text/plain": [
       "'Brand: Helly Hansen'"
      ]
     },
     "execution_count": 129,
     "metadata": {},
     "output_type": "execute_result"
    }
   ],
   "source": [
    "item_soup.find('div', id = 'bylineInfo_feature_div').getText().strip()"
   ]
  },
  {
   "cell_type": "code",
   "execution_count": 165,
   "metadata": {},
   "outputs": [],
   "source": [
    "from selenium.webdriver.support.ui import WebDriverWait\n",
    "from selenium.webdriver.support import expected_conditions as EC\n",
    "from selenium.webdriver.common.keys import Keys"
   ]
  },
  {
   "cell_type": "code",
   "execution_count": null,
   "metadata": {},
   "outputs": [],
   "source": []
  },
  {
   "cell_type": "code",
   "execution_count": 166,
   "metadata": {},
   "outputs": [],
   "source": [
    "search_bar = WebDriverWait(driver, 10).until(\n",
    "    EC.presence_of_element_located((By.ID, 'twotabsearchtextbox'))\n",
    ")\n",
    "search_bar.send_keys(\"iphone\")\n",
    "search_bar.send_keys(Keys.RETURN)  # Simulates pressing Enter"
   ]
  },
  {
   "cell_type": "code",
   "execution_count": 169,
   "metadata": {},
   "outputs": [],
   "source": [
    "search_bar = WebDriverWait(driver, 10).until(\n",
    "    EC.presence_of_element_located((By.ID, 'twotabsearchtextbox'))\n",
    ")\n",
    "search_bar.clear()"
   ]
  },
  {
   "cell_type": "code",
   "execution_count": 170,
   "metadata": {},
   "outputs": [],
   "source": [
    "search_bar.send_keys(Keys.ESCAPE)  # Simulates pressing Enter\n"
   ]
  },
  {
   "cell_type": "code",
   "execution_count": 43,
   "metadata": {},
   "outputs": [
    {
     "data": {
      "text/plain": [
       "'Brand   Dell     Screen size   32 Inches     Resolution   4K UHD 2160p     Aspect ratio   16:9     Screen surface description   Glossy     Response time   1 Milliseconds     Refresh rate   60     Maximum display resolution   3840 x 2160 Pixels     Special features   Anti Glare Screen     Connectivity technology   HDMI , DP, USB      See more'"
      ]
     },
     "execution_count": 43,
     "metadata": {},
     "output_type": "execute_result"
    }
   ],
   "source": [
    "item_soup.find('div', id = 'dp').find('div', id = 'dp-container').find('div', id = 'ppd').find('div', id = 'centerCol').find('div', id = 'productOverview_feature_div').text.strip()\n"
   ]
  },
  {
   "cell_type": "code",
   "execution_count": 46,
   "metadata": {},
   "outputs": [
    {
     "data": {
      "text/plain": [
       "[<li class=\"a-spacing-mini\"><span class=\"a-list-item\"> Dell 32\" 4K UHD Gaming Monitor - G3223Q  </span></li>,\n",
       " <li class=\"a-spacing-mini\"><span class=\"a-list-item\"> Dell  </span></li>]"
      ]
     },
     "execution_count": 46,
     "metadata": {},
     "output_type": "execute_result"
    }
   ],
   "source": [
    "item_soup.find('div', id = 'dp').find('div', id = 'dp-container').find('div', id = 'ppd').find('div', id = 'centerCol').find('div', id = 'feature-bullets').find_all('li')"
   ]
  },
  {
   "cell_type": "code",
   "execution_count": 50,
   "metadata": {},
   "outputs": [],
   "source": [
    "table = item_soup.find('table', id = 'productDetails_techSpec_section_1')"
   ]
  },
  {
   "cell_type": "code",
   "execution_count": 51,
   "metadata": {},
   "outputs": [
    {
     "name": "stdout",
     "output_type": "stream",
     "text": [
      "{'Brand': '\\u200eDell', 'Manufacturer': '\\u200eDell Computers', 'Series': '\\u200eG3223Q', 'Item Height': '\\u200e45.9 centimetres', 'Item Width': '\\u200e72.53 centimetres', 'Standing screen display size': '\\u200e32 Inches', 'Display Resolution': '\\u200e3840x2160', 'Resolution': '\\u200e3840 x 2160 Pixels', 'Processor Count': '\\u200e1', 'Voltage': '\\u200e240 Volts (AC)', 'Are Batteries Included': '\\u200eNo', 'Language': '\\u200eFrench', 'Item model number': '\\u200eG3223Q', 'Product Dimensions': '\\u200e24.69 x 72.53 x 45.9 cm; 6.03 kg', 'ASIN': '\\u200eB09WNG9QWR'}\n"
     ]
    }
   ],
   "source": [
    "rows = table.find_all('tr')\n",
    "\n",
    "# Extract key-value pairs from the rows\n",
    "data = {}\n",
    "for row in rows:\n",
    "    key = row.find('th').get_text(strip=True)\n",
    "    value = row.find('td').get_text(strip=True)\n",
    "    data[key] = value\n",
    "\n",
    "# Print the extracted data\n",
    "print(data)"
   ]
  },
  {
   "cell_type": "code",
   "execution_count": 58,
   "metadata": {},
   "outputs": [
    {
     "ename": "IndentationError",
     "evalue": "unindent does not match any outer indentation level (<tokenize>, line 5)",
     "output_type": "error",
     "traceback": [
      "\u001b[0;36m  File \u001b[0;32m<tokenize>:5\u001b[0;36m\u001b[0m\n\u001b[0;31m    item_dict['category_heirarchy'] = categ_list\u001b[0m\n\u001b[0m    ^\u001b[0m\n\u001b[0;31mIndentationError\u001b[0m\u001b[0;31m:\u001b[0m unindent does not match any outer indentation level\n"
     ]
    }
   ],
   "source": [
    "ul_items = item_soup.find('div', id = 'dp').find('div', id = 'dp-container').find('div', id = 'ppd').find('div', id = 'centerCol').find('div', id = 'feature-bullets').find('ul', class_ = 'a-unordered-list a-vertical a-spacing-mini').find_all('li')\n",
    "for li_component in categs_component_list:\n",
    "        if not li_component.find('span', class_ = 'a-list-item a-color-tertiary'):\n",
    "            categ_list.append(li_component.getText().strip())\n",
    "    item_dict['category_heirarchy'] = categ_list"
   ]
  },
  {
   "cell_type": "code",
   "execution_count": null,
   "metadata": {},
   "outputs": [],
   "source": []
  },
  {
   "cell_type": "code",
   "execution_count": 72,
   "metadata": {},
   "outputs": [
    {
     "name": "stdout",
     "output_type": "stream",
     "text": [
      "12380.214\n"
     ]
    }
   ],
   "source": [
    "text = item_soup.find('span',id = 'acrCustomerReviewText').getText()\n",
    "text = '12,380.214'\n",
    "number_matching_pattern = '\\d[\\d.,]*'\n",
    "matches = re.findall(number_matching_pattern, text)\n",
    "print(float(matches[0].replace(',','')))"
   ]
  },
  {
   "cell_type": "code",
   "execution_count": 84,
   "metadata": {},
   "outputs": [
    {
     "data": {
      "text/plain": [
       "'Product details  \\n\\n  \\nMaterial composition \\n  \\n100% Cotton \\n  \\n\\n  \\nCare instructions \\n  \\nHand Wash Only \\n  \\n\\n  \\nClosure type \\n  \\nButton \\n  \\n   About this item   Milano/New York Logo 4 Button Closure Short Sleeve   See more About this item'"
      ]
     },
     "execution_count": 84,
     "metadata": {},
     "output_type": "execute_result"
    }
   ],
   "source": [
    "item_soup.find('div', id = 'productFactsDesktop_feature_div').getText().strip()"
   ]
  },
  {
   "cell_type": "code",
   "execution_count": null,
   "metadata": {},
   "outputs": [],
   "source": []
  }
 ],
 "metadata": {
  "kernelspec": {
   "display_name": "base",
   "language": "python",
   "name": "python3"
  },
  "language_info": {
   "codemirror_mode": {
    "name": "ipython",
    "version": 3
   },
   "file_extension": ".py",
   "mimetype": "text/x-python",
   "name": "python",
   "nbconvert_exporter": "python",
   "pygments_lexer": "ipython3",
   "version": "3.9.2"
  }
 },
 "nbformat": 4,
 "nbformat_minor": 2
}
